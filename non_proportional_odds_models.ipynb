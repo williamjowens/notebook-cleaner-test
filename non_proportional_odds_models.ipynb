{
 "cells": [
  {
   "cell_type": "markdown",
   "metadata": {
    "id": "_ZMb0dJAVPie"
   },
   "source": [
    "# Installs & Imports"
   ]
  },
  {
   "cell_type": "code",
   "execution_count": 1,
   "metadata": {
    "id": "kb4tNERps815"
   },
   "outputs": [],
   "source": [
    "!pip install -q pymc pytensor"
   ]
  },
  {
   "cell_type": "code",
   "execution_count": 2,
   "metadata": {
    "id": "rKzfvG5MVTHZ"
   },
   "outputs": [],
   "source": [
    "import numpy as np\n",
    "import pandas as pd\n",
    "import pymc as pm\n",
    "import pytensor.tensor as pt\n",
    "from sklearn.model_selection import train_test_split\n",
    "from sklearn.metrics import accuracy_score, confusion_matrix\n",
    "import matplotlib.pyplot as plt\n",
    "import seaborn as sns\n",
    "import statsmodels.api as sm\n",
    "from statsmodels.miscmodels.ordinal_model import OrderedModel\n",
    "from statsmodels.discrete.discrete_model import MNLogit\n",
    "from scipy import stats"
   ]
  },
  {
   "cell_type": "markdown",
   "metadata": {
    "id": "6ZQ-oqdqQ_7J"
   },
   "source": [
    "# Data Generation"
   ]
  },
  {
   "cell_type": "code",
   "execution_count": 3,
   "metadata": {
    "id": "Vglngz3MEI2T"
   },
   "outputs": [],
   "source": [
    "def simulate_ordinal_data(\n",
    "    n: int,\n",
    "    seed: int = 42\n",
    ") -> pd.DataFrame:\n",
    "    \"\"\"\n",
    "    Generate a DataFrame with:\n",
    "      - A 7-level ordinal outcome (0..6) under\n",
    "        logit(P(Y <= j)) = alpha_j + x_i * gamma_j\n",
    "      - Two predictors: Age (continuous) and Treatment (binary).\n",
    "    \"\"\"\n",
    "    np.random.seed(seed)\n",
    "    age = np.random.normal(loc=60, scale=15, size=n)\n",
    "    age_z = (age - age.mean()) / age.std()\n",
    "    treatment = np.random.binomial(n=1, p=0.5, size=n)\n",
    "\n",
    "    # Define 6 cutpoints (must be strictly increasing)\n",
    "    true_alphas = np.array([-2.0, -1.0, 0.0, 1.0, 2.0, 3.0])\n",
    "\n",
    "    # Define threshold-specific slopes: shape = (6 thresholds, 2 predictors)\n",
    "    true_betas = np.array([\n",
    "        [1.0, -0.5],\n",
    "        [0.8, -0.2],\n",
    "        [0.5, 0.0],\n",
    "        [0.2, 0.3],\n",
    "        [-0.3, 0.5],\n",
    "        [-0.8, 1.0],\n",
    "    ])\n",
    "\n",
    "    # Flip sign so that logit(P <= j) = alpha_j + x * gamma_j\n",
    "    true_gammas = -true_betas   # shape (6, 2)\n",
    "    X = np.column_stack([age_z, treatment])  # shape (n, 2)\n",
    "    eta = X.dot(true_gammas.T)  # shape (n, 6)\n",
    "\n",
    "    def draw_ordered(\n",
    "        eta_mat: np.ndarray,\n",
    "        alphas: np.ndarray\n",
    "    ) -> np.ndarray:\n",
    "        \"\"\"\n",
    "        Draw each Y_i from a non-proportional ordered logit:\n",
    "        P(Y_i = j) = sigmoid(alpha_j + eta_{i,j}) - sigmoid(alpha_{j-1} + eta_{i,j-1})\n",
    "        with alpha_0 = -infinity, alpha_7 = +infinity.\n",
    "        \"\"\"\n",
    "        n_obs, n_thr = eta_mat.shape  # n_thr == 6\n",
    "        y = np.zeros(n_obs, dtype=\"int32\")\n",
    "\n",
    "        for i in range(n_obs):\n",
    "            # (1) Compute logits = alpha_j + eta_{i,j}  for j=1..6\n",
    "            logits = alphas + eta_mat[i]   # length 6\n",
    "\n",
    "            # (2) Clip logits for numerical stability\n",
    "            logits = np.clip(logits, -500, 500)\n",
    "\n",
    "            # (3) Compute CDFs: sigmoid(logits) = P(Y_i <= j)\n",
    "            cdfs = 1.0 / (1.0 + np.exp(-logits))\n",
    "\n",
    "            # (4) Enforce monotonicity in case of numeric noise\n",
    "            cdfs = np.maximum.accumulate(cdfs)\n",
    "\n",
    "            # (5) Build full CDF array: [0, cdfs[0], ..., cdfs[5], 1]\n",
    "            cdfs_full = np.concatenate(([0.0], cdfs, [1.0]))  # length 8\n",
    "\n",
    "            # (6) Compute PMF over 7 categories: pmf[j] = cdfs_full[j+1] - cdfs_full[j]\n",
    "            pmf = cdfs_full[1:] - cdfs_full[:-1]  # length 7\n",
    "\n",
    "            # (7) Avoid tiny negative probabilities\n",
    "            pmf = np.maximum(pmf, 1e-10)\n",
    "\n",
    "            # (8) Normalize so it sums to 1\n",
    "            pmf = pmf / pmf.sum()\n",
    "\n",
    "            # (9) Sample category j = argmax of one-hot draw\n",
    "            y[i] = np.argmax(np.random.multinomial(1, pmf))\n",
    "\n",
    "        return y\n",
    "\n",
    "    y = draw_ordered(eta, true_alphas)\n",
    "\n",
    "    df = pd.DataFrame({\n",
    "        \"Severity\": y,\n",
    "        \"Age\": age,\n",
    "        \"Age_z\": age_z,\n",
    "        \"Treatment\": treatment\n",
    "    })\n",
    "\n",
    "    return df"
   ]
  },
  {
   "cell_type": "code",
   "execution_count": 4,
   "metadata": {
    "id": "0tTxvjr_VBHi"
   },
   "outputs": [],
   "source": [
    "# Call simulate_ordinal_data and split\n",
    "df = simulate_ordinal_data(n=2000, seed=42)\n",
    "train_df, test_df = train_test_split(\n",
    "    df,\n",
    "    test_size=0.2,\n",
    "    random_state=42,\n",
    "    stratify=df[\"Severity\"]\n",
    ")"
   ]
  },
  {
   "cell_type": "code",
   "execution_count": 5,
   "metadata": {
    "colab": {
     "base_uri": "https://localhost:8080/",
     "height": 338
    },
    "id": "IArLAQOQVBFg",
    "outputId": "9c429e90-5f20-40dd-a02d-189b2405c0e4"
   },
   "outputs": [
    {
     "name": "stdout",
     "output_type": "stream",
     "text": [
      "Train size: 1600\n",
      "Test size: 400\n",
      "\n",
      "Severity distribution (Train):\n"
     ]
    },
    {
     "data": {
      "application/vnd.google.colaboratory.intrinsic+json": {
       "summary": "{\n  \"name\": \"severity_df\",\n  \"rows\": 7,\n  \"fields\": [\n    {\n      \"column\": \"Severity\",\n      \"properties\": {\n        \"dtype\": \"int32\",\n        \"num_unique_values\": 7,\n        \"samples\": [\n          0,\n          1,\n          5\n        ],\n        \"semantic_type\": \"\",\n        \"description\": \"\"\n      }\n    },\n    {\n      \"column\": \"Count\",\n      \"properties\": {\n        \"dtype\": \"number\",\n        \"std\": 82,\n        \"min\": 106,\n        \"max\": 320,\n        \"num_unique_values\": 7,\n        \"samples\": [\n          286,\n          194,\n          106\n        ],\n        \"semantic_type\": \"\",\n        \"description\": \"\"\n      }\n    }\n  ]\n}",
       "type": "dataframe",
       "variable_name": "severity_df"
      },
      "text/html": [
       "\n",
       "  <div id=\"df-9e705c8a-d813-4031-aa4b-e6c9b2d7a929\" class=\"colab-df-container\">\n",
       "    <div>\n",
       "<style scoped>\n",
       "    .dataframe tbody tr th:only-of-type {\n",
       "        vertical-align: middle;\n",
       "    }\n",
       "\n",
       "    .dataframe tbody tr th {\n",
       "        vertical-align: top;\n",
       "    }\n",
       "\n",
       "    .dataframe thead th {\n",
       "        text-align: right;\n",
       "    }\n",
       "</style>\n",
       "<table border=\"1\" class=\"dataframe\">\n",
       "  <thead>\n",
       "    <tr style=\"text-align: right;\">\n",
       "      <th></th>\n",
       "      <th>Severity</th>\n",
       "      <th>Count</th>\n",
       "    </tr>\n",
       "  </thead>\n",
       "  <tbody>\n",
       "    <tr>\n",
       "      <th>0</th>\n",
       "      <td>0</td>\n",
       "      <td>286</td>\n",
       "    </tr>\n",
       "    <tr>\n",
       "      <th>1</th>\n",
       "      <td>1</td>\n",
       "      <td>194</td>\n",
       "    </tr>\n",
       "    <tr>\n",
       "      <th>2</th>\n",
       "      <td>2</td>\n",
       "      <td>299</td>\n",
       "    </tr>\n",
       "    <tr>\n",
       "      <th>3</th>\n",
       "      <td>3</td>\n",
       "      <td>320</td>\n",
       "    </tr>\n",
       "    <tr>\n",
       "      <th>4</th>\n",
       "      <td>4</td>\n",
       "      <td>253</td>\n",
       "    </tr>\n",
       "    <tr>\n",
       "      <th>5</th>\n",
       "      <td>5</td>\n",
       "      <td>106</td>\n",
       "    </tr>\n",
       "    <tr>\n",
       "      <th>6</th>\n",
       "      <td>6</td>\n",
       "      <td>142</td>\n",
       "    </tr>\n",
       "  </tbody>\n",
       "</table>\n",
       "</div>\n",
       "    <div class=\"colab-df-buttons\">\n",
       "\n",
       "  <div class=\"colab-df-container\">\n",
       "    <button class=\"colab-df-convert\" onclick=\"convertToInteractive('df-9e705c8a-d813-4031-aa4b-e6c9b2d7a929')\"\n",
       "            title=\"Convert this dataframe to an interactive table.\"\n",
       "            style=\"display:none;\">\n",
       "\n",
       "  <svg xmlns=\"http://www.w3.org/2000/svg\" height=\"24px\" viewBox=\"0 -960 960 960\">\n",
       "    <path d=\"M120-120v-720h720v720H120Zm60-500h600v-160H180v160Zm220 220h160v-160H400v160Zm0 220h160v-160H400v160ZM180-400h160v-160H180v160Zm440 0h160v-160H620v160ZM180-180h160v-160H180v160Zm440 0h160v-160H620v160Z\"/>\n",
       "  </svg>\n",
       "    </button>\n",
       "\n",
       "  <style>\n",
       "    .colab-df-container {\n",
       "      display:flex;\n",
       "      gap: 12px;\n",
       "    }\n",
       "\n",
       "    .colab-df-convert {\n",
       "      background-color: #E8F0FE;\n",
       "      border: none;\n",
       "      border-radius: 50%;\n",
       "      cursor: pointer;\n",
       "      display: none;\n",
       "      fill: #1967D2;\n",
       "      height: 32px;\n",
       "      padding: 0 0 0 0;\n",
       "      width: 32px;\n",
       "    }\n",
       "\n",
       "    .colab-df-convert:hover {\n",
       "      background-color: #E2EBFA;\n",
       "      box-shadow: 0px 1px 2px rgba(60, 64, 67, 0.3), 0px 1px 3px 1px rgba(60, 64, 67, 0.15);\n",
       "      fill: #174EA6;\n",
       "    }\n",
       "\n",
       "    .colab-df-buttons div {\n",
       "      margin-bottom: 4px;\n",
       "    }\n",
       "\n",
       "    [theme=dark] .colab-df-convert {\n",
       "      background-color: #3B4455;\n",
       "      fill: #D2E3FC;\n",
       "    }\n",
       "\n",
       "    [theme=dark] .colab-df-convert:hover {\n",
       "      background-color: #434B5C;\n",
       "      box-shadow: 0px 1px 3px 1px rgba(0, 0, 0, 0.15);\n",
       "      filter: drop-shadow(0px 1px 2px rgba(0, 0, 0, 0.3));\n",
       "      fill: #FFFFFF;\n",
       "    }\n",
       "  </style>\n",
       "\n",
       "    <script>\n",
       "      const buttonEl =\n",
       "        document.querySelector('#df-9e705c8a-d813-4031-aa4b-e6c9b2d7a929 button.colab-df-convert');\n",
       "      buttonEl.style.display =\n",
       "        google.colab.kernel.accessAllowed ? 'block' : 'none';\n",
       "\n",
       "      async function convertToInteractive(key) {\n",
       "        const element = document.querySelector('#df-9e705c8a-d813-4031-aa4b-e6c9b2d7a929');\n",
       "        const dataTable =\n",
       "          await google.colab.kernel.invokeFunction('convertToInteractive',\n",
       "                                                    [key], {});\n",
       "        if (!dataTable) return;\n",
       "\n",
       "        const docLinkHtml = 'Like what you see? Visit the ' +\n",
       "          '<a target=\"_blank\" href=https://colab.research.google.com/notebooks/data_table.ipynb>data table notebook</a>'\n",
       "          + ' to learn more about interactive tables.';\n",
       "        element.innerHTML = '';\n",
       "        dataTable['output_type'] = 'display_data';\n",
       "        await google.colab.output.renderOutput(dataTable, element);\n",
       "        const docLink = document.createElement('div');\n",
       "        docLink.innerHTML = docLinkHtml;\n",
       "        element.appendChild(docLink);\n",
       "      }\n",
       "    </script>\n",
       "  </div>\n",
       "\n",
       "\n",
       "    <div id=\"df-2c0ef093-74ee-4c99-bb9c-5ebf2ea877a4\">\n",
       "      <button class=\"colab-df-quickchart\" onclick=\"quickchart('df-2c0ef093-74ee-4c99-bb9c-5ebf2ea877a4')\"\n",
       "                title=\"Suggest charts\"\n",
       "                style=\"display:none;\">\n",
       "\n",
       "<svg xmlns=\"http://www.w3.org/2000/svg\" height=\"24px\"viewBox=\"0 0 24 24\"\n",
       "     width=\"24px\">\n",
       "    <g>\n",
       "        <path d=\"M19 3H5c-1.1 0-2 .9-2 2v14c0 1.1.9 2 2 2h14c1.1 0 2-.9 2-2V5c0-1.1-.9-2-2-2zM9 17H7v-7h2v7zm4 0h-2V7h2v10zm4 0h-2v-4h2v4z\"/>\n",
       "    </g>\n",
       "</svg>\n",
       "      </button>\n",
       "\n",
       "<style>\n",
       "  .colab-df-quickchart {\n",
       "      --bg-color: #E8F0FE;\n",
       "      --fill-color: #1967D2;\n",
       "      --hover-bg-color: #E2EBFA;\n",
       "      --hover-fill-color: #174EA6;\n",
       "      --disabled-fill-color: #AAA;\n",
       "      --disabled-bg-color: #DDD;\n",
       "  }\n",
       "\n",
       "  [theme=dark] .colab-df-quickchart {\n",
       "      --bg-color: #3B4455;\n",
       "      --fill-color: #D2E3FC;\n",
       "      --hover-bg-color: #434B5C;\n",
       "      --hover-fill-color: #FFFFFF;\n",
       "      --disabled-bg-color: #3B4455;\n",
       "      --disabled-fill-color: #666;\n",
       "  }\n",
       "\n",
       "  .colab-df-quickchart {\n",
       "    background-color: var(--bg-color);\n",
       "    border: none;\n",
       "    border-radius: 50%;\n",
       "    cursor: pointer;\n",
       "    display: none;\n",
       "    fill: var(--fill-color);\n",
       "    height: 32px;\n",
       "    padding: 0;\n",
       "    width: 32px;\n",
       "  }\n",
       "\n",
       "  .colab-df-quickchart:hover {\n",
       "    background-color: var(--hover-bg-color);\n",
       "    box-shadow: 0 1px 2px rgba(60, 64, 67, 0.3), 0 1px 3px 1px rgba(60, 64, 67, 0.15);\n",
       "    fill: var(--button-hover-fill-color);\n",
       "  }\n",
       "\n",
       "  .colab-df-quickchart-complete:disabled,\n",
       "  .colab-df-quickchart-complete:disabled:hover {\n",
       "    background-color: var(--disabled-bg-color);\n",
       "    fill: var(--disabled-fill-color);\n",
       "    box-shadow: none;\n",
       "  }\n",
       "\n",
       "  .colab-df-spinner {\n",
       "    border: 2px solid var(--fill-color);\n",
       "    border-color: transparent;\n",
       "    border-bottom-color: var(--fill-color);\n",
       "    animation:\n",
       "      spin 1s steps(1) infinite;\n",
       "  }\n",
       "\n",
       "  @keyframes spin {\n",
       "    0% {\n",
       "      border-color: transparent;\n",
       "      border-bottom-color: var(--fill-color);\n",
       "      border-left-color: var(--fill-color);\n",
       "    }\n",
       "    20% {\n",
       "      border-color: transparent;\n",
       "      border-left-color: var(--fill-color);\n",
       "      border-top-color: var(--fill-color);\n",
       "    }\n",
       "    30% {\n",
       "      border-color: transparent;\n",
       "      border-left-color: var(--fill-color);\n",
       "      border-top-color: var(--fill-color);\n",
       "      border-right-color: var(--fill-color);\n",
       "    }\n",
       "    40% {\n",
       "      border-color: transparent;\n",
       "      border-right-color: var(--fill-color);\n",
       "      border-top-color: var(--fill-color);\n",
       "    }\n",
       "    60% {\n",
       "      border-color: transparent;\n",
       "      border-right-color: var(--fill-color);\n",
       "    }\n",
       "    80% {\n",
       "      border-color: transparent;\n",
       "      border-right-color: var(--fill-color);\n",
       "      border-bottom-color: var(--fill-color);\n",
       "    }\n",
       "    90% {\n",
       "      border-color: transparent;\n",
       "      border-bottom-color: var(--fill-color);\n",
       "    }\n",
       "  }\n",
       "</style>\n",
       "\n",
       "      <script>\n",
       "        async function quickchart(key) {\n",
       "          const quickchartButtonEl =\n",
       "            document.querySelector('#' + key + ' button');\n",
       "          quickchartButtonEl.disabled = true;  // To prevent multiple clicks.\n",
       "          quickchartButtonEl.classList.add('colab-df-spinner');\n",
       "          try {\n",
       "            const charts = await google.colab.kernel.invokeFunction(\n",
       "                'suggestCharts', [key], {});\n",
       "          } catch (error) {\n",
       "            console.error('Error during call to suggestCharts:', error);\n",
       "          }\n",
       "          quickchartButtonEl.classList.remove('colab-df-spinner');\n",
       "          quickchartButtonEl.classList.add('colab-df-quickchart-complete');\n",
       "        }\n",
       "        (() => {\n",
       "          let quickchartButtonEl =\n",
       "            document.querySelector('#df-2c0ef093-74ee-4c99-bb9c-5ebf2ea877a4 button');\n",
       "          quickchartButtonEl.style.display =\n",
       "            google.colab.kernel.accessAllowed ? 'block' : 'none';\n",
       "        })();\n",
       "      </script>\n",
       "    </div>\n",
       "\n",
       "  <div id=\"id_24664fae-27e5-4625-9185-0b61964aeee3\">\n",
       "    <style>\n",
       "      .colab-df-generate {\n",
       "        background-color: #E8F0FE;\n",
       "        border: none;\n",
       "        border-radius: 50%;\n",
       "        cursor: pointer;\n",
       "        display: none;\n",
       "        fill: #1967D2;\n",
       "        height: 32px;\n",
       "        padding: 0 0 0 0;\n",
       "        width: 32px;\n",
       "      }\n",
       "\n",
       "      .colab-df-generate:hover {\n",
       "        background-color: #E2EBFA;\n",
       "        box-shadow: 0px 1px 2px rgba(60, 64, 67, 0.3), 0px 1px 3px 1px rgba(60, 64, 67, 0.15);\n",
       "        fill: #174EA6;\n",
       "      }\n",
       "\n",
       "      [theme=dark] .colab-df-generate {\n",
       "        background-color: #3B4455;\n",
       "        fill: #D2E3FC;\n",
       "      }\n",
       "\n",
       "      [theme=dark] .colab-df-generate:hover {\n",
       "        background-color: #434B5C;\n",
       "        box-shadow: 0px 1px 3px 1px rgba(0, 0, 0, 0.15);\n",
       "        filter: drop-shadow(0px 1px 2px rgba(0, 0, 0, 0.3));\n",
       "        fill: #FFFFFF;\n",
       "      }\n",
       "    </style>\n",
       "    <button class=\"colab-df-generate\" onclick=\"generateWithVariable('severity_df')\"\n",
       "            title=\"Generate code using this dataframe.\"\n",
       "            style=\"display:none;\">\n",
       "\n",
       "  <svg xmlns=\"http://www.w3.org/2000/svg\" height=\"24px\"viewBox=\"0 0 24 24\"\n",
       "       width=\"24px\">\n",
       "    <path d=\"M7,19H8.4L18.45,9,17,7.55,7,17.6ZM5,21V16.75L18.45,3.32a2,2,0,0,1,2.83,0l1.4,1.43a1.91,1.91,0,0,1,.58,1.4,1.91,1.91,0,0,1-.58,1.4L9.25,21ZM18.45,9,17,7.55Zm-12,3A5.31,5.31,0,0,0,4.9,8.1,5.31,5.31,0,0,0,1,6.5,5.31,5.31,0,0,0,4.9,4.9,5.31,5.31,0,0,0,6.5,1,5.31,5.31,0,0,0,8.1,4.9,5.31,5.31,0,0,0,12,6.5,5.46,5.46,0,0,0,6.5,12Z\"/>\n",
       "  </svg>\n",
       "    </button>\n",
       "    <script>\n",
       "      (() => {\n",
       "      const buttonEl =\n",
       "        document.querySelector('#id_24664fae-27e5-4625-9185-0b61964aeee3 button.colab-df-generate');\n",
       "      buttonEl.style.display =\n",
       "        google.colab.kernel.accessAllowed ? 'block' : 'none';\n",
       "\n",
       "      buttonEl.onclick = () => {\n",
       "        google.colab.notebook.generateWithVariable('severity_df');\n",
       "      }\n",
       "      })();\n",
       "    </script>\n",
       "  </div>\n",
       "\n",
       "    </div>\n",
       "  </div>\n"
      ],
      "text/plain": [
       "   Severity  Count\n",
       "0         0    286\n",
       "1         1    194\n",
       "2         2    299\n",
       "3         3    320\n",
       "4         4    253\n",
       "5         5    106\n",
       "6         6    142"
      ]
     },
     "metadata": {},
     "output_type": "display_data"
    }
   ],
   "source": [
    "# View the distributions\n",
    "print(\"Train size:\", train_df.shape[0])\n",
    "print(\"Test size:\", test_df.shape[0])\n",
    "print(\"\\nSeverity distribution (Train):\")\n",
    "counts = train_df[\"Severity\"].value_counts().sort_index()\n",
    "severity_df = (\n",
    "    counts\n",
    "    .rename_axis(\"Severity\")\n",
    "    .reset_index(name=\"Count\")\n",
    ")\n",
    "display(severity_df)"
   ]
  },
  {
   "cell_type": "code",
   "execution_count": 6,
   "metadata": {
    "colab": {
     "base_uri": "https://localhost:8080/"
    },
    "id": "W2lHQVO-dp9E",
    "outputId": "1d13bfcb-d34a-4eda-a642-6fba55cb8573"
   },
   "outputs": [
    {
     "name": "stdout",
     "output_type": "stream",
     "text": [
      "Null Values:\n",
      "Severity     0\n",
      "Age          0\n",
      "Age_z        0\n",
      "Treatment    0\n",
      "dtype: int64\n",
      "\n",
      "Infinite Values:\n",
      "Severity     0\n",
      "Age          0\n",
      "Age_z        0\n",
      "Treatment    0\n",
      "dtype: int64\n"
     ]
    }
   ],
   "source": [
    "# Check for null and infinite values\n",
    "print(\"Null Values:\")\n",
    "print(train_df.isnull().sum())\n",
    "print()\n",
    "print(\"Infinite Values:\")\n",
    "print(train_df.isin([np.inf, -np.inf]).sum())"
   ]
  },
  {
   "cell_type": "markdown",
   "metadata": {
    "id": "IvWOyGpI7Pox"
   },
   "source": [
    "# Oracle Performance"
   ]
  },
  {
   "cell_type": "code",
   "execution_count": 7,
   "metadata": {
    "id": "vxovg43k4LOV"
   },
   "outputs": [],
   "source": [
    "# True parameters used in data generation\n",
    "TRUE_ALPHAS = np.array([-2.0, -1.0, 0.0, 1.0, 2.0, 3.0])\n",
    "TRUE_BETAS = np.array([\n",
    "    [ 1.0, -0.5],  # beta1  (for alpha1 = -2.0)\n",
    "    [ 0.8, -0.2],  # beta2  (for alpha2 = -1.0)\n",
    "    [ 0.5, 0.0],   # beta3  (for alpha3 =  0.0)\n",
    "    [ 0.2, 0.3],   # beta4  (for alpha4 =  1.0)\n",
    "    [-0.3, 0.5],   # beta5  (for alpha5 =  2.0)\n",
    "    [-0.8, 1.0],   # beta6  (for alpha6 =  3.0)\n",
    "])"
   ]
  },
  {
   "cell_type": "code",
   "execution_count": 8,
   "metadata": {
    "id": "HWvAIItg5HIq"
   },
   "outputs": [],
   "source": [
    "def oracle_predict(\n",
    "    X: np.ndarray,\n",
    "    alphas: np.ndarray,\n",
    "    betas: np.ndarray\n",
    ") -> np.ndarray:\n",
    "    \"\"\"\n",
    "    Oracle (Bayes-optimal) classifier for the simulated ordinal data.\n",
    "    Given the true alphas (thresholds) and true betas (threshold-specific slopes),\n",
    "    it computes for each x_i the exact P(Y_i = j) and picks argmax_j P(Y_i = j).\n",
    "    The resulting fraction correct is the theoretical maximum accuracy expected\n",
    "    on these data.\n",
    "\n",
    "    Given:\n",
    "      - X: array of shape (n_obs, 2) containing [Age_z, Treatment]\n",
    "      - alphas: array of shape (6,) containing the six thresholds\n",
    "      - betas: array of shape (6, 2) containing threshold-specific slopes\n",
    "\n",
    "    Returns:\n",
    "      - preds: array of shape (n_obs,), the oracle's argmax_j P(Y=j | x_i).\n",
    "    \"\"\"\n",
    "    # (1) Compute eta = X dot betas.T -> shape (n_obs, 6)\n",
    "    eta = X.dot(betas.T)\n",
    "\n",
    "    # (2) logits = alpha[j] - eta[i, j] for all i, j -> shape (n_obs, 6)\n",
    "    logits = alphas.reshape(1, -1) - eta\n",
    "    logits = np.clip(logits, -500, 500)\n",
    "\n",
    "    # (3) cdfs = sigmoid(logits) = P(Y_i <= j) for j = 0..5 -> shape (n_obs, 6)\n",
    "    cdfs = 1.0 / (1.0 + np.exp(-logits))\n",
    "\n",
    "    # (4) Pad with 0 and 1 to form cdfs_full -> shape (n_obs, 8)\n",
    "    zeros = np.zeros((X.shape[0], 1))\n",
    "    ones = np.ones((X.shape[0], 1))\n",
    "    cdfs_full = np.concatenate([zeros, cdfs, ones], axis=1)\n",
    "\n",
    "    # (5) pmf over 7 categories = differences of successive cdfs_full -> shape (n_obs, 7)\n",
    "    pmf = cdfs_full[:, 1:] - cdfs_full[:, :-1]\n",
    "    pmf = np.clip(pmf, 0.0, None)\n",
    "    pmf = pmf / pmf.sum(axis=1, keepdims=True)\n",
    "\n",
    "    # (6) Oracle prediction = argmax_j pmf[i, j]\n",
    "    preds = np.argmax(pmf, axis=1)\n",
    "    return preds"
   ]
  },
  {
   "cell_type": "code",
   "execution_count": 9,
   "metadata": {
    "id": "-7B4-_si5pt4"
   },
   "outputs": [],
   "source": [
    "# Separate the train/test sets\n",
    "X_train = train_df[[\"Age_z\", \"Treatment\"]].values\n",
    "y_train = train_df[\"Severity\"].values\n",
    "X_test = test_df[[\"Age_z\", \"Treatment\"]].values\n",
    "y_test = test_df[\"Severity\"].values"
   ]
  },
  {
   "cell_type": "code",
   "execution_count": 10,
   "metadata": {
    "colab": {
     "base_uri": "https://localhost:8080/"
    },
    "id": "93YmGru651OC",
    "outputId": "37e3c4fd-edfa-42c3-9549-1b0f9ba3412d"
   },
   "outputs": [
    {
     "name": "stdout",
     "output_type": "stream",
     "text": [
      "Oracle accuracy on TRAIN set: 0.276\n",
      "Oracle accuracy on TEST set: 0.285\n"
     ]
    }
   ],
   "source": [
    "# Compute Oracle predictions\n",
    "oracle_train_preds = oracle_predict(X_train, TRUE_ALPHAS, TRUE_BETAS)\n",
    "oracle_test_preds = oracle_predict(X_test, TRUE_ALPHAS, TRUE_BETAS)\n",
    "\n",
    "# Measure accuracy\n",
    "oracle_train_acc = accuracy_score(y_train, oracle_train_preds)\n",
    "oracle_test_acc = accuracy_score(y_test, oracle_test_preds)\n",
    "\n",
    "print(f\"Oracle accuracy on TRAIN set: {oracle_train_acc:.3f}\")\n",
    "print(f\"Oracle accuracy on TEST set: {oracle_test_acc:.3f}\")"
   ]
  },
  {
   "cell_type": "code",
   "execution_count": 11,
   "metadata": {
    "colab": {
     "base_uri": "https://localhost:8080/"
    },
    "id": "hTa5DB8S543a",
    "outputId": "3f061b5f-5b96-4050-94cf-ec1d36212aec"
   },
   "outputs": [
    {
     "name": "stdout",
     "output_type": "stream",
     "text": [
      "Baseline (mode=3) accuracy on TRAIN: 0.200\n",
      "Baseline (mode=3) accuracy on TEST: 0.200\n"
     ]
    }
   ],
   "source": [
    "# Compare to a trivial baseline that always predicts the most frequent category\n",
    "most_common = df[\"Severity\"].mode().iloc[0]\n",
    "baseline_train_acc = accuracy_score(y_train, np.full_like(y_train, most_common))\n",
    "baseline_test_acc = accuracy_score(y_test, np.full_like(y_test, most_common))\n",
    "\n",
    "print(f\"Baseline (mode={most_common}) accuracy on TRAIN: {baseline_train_acc:.3f}\")\n",
    "print(f\"Baseline (mode={most_common}) accuracy on TEST: {baseline_test_acc:.3f}\")"
   ]
  },
  {
   "cell_type": "markdown",
   "metadata": {
    "id": "W_Hr8kyAI4uS"
   },
   "source": [
    "# PyMC Parameters"
   ]
  },
  {
   "cell_type": "code",
   "execution_count": 12,
   "metadata": {
    "id": "teiL9zwiGRXT"
   },
   "outputs": [],
   "source": [
    "# Set parameters\n",
    "N_DRAWS = 7500\n",
    "N_TUNE = 2500\n",
    "TARGET_ACCEPT = 0.99\n",
    "MAX_TREEDEPTH = 12"
   ]
  },
  {
   "cell_type": "markdown",
   "metadata": {
    "id": "N3JgCR5JRDEO"
   },
   "source": [
    "# Proportional Odds Model"
   ]
  },
  {
   "cell_type": "code",
   "execution_count": 13,
   "metadata": {
    "id": "3DeEunfJoX0T"
   },
   "outputs": [],
   "source": [
    "# Proportional Odds Model (POM)\n",
    "def fit_proportional_odds(\n",
    "    train_df: pd.DataFrame,\n",
    "    draws: int = 1000,\n",
    "    tune: int = 1000,\n",
    "    chains: int = 2,\n",
    "    target_accept: float = 0.9,\n",
    "    max_treedepth: int = 10\n",
    ") -> pm.backends.base.MultiTrace:\n",
    "    \"\"\"\n",
    "    Fit a Proportional Odds Model in PyMC.\n",
    "    \"\"\"\n",
    "    with pm.Model() as model:\n",
    "        # Base location for the first cutpoint\n",
    "        alpha_0 = pm.Normal(\"alpha_0\", mu=0, sigma=2)\n",
    "\n",
    "        # Five strictly positive gaps delta_0..delta_4 so that:\n",
    "        # raw_alphas = [\n",
    "        #     alpha_0,\n",
    "        #     alpha_0 + delta[0],\n",
    "        #     alpha_0 + delta[0] + delta[1],\n",
    "        #     alpha_0 + delta[0] + delta[1] + delta[2],\n",
    "        #     alpha_0 + delta[0] + delta[1] + delta[2] + delta[3],\n",
    "        #     alpha_0 + delta[0] + delta[1] + delta[2] + delta[3] + delta[4]\n",
    "        # ]\n",
    "        delta = pm.HalfNormal(\"delta\", sigma=1, shape=5)\n",
    "\n",
    "        increments = pm.math.stack(\n",
    "            [alpha_0 + pm.math.sum(delta[:i]) for i in range(1, 6)]\n",
    "        )\n",
    "\n",
    "        alpha0_vec = pm.math.stack([alpha_0])\n",
    "        raw_alphas = pm.math.concatenate([alpha0_vec, increments], axis=0)\n",
    "\n",
    "        # Clip cutpoints\n",
    "        alphas = pm.Deterministic(\"alphas\", var=pm.math.clip(raw_alphas, -15, 15))\n",
    "\n",
    "        # Regression coefficients (shared across all thresholds)\n",
    "        beta = pm.Normal(\"beta\", mu=0, sigma=2, shape=2)\n",
    "\n",
    "        # Extract predictor matrix\n",
    "        X = train_df[[\"Age_z\", \"Treatment\"]].to_numpy()\n",
    "\n",
    "        # Linear predictor and clipping\n",
    "        raw_eta = pt.dot(X, beta)\n",
    "        eta = pm.Deterministic(\"eta\", var=pm.math.clip(raw_eta, -15, 15))\n",
    "\n",
    "        # Likelihood\n",
    "        pm.OrderedLogistic(\n",
    "            name=\"y_obs\",\n",
    "            eta=eta,\n",
    "            cutpoints=alphas,\n",
    "            observed=train_df[\"Severity\"].to_numpy()\n",
    "        )\n",
    "\n",
    "        # Sampling\n",
    "        trace = pm.sample(\n",
    "            draws=draws,\n",
    "            tune=tune,\n",
    "            chains=chains,\n",
    "            target_accept=target_accept,\n",
    "            max_treedepth=max_treedepth,\n",
    "            return_inferencedata=False\n",
    "        )\n",
    "\n",
    "    return trace"
   ]
  },
  {
   "cell_type": "code",
   "execution_count": 14,
   "metadata": {
    "colab": {
     "base_uri": "https://localhost:8080/",
     "height": 130,
     "referenced_widgets": [
      "5ffff8dbd9c846b2b03b1df7c98c2d76",
      "209913818f8a4f18aeb1b595ec1cda6b"
     ]
    },
    "id": "AqyECfMgTxPj",
    "outputId": "495d7b86-15d7-4d98-f564-92804fb9f25d"
   },
   "outputs": [
    {
     "data": {
      "application/vnd.jupyter.widget-view+json": {
       "model_id": "5ffff8dbd9c846b2b03b1df7c98c2d76",
       "version_major": 2,
       "version_minor": 0
      },
      "text/plain": [
       "Output()"
      ]
     },
     "metadata": {},
     "output_type": "display_data"
    },
    {
     "data": {
      "text/html": [
       "<pre style=\"white-space:pre;overflow-x:auto;line-height:normal;font-family:Menlo,'DejaVu Sans Mono',consolas,'Courier New',monospace\"></pre>\n"
      ],
      "text/plain": []
     },
     "metadata": {},
     "output_type": "display_data"
    },
    {
     "name": "stdout",
     "output_type": "stream",
     "text": [
      "POM fitting complete.\n"
     ]
    }
   ],
   "source": [
    "# Call fit_proportional_odds\n",
    "trace_pom = fit_proportional_odds(\n",
    "    train_df,\n",
    "    draws=N_DRAWS,\n",
    "    tune=N_TUNE,\n",
    "    target_accept=TARGET_ACCEPT,\n",
    "    max_treedepth=MAX_TREEDEPTH\n",
    ")\n",
    "print(\"POM fitting complete.\")"
   ]
  },
  {
   "cell_type": "markdown",
   "metadata": {
    "id": "Zzq5vha3RFsv"
   },
   "source": [
    "# Non-Proportional Odds Model"
   ]
  },
  {
   "cell_type": "code",
   "execution_count": 15,
   "metadata": {
    "id": "JKQoJS1BoVIt"
   },
   "outputs": [],
   "source": [
    "# Non-Proportional Odds Model (NPOM)\n",
    "def fit_nonproportional_odds(\n",
    "    train_df: pd.DataFrame,\n",
    "    draws: int = 1000,\n",
    "    tune: int = 1000,\n",
    "    chains: int = 2,\n",
    "    target_accept: float = 0.9,\n",
    "    max_treedepth: int = 10\n",
    ") -> pm.backends.base.MultiTrace:\n",
    "    \"\"\"\n",
    "    Fit a Non-Proportional Odds Model in PyMC.\n",
    "    \"\"\"\n",
    "    with pm.Model() as model:\n",
    "        # Base location for the first cutpoint\n",
    "        alpha_0 = pm.Normal(\"alpha_0\", mu=0, sigma=2)\n",
    "\n",
    "        # Five strictly positive gaps delta_0..delta_4 so that:\n",
    "        # raw_alphas = [\n",
    "        #     alpha_0,\n",
    "        #     alpha_0 + delta[0],\n",
    "        #     alpha_0 + delta[0] + delta[1],\n",
    "        #     alpha_0 + delta[0] + delta[1] + delta[2],\n",
    "        #     alpha_0 + delta[0] + delta[1] + delta[2] + delta[3],\n",
    "        #     alpha_0 + delta[0] + delta[1] + delta[2] + delta[3] + delta[4]\n",
    "        # ]\n",
    "        delta = pm.HalfNormal(\"delta\", sigma=1, shape=5)\n",
    "\n",
    "        increments = pm.math.stack(\n",
    "            [alpha_0 + pm.math.sum(delta[:i]) for i in range(1, 6)]\n",
    "        )\n",
    "\n",
    "        alpha0_vec = pm.math.stack([alpha_0])\n",
    "        raw_alphas = pm.math.concatenate([alpha0_vec, increments], axis=0)\n",
    "\n",
    "        # Clip cutpoints\n",
    "        alphas = pm.Deterministic(\"alphas\", var=pm.math.clip(raw_alphas, -15, 15))\n",
    "\n",
    "        # Threshold-specific regression coefficients\n",
    "        betas = pm.Normal(\"betas\", mu=0, sigma=2, shape=(6, 2))\n",
    "\n",
    "        # Extract predictor matrix\n",
    "        X = train_df[[\"Age_z\", \"Treatment\"]].to_numpy()\n",
    "        n_obs = X.shape[0]\n",
    "\n",
    "        # Compute raw linear predictors for each threshold\n",
    "        raw_eta = pt.dot(X, betas.T)  # (n_obs, 6)\n",
    "\n",
    "        # Build cumulative probabilities threshold by threshold\n",
    "        cumprobs_list = []\n",
    "        for j in range(6):\n",
    "            # Compute raw logit at threshold j\n",
    "            raw_logit_j = alphas[j] - raw_eta[:, j]\n",
    "\n",
    "            # Clip logit\n",
    "            logit_j = pm.math.clip(raw_logit_j, -15, 15)\n",
    "\n",
    "            # Sigmoid to get probability\n",
    "            prob_j = pm.math.sigmoid(logit_j)\n",
    "\n",
    "            if j == 0:\n",
    "                cumprobs_list.append(prob_j)\n",
    "            else:\n",
    "                # Enforce monotonicity: cumprobs[j] >= cumprobs[j-1]\n",
    "                cumprobs_list.append(pm.math.maximum(prob_j, cumprobs_list[j - 1]))\n",
    "\n",
    "        cumprobs_stacked = pm.math.stack(cumprobs_list, axis=1)\n",
    "\n",
    "        # Add boundaries\n",
    "        zeros = pt.zeros((n_obs, 1))\n",
    "        ones = pt.ones((n_obs, 1))\n",
    "        cumprobs_with_bounds = pm.math.concatenate(\n",
    "            [zeros, cumprobs_stacked, ones],\n",
    "            axis=1\n",
    "        )\n",
    "\n",
    "        # Compute category probabilities by differencing adjacent cumulative probabilities\n",
    "        probs = cumprobs_with_bounds[:, 1:] - cumprobs_with_bounds[:, :-1]\n",
    "\n",
    "        # Add a small value to avoid exact zeros, then renormalize\n",
    "        probs_safe = probs + 1e-8\n",
    "        probs_normalized = probs_safe / pm.math.sum(probs_safe, axis=1, keepdims=True)\n",
    "\n",
    "        # Likelihood\n",
    "        pm.Categorical(\n",
    "            name=\"y_obs\",\n",
    "            p=probs_normalized,\n",
    "            observed=train_df[\"Severity\"].to_numpy()\n",
    "        )\n",
    "\n",
    "        # Sampling\n",
    "        trace = pm.sample(\n",
    "            draws=draws,\n",
    "            tune=tune,\n",
    "            chains=chains,\n",
    "            target_accept=target_accept,\n",
    "            max_treedepth=max_treedepth,\n",
    "            return_inferencedata=False\n",
    "        )\n",
    "\n",
    "    return trace"
   ]
  },
  {
   "cell_type": "code",
   "execution_count": 16,
   "metadata": {
    "colab": {
     "base_uri": "https://localhost:8080/",
     "height": 148,
     "referenced_widgets": [
      "98cf5c3efa5e4888a6ea31a6ca25d748",
      "a2a841cd09834b7ba42c1a6b283517ea"
     ]
    },
    "id": "U1SsKiFaT-ZP",
    "outputId": "6609f752-b6f2-44b7-b8fd-0c3ef29c822b"
   },
   "outputs": [
    {
     "data": {
      "application/vnd.jupyter.widget-view+json": {
       "model_id": "98cf5c3efa5e4888a6ea31a6ca25d748",
       "version_major": 2,
       "version_minor": 0
      },
      "text/plain": [
       "Output()"
      ]
     },
     "metadata": {},
     "output_type": "display_data"
    },
    {
     "data": {
      "text/html": [
       "<pre style=\"white-space:pre;overflow-x:auto;line-height:normal;font-family:Menlo,'DejaVu Sans Mono',consolas,'Courier New',monospace\"></pre>\n"
      ],
      "text/plain": []
     },
     "metadata": {},
     "output_type": "display_data"
    },
    {
     "name": "stderr",
     "output_type": "stream",
     "text": [
      "ERROR:pymc.stats.convergence:There were 18 divergences after tuning. Increase `target_accept` or reparameterize.\n"
     ]
    },
    {
     "name": "stdout",
     "output_type": "stream",
     "text": [
      "NPOM fitting complete.\n"
     ]
    }
   ],
   "source": [
    "# Call fit_nonproportional_odds\n",
    "trace_npom = fit_nonproportional_odds(\n",
    "    train_df,\n",
    "    draws=N_DRAWS,\n",
    "    tune=N_TUNE,\n",
    "    target_accept=TARGET_ACCEPT,\n",
    "    max_treedepth=MAX_TREEDEPTH\n",
    ")\n",
    "print(\"NPOM fitting complete.\")"
   ]
  },
  {
   "cell_type": "markdown",
   "metadata": {
    "id": "HFO6rSh8RT0J"
   },
   "source": [
    "# Partial Proportional Odds Model"
   ]
  },
  {
   "cell_type": "code",
   "execution_count": 17,
   "metadata": {
    "id": "otERwONZRTxi"
   },
   "outputs": [],
   "source": [
    "# Partial Proportional Odds Model (PPOM)\n",
    "def fit_partial_proportional_odds(\n",
    "    train_df: pd.DataFrame,\n",
    "    draws: int = 1000,\n",
    "    tune: int = 1000,\n",
    "    chains: int = 2,\n",
    "    target_accept: float = 0.9,\n",
    "    max_treedepth: int = 10\n",
    ") -> pm.backends.base.MultiTrace:\n",
    "    \"\"\"\n",
    "    Fit a Partial Proportional Odds Model in PyMC.\n",
    "    \"\"\"\n",
    "    # Extract the predictor matrix\n",
    "    X = train_df[[\"Age_z\", \"Treatment\"]].to_numpy()\n",
    "    age_z = X[:, 0]  # vector for predictor\n",
    "    trt = X[:, 1]    # vector for predictor\n",
    "    n_obs = age_z.shape[0]  # number of observations\n",
    "\n",
    "    with pm.Model() as model:\n",
    "        # Build six ordered cutpoints:\n",
    "        # raw_alphas = [\n",
    "        #     alpha_0,\n",
    "        #     alpha_0 + delta[0],\n",
    "        #     alpha_0 + delta[0] + delta[1],\n",
    "        #     alpha_0 + delta[0] + delta[1] + delta[2],\n",
    "        #     alpha_0 + delta[0] + delta[1] + delta[2] + delta[3],\n",
    "        #     alpha_0 + delta[0] + delta[1] + delta[2] + delta[3] + delta[4]\n",
    "        # ]\n",
    "        alpha_0 = pm.Normal(\"alpha_0\", mu=0, sigma=2)\n",
    "        delta = pm.HalfNormal(\"delta\", sigma=1, shape=5)\n",
    "\n",
    "        increments = pm.math.stack(\n",
    "            [alpha_0 + pm.math.sum(delta[:i]) for i in range(1, 6)]\n",
    "        )\n",
    "\n",
    "        alpha0_vec = pm.math.stack([alpha_0])\n",
    "        raw_alphas = pm.math.concatenate([alpha0_vec, increments], axis=0)\n",
    "\n",
    "        # Clip cutpoints\n",
    "        alphas = pm.Deterministic(\"alphas\", var=pm.math.clip(raw_alphas, -15, 15))\n",
    "\n",
    "        # Slope parameters\n",
    "        beta_age = pm.Normal(\"beta_age\", mu=0, sigma=2, shape=6)\n",
    "        beta_trt = pm.Normal(\"beta_trt\", mu=0, sigma=2)\n",
    "\n",
    "        # Build raw logits and raw CDFs\n",
    "        raw_logits = []\n",
    "        for j in range(6):\n",
    "            lin_part = age_z * beta_age[j] + trt * beta_trt\n",
    "            raw_logit_j = alphas[j] - lin_part\n",
    "            logit_j = pm.math.clip(raw_logit_j, -15, 15)\n",
    "            raw_logits.append(logit_j)\n",
    "\n",
    "        raw_logits_stacked = pm.math.stack(raw_logits, axis=1)\n",
    "        raw_cdfs = pm.math.sigmoid(raw_logits_stacked)\n",
    "\n",
    "        # Enforce monotonicity via max\n",
    "        cumprobs = [raw_cdfs[:, 0]]\n",
    "        for j in range(1, 6):\n",
    "            cumprobs.append(pt.maximum(raw_cdfs[:, j], cumprobs[j - 1]))\n",
    "        cumprobs_stacked = pt.stack(cumprobs, axis=1)\n",
    "\n",
    "        # Add boundaries\n",
    "        zeros = pt.zeros((n_obs, 1))\n",
    "        ones = pt.ones((n_obs, 1))\n",
    "        cumprobs_with_bounds = pm.math.concatenate(\n",
    "            [zeros, cumprobs_stacked, ones],\n",
    "            axis=1\n",
    "        )\n",
    "\n",
    "        # Compute 7-category probabilities\n",
    "        probs_raw = cumprobs_with_bounds[:, 1:] - cumprobs_with_bounds[:, :-1]\n",
    "        probs_safe = probs_raw + 1e-8\n",
    "        probs = probs_safe / pm.math.sum(probs_safe, axis=1, keepdims=True)\n",
    "\n",
    "        # Likelihood\n",
    "        pm.Categorical(\n",
    "            name=\"y_obs\",\n",
    "            p=probs,\n",
    "            observed=train_df[\"Severity\"].to_numpy()\n",
    "        )\n",
    "\n",
    "        # Sampling\n",
    "        trace = pm.sample(\n",
    "            draws=draws,\n",
    "            tune=tune,\n",
    "            chains=chains,\n",
    "            target_accept=target_accept,\n",
    "            max_treedepth=max_treedepth,\n",
    "            init=\"jitter+adapt_diag\",  # default\n",
    "            step_scale=0.25,           # default\n",
    "            return_inferencedata=False\n",
    "        )\n",
    "\n",
    "    return trace"
   ]
  },
  {
   "cell_type": "code",
   "execution_count": 18,
   "metadata": {
    "colab": {
     "base_uri": "https://localhost:8080/",
     "height": 148,
     "referenced_widgets": [
      "b8c6155e38f643518329e2ee4b98dfd2",
      "20864435ffd8445da241dc9574520c30"
     ]
    },
    "id": "0tPqvL31RTu9",
    "outputId": "047aa48d-0450-49cb-c7b3-f258695dc485"
   },
   "outputs": [
    {
     "data": {
      "application/vnd.jupyter.widget-view+json": {
       "model_id": "b8c6155e38f643518329e2ee4b98dfd2",
       "version_major": 2,
       "version_minor": 0
      },
      "text/plain": [
       "Output()"
      ]
     },
     "metadata": {},
     "output_type": "display_data"
    },
    {
     "data": {
      "text/html": [
       "<pre style=\"white-space:pre;overflow-x:auto;line-height:normal;font-family:Menlo,'DejaVu Sans Mono',consolas,'Courier New',monospace\"></pre>\n"
      ],
      "text/plain": []
     },
     "metadata": {},
     "output_type": "display_data"
    },
    {
     "name": "stderr",
     "output_type": "stream",
     "text": [
      "ERROR:pymc.stats.convergence:There were 19 divergences after tuning. Increase `target_accept` or reparameterize.\n"
     ]
    },
    {
     "name": "stdout",
     "output_type": "stream",
     "text": [
      "PPOM fitting complete.\n"
     ]
    }
   ],
   "source": [
    "# Call fit_partial_proportional_odds\n",
    "trace_ppom = fit_partial_proportional_odds(\n",
    "    train_df,\n",
    "    draws=N_DRAWS,\n",
    "    tune=N_TUNE,\n",
    "    target_accept=TARGET_ACCEPT,\n",
    "    max_treedepth=MAX_TREEDEPTH\n",
    ")\n",
    "print(\"PPOM fitting complete.\")"
   ]
  },
  {
   "cell_type": "markdown",
   "metadata": {
    "id": "1E7ei-B3RX-S"
   },
   "source": [
    "# Per-Threshold Logit Model"
   ]
  },
  {
   "cell_type": "code",
   "execution_count": 19,
   "metadata": {
    "id": "_08RFaFQRYXk"
   },
   "outputs": [],
   "source": [
    "# Independent Threshold Logit Model (ITL)\n",
    "def fit_independent_threshold_logit(\n",
    "    train_df: pd.DataFrame,\n",
    "    draws: int = 1000,\n",
    "    tune: int = 1000,\n",
    "    chains: int = 2,\n",
    "    target_accept: float = 0.9,\n",
    "    max_treedepth: int = 10,\n",
    "    enforce_monotonicity: bool = False\n",
    ") -> pm.backends.base.MultiTrace:\n",
    "    \"\"\"\n",
    "    Fit an Independent Threshold Logit Model in PyMC.\n",
    "    Each threshold j = 0..5 has its own binary logistic regression.\n",
    "    logit(P(Y <= j)) = alpha[j] + Age_z * beta[j,0] + Treatment * beta[j,1].\n",
    "    \"\"\"\n",
    "    # Extract observed outcomes\n",
    "    y = train_df[\"Severity\"].to_numpy()\n",
    "    n_obs = y.shape[0]\n",
    "\n",
    "    # Build binary indicators: Y_bin[i, j] = 1 if y[i] <= j else 0\n",
    "    Y_bin = np.stack([(y <= j).astype(\"int32\") for j in range(6)], axis=1)\n",
    "\n",
    "    # Extract the predictor matrix\n",
    "    X = train_df[[\"Age_z\", \"Treatment\"]].to_numpy()\n",
    "\n",
    "    with pm.Model() as model:\n",
    "        # Priors for intercepts and slopes\n",
    "        alpha = pm.Normal(\"alpha\", mu=0, sigma=5, shape=6)\n",
    "        beta = pm.Normal(\"beta\", mu=0, sigma=2, shape=(6, 2))\n",
    "\n",
    "        # Linear predictor per threshold and clipping\n",
    "        raw_eta = alpha + pt.dot(X, beta.T)\n",
    "        eta = pm.math.clip(raw_eta, -15, 15)\n",
    "\n",
    "        # Convert to probabilities P(Y <= j)\n",
    "        p_raw = pm.math.sigmoid(eta)\n",
    "\n",
    "        # Optionally enforce monotonicity\n",
    "        if enforce_monotonicity:\n",
    "            p_list = [p_raw[:, 0]]\n",
    "            for j in range(1, 6):\n",
    "                p_list.append(pt.maximum(p_raw[:, j], p_list[j - 1]))\n",
    "            p = pt.stack(p_list, axis=1)\n",
    "        else:\n",
    "            p = p_raw\n",
    "\n",
    "        # Likelihood: independent Bernoulli at each threshold\n",
    "        pm.Bernoulli(\n",
    "            name=\"y_obs\",\n",
    "            p=p,\n",
    "            observed=Y_bin\n",
    "        )\n",
    "\n",
    "        # Sampling\n",
    "        trace = pm.sample(\n",
    "            draws=draws,\n",
    "            tune=tune,\n",
    "            chains=chains,\n",
    "            target_accept=target_accept,\n",
    "            max_treedepth=max_treedepth,\n",
    "            return_inferencedata=False\n",
    "        )\n",
    "\n",
    "    return trace"
   ]
  },
  {
   "cell_type": "code",
   "execution_count": 20,
   "metadata": {
    "colab": {
     "base_uri": "https://localhost:8080/",
     "height": 130,
     "referenced_widgets": [
      "5abd008b6aac458d9871c33a394ccb2e",
      "6d59022c9c8f4b8f9b40c35e67d49283"
     ]
    },
    "id": "iY2x2ep5RX7b",
    "outputId": "fe2b8e6f-7edd-46c6-84c3-60bc91a08953"
   },
   "outputs": [
    {
     "data": {
      "application/vnd.jupyter.widget-view+json": {
       "model_id": "5abd008b6aac458d9871c33a394ccb2e",
       "version_major": 2,
       "version_minor": 0
      },
      "text/plain": [
       "Output()"
      ]
     },
     "metadata": {},
     "output_type": "display_data"
    },
    {
     "data": {
      "text/html": [
       "<pre style=\"white-space:pre;overflow-x:auto;line-height:normal;font-family:Menlo,'DejaVu Sans Mono',consolas,'Courier New',monospace\"></pre>\n"
      ],
      "text/plain": []
     },
     "metadata": {},
     "output_type": "display_data"
    },
    {
     "name": "stdout",
     "output_type": "stream",
     "text": [
      "ITL fitting complete.\n"
     ]
    }
   ],
   "source": [
    "# Call fit_independent_threshold_logit\n",
    "trace_itl = fit_independent_threshold_logit(\n",
    "    train_df,\n",
    "    draws=N_DRAWS,\n",
    "    tune=N_TUNE,\n",
    "    target_accept=TARGET_ACCEPT,\n",
    "    max_treedepth=MAX_TREEDEPTH\n",
    ")\n",
    "print(\"ITL fitting complete.\")"
   ]
  },
  {
   "cell_type": "markdown",
   "metadata": {
    "id": "1oGmpbvIRMIa"
   },
   "source": [
    "# Multinomial Logit Model"
   ]
  },
  {
   "cell_type": "code",
   "execution_count": 21,
   "metadata": {
    "id": "C7RilHN3ETYa"
   },
   "outputs": [],
   "source": [
    "# Multinomial Logit Model (MNL)\n",
    "def fit_multinomial_logit(\n",
    "    train_df: pd.DataFrame,\n",
    "    draws: int = 1000,\n",
    "    tune: int = 1000,\n",
    "    chains: int = 2,\n",
    "    target_accept: float = 0.9,\n",
    "    max_treedepth: int = 10\n",
    ") -> pm.backends.base.MultiTrace:\n",
    "    \"\"\"\n",
    "    Fit a multinomial logit model (MNL) in PyMC.\n",
    "    \"\"\"\n",
    "    with pm.Model() as model:\n",
    "        # Number of categories and predictors\n",
    "        K = 7\n",
    "        P = 2\n",
    "\n",
    "        # Intercepts for categories 1-6 (category 0 is reference)\n",
    "        alpha_mnl = pm.Normal(\n",
    "            name=\"alpha_mnl\",\n",
    "            mu=0,\n",
    "            sigma=5,\n",
    "            shape=K - 1\n",
    "        )\n",
    "\n",
    "        # Coefficients for categories 1-6\n",
    "        beta_mnl = pm.Normal(\n",
    "            name=\"beta_mnl\",\n",
    "            mu=0,\n",
    "            sigma=3,\n",
    "            shape=(K - 1, P)\n",
    "        )\n",
    "\n",
    "        # Extract the predictor matrix\n",
    "        X_train = train_df[[\"Age_z\", \"Treatment\"]].to_numpy()\n",
    "        n_obs = train_df.shape[0]\n",
    "\n",
    "        # Build logits matrix\n",
    "        # First category (0) is reference with logit = 0\n",
    "        logits_list = [pt.zeros(n_obs)]\n",
    "\n",
    "        for j in range(K - 1):\n",
    "            linear_term = alpha_mnl[j] + pt.dot(X_train, beta_mnl[j])\n",
    "            logits_list.append(linear_term)\n",
    "\n",
    "        # Stack to create (n_obs, K) matrix\n",
    "        logits = pt.stack(logits_list, axis=1)\n",
    "\n",
    "        # Likelihood\n",
    "        pm.Categorical(\n",
    "            name=\"y_obs_mnl\",\n",
    "            logit_p=logits,\n",
    "            observed=train_df[\"Severity\"].to_numpy()\n",
    "        )\n",
    "\n",
    "        # Sampling\n",
    "        trace = pm.sample(\n",
    "            draws=draws,\n",
    "            tune=tune,\n",
    "            chains=chains,\n",
    "            target_accept=target_accept,\n",
    "            max_treedepth=max_treedepth,\n",
    "            return_inferencedata=False\n",
    "        )\n",
    "\n",
    "    return trace"
   ]
  },
  {
   "cell_type": "code",
   "execution_count": 22,
   "metadata": {
    "colab": {
     "base_uri": "https://localhost:8080/",
     "height": 130,
     "referenced_widgets": [
      "75d62bf22139471dac43b28a35d67d03",
      "5a9e02c454b446fbb80aee2a84728e95"
     ]
    },
    "id": "FGKsHYzZUBtS",
    "outputId": "136510ea-9583-4a19-93c2-d43990192563"
   },
   "outputs": [
    {
     "data": {
      "application/vnd.jupyter.widget-view+json": {
       "model_id": "75d62bf22139471dac43b28a35d67d03",
       "version_major": 2,
       "version_minor": 0
      },
      "text/plain": [
       "Output()"
      ]
     },
     "metadata": {},
     "output_type": "display_data"
    },
    {
     "data": {
      "text/html": [
       "<pre style=\"white-space:pre;overflow-x:auto;line-height:normal;font-family:Menlo,'DejaVu Sans Mono',consolas,'Courier New',monospace\"></pre>\n"
      ],
      "text/plain": []
     },
     "metadata": {},
     "output_type": "display_data"
    },
    {
     "name": "stdout",
     "output_type": "stream",
     "text": [
      "MNL fitting complete.\n"
     ]
    }
   ],
   "source": [
    "# Call fit_multinomial_logit\n",
    "trace_mnl = fit_multinomial_logit(\n",
    "    train_df,\n",
    "    draws=N_DRAWS,\n",
    "    tune=N_TUNE,\n",
    "    target_accept=TARGET_ACCEPT,\n",
    "    max_treedepth=MAX_TREEDEPTH\n",
    ")\n",
    "print(\"MNL fitting complete.\")"
   ]
  },
  {
   "cell_type": "markdown",
   "metadata": {
    "id": "L4uhAef9ROSo"
   },
   "source": [
    "# Posterior Means"
   ]
  },
  {
   "cell_type": "code",
   "execution_count": 23,
   "metadata": {
    "id": "QlQYCyOrUEvM"
   },
   "outputs": [],
   "source": [
    "def extract_pom_means(\n",
    "    trace: pm.backends.base.MultiTrace\n",
    ") -> tuple[np.ndarray, np.ndarray]:\n",
    "    \"\"\"\n",
    "    Extract posterior-mean beta and alphas for POM.\n",
    "    \"\"\"\n",
    "    beta_samples = trace.get_values(\n",
    "        \"beta\",\n",
    "        combine=True\n",
    "    )\n",
    "\n",
    "    alphas_samples = trace.get_values(\n",
    "        \"alphas\",\n",
    "        combine=True\n",
    "    )\n",
    "\n",
    "    beta_mean = beta_samples.mean(axis=0)\n",
    "    alphas_mean = alphas_samples.mean(axis=0)\n",
    "\n",
    "    return beta_mean, alphas_mean"
   ]
  },
  {
   "cell_type": "code",
   "execution_count": 24,
   "metadata": {
    "colab": {
     "base_uri": "https://localhost:8080/"
    },
    "id": "MrXCa2kVUEtI",
    "outputId": "99e48ca3-877e-4510-bc57-3e62b2650a47"
   },
   "outputs": [
    {
     "name": "stdout",
     "output_type": "stream",
     "text": [
      "POM posterior means extracted.\n"
     ]
    }
   ],
   "source": [
    "# Extract POM means\n",
    "beta_pom_mean, alphas_pom_mean = extract_pom_means(trace_pom)\n",
    "print(\"POM posterior means extracted.\")"
   ]
  },
  {
   "cell_type": "code",
   "execution_count": 25,
   "metadata": {
    "id": "1OkdoUVdUEqT"
   },
   "outputs": [],
   "source": [
    "def extract_npom_means(\n",
    "    trace: pm.backends.base.MultiTrace\n",
    ") -> tuple[np.ndarray, np.ndarray]:\n",
    "    \"\"\"\n",
    "    Extract posterior-mean betas and alphas for NPOM.\n",
    "    \"\"\"\n",
    "    betas_samples = trace.get_values(\n",
    "        \"betas\",\n",
    "        combine=True\n",
    "    )\n",
    "\n",
    "    alphas_samples = trace.get_values(\n",
    "        \"alphas\",\n",
    "        combine=True\n",
    "    )\n",
    "\n",
    "    betas_mean = betas_samples.mean(axis=0)\n",
    "    alphas_mean = alphas_samples.mean(axis=0)\n",
    "\n",
    "    return betas_mean, alphas_mean"
   ]
  },
  {
   "cell_type": "code",
   "execution_count": 26,
   "metadata": {
    "colab": {
     "base_uri": "https://localhost:8080/"
    },
    "id": "vYgaQd61UOne",
    "outputId": "df5a6695-29eb-431f-b46c-ff8324fcae62"
   },
   "outputs": [
    {
     "name": "stdout",
     "output_type": "stream",
     "text": [
      "NPOM posterior means extracted.\n"
     ]
    }
   ],
   "source": [
    "# Extract NPOM means\n",
    "betas_np_mean, alphas_np_mean = extract_npom_means(trace_npom)\n",
    "print(\"NPOM posterior means extracted.\")"
   ]
  },
  {
   "cell_type": "code",
   "execution_count": 27,
   "metadata": {
    "id": "7LbCTje3ThO1"
   },
   "outputs": [],
   "source": [
    "def extract_ppom_means(\n",
    "    trace: pm.backends.base.MultiTrace\n",
    ") -> tuple[np.ndarray, np.ndarray, np.ndarray]:\n",
    "    \"\"\"\n",
    "    Extract posterior-mean beta_age, beta_trt, and alphas for PPOM.\n",
    "    \"\"\"\n",
    "    beta_age_samples = trace.get_values(\n",
    "        \"beta_age\",\n",
    "        combine=True\n",
    "    )\n",
    "\n",
    "    beta_trt_samples = trace.get_values(\n",
    "        \"beta_trt\",\n",
    "        combine=True\n",
    "    )\n",
    "\n",
    "    alphas_samples = trace.get_values(\n",
    "        \"alphas\",\n",
    "        combine=True\n",
    "    )\n",
    "\n",
    "    beta_age_mean = beta_age_samples.mean(axis=0)\n",
    "    beta_trt_mean = beta_trt_samples.mean(axis=0)\n",
    "    alphas_mean = alphas_samples.mean(axis=0)\n",
    "\n",
    "    return beta_age_mean, beta_trt_mean, alphas_mean"
   ]
  },
  {
   "cell_type": "code",
   "execution_count": 28,
   "metadata": {
    "colab": {
     "base_uri": "https://localhost:8080/"
    },
    "id": "tc5HURZ6ThMQ",
    "outputId": "9cda7c59-131d-48eb-a39c-3cad956e37bd"
   },
   "outputs": [
    {
     "name": "stdout",
     "output_type": "stream",
     "text": [
      "PPOM posterior means extracted.\n"
     ]
    }
   ],
   "source": [
    "# Extract PPOM means\n",
    "beta_age_ppom_mean, beta_trt_ppom_mean, alphas_ppom_mean = extract_ppom_means(trace_ppom)\n",
    "print(\"PPOM posterior means extracted.\")"
   ]
  },
  {
   "cell_type": "code",
   "execution_count": 29,
   "metadata": {
    "id": "bqkwYMEEVLRO"
   },
   "outputs": [],
   "source": [
    "def extract_itl_means(\n",
    "    trace: pm.backends.base.MultiTrace\n",
    ") -> tuple[np.ndarray, np.ndarray]:\n",
    "    \"\"\"\n",
    "    Extract posterior-mean alpha and beta for ITL.\n",
    "    \"\"\"\n",
    "    alpha_samples = trace.get_values(\n",
    "        \"alpha\",\n",
    "        combine=True\n",
    "    )\n",
    "\n",
    "    beta_samples = trace.get_values(\n",
    "        \"beta\",\n",
    "        combine=True\n",
    "    )\n",
    "\n",
    "    alpha_mean = alpha_samples.mean(axis=0)\n",
    "    beta_mean = beta_samples.mean(axis=0)\n",
    "\n",
    "    return alpha_mean, beta_mean"
   ]
  },
  {
   "cell_type": "code",
   "execution_count": 30,
   "metadata": {
    "colab": {
     "base_uri": "https://localhost:8080/"
    },
    "id": "lpGNDgHYVLO4",
    "outputId": "e445caa1-6d5a-42f4-e60b-867e6f2db686"
   },
   "outputs": [
    {
     "name": "stdout",
     "output_type": "stream",
     "text": [
      "ITL posterior means extracted.\n"
     ]
    }
   ],
   "source": [
    "# Extract ITL means\n",
    "alpha_itl_mean, beta_itl_mean = extract_itl_means(trace_itl)\n",
    "print(\"ITL posterior means extracted.\")"
   ]
  },
  {
   "cell_type": "code",
   "execution_count": 31,
   "metadata": {
    "id": "euJBDQMwUOld"
   },
   "outputs": [],
   "source": [
    "def extract_mnl_means(\n",
    "    trace: pm.backends.base.MultiTrace\n",
    ") -> tuple[np.ndarray, np.ndarray]:\n",
    "    \"\"\"\n",
    "    Extract posterior-mean alpha_mnl and beta_mnl for MNL.\n",
    "    \"\"\"\n",
    "    alpha_mnl_samples = trace.get_values(\n",
    "        \"alpha_mnl\",\n",
    "        combine=True\n",
    "    )\n",
    "\n",
    "    beta_mnl_samples = trace.get_values(\n",
    "        \"beta_mnl\",\n",
    "        combine=True\n",
    "    )\n",
    "\n",
    "    alpha_mnl_mean = alpha_mnl_samples.mean(axis=0)\n",
    "    beta_mnl_mean = beta_mnl_samples.mean(axis=0)\n",
    "\n",
    "    return alpha_mnl_mean, beta_mnl_mean"
   ]
  },
  {
   "cell_type": "code",
   "execution_count": 32,
   "metadata": {
    "colab": {
     "base_uri": "https://localhost:8080/"
    },
    "id": "C4bJiXkdEWNm",
    "outputId": "acdf6f59-5bb3-4bd3-b56f-532f11621253"
   },
   "outputs": [
    {
     "name": "stdout",
     "output_type": "stream",
     "text": [
      "MNL posterior means extracted.\n"
     ]
    }
   ],
   "source": [
    "# Extract MNL means\n",
    "alpha_mnl_mean, beta_mnl_mean = extract_mnl_means(trace_mnl)\n",
    "print(\"MNL posterior means extracted.\")"
   ]
  },
  {
   "cell_type": "markdown",
   "metadata": {
    "id": "QXeiFXRyRQGR"
   },
   "source": [
    "# Predictive Evaluation"
   ]
  },
  {
   "cell_type": "code",
   "execution_count": 33,
   "metadata": {
    "id": "MpyafAufYwyc"
   },
   "outputs": [],
   "source": [
    "def ordered_logistic_probs(\n",
    "    eta_vec: np.ndarray,\n",
    "    alphas_vec: np.ndarray,\n",
    "    is_npom: bool = False\n",
    ") -> np.ndarray:\n",
    "    \"\"\"\n",
    "    Return an (n_obs, 7) array of probabilities for ordered logits.\n",
    "    For NPOM, eta_vec should be (n_obs, 6) and is_npom=True.\n",
    "    For POM, eta_vec should be (n_obs,) and is_npom=False.\n",
    "    \"\"\"\n",
    "    n_obs = eta_vec.shape[0]\n",
    "    K = alphas_vec.shape[0] + 1\n",
    "    probs = np.zeros((n_obs, K))\n",
    "\n",
    "    for i in range(n_obs):\n",
    "        if is_npom:\n",
    "            # For NPOM: eta_vec[i, :] has shape (6,), alphas_vec has shape (6,)\n",
    "            # Each threshold has its own linear predictor\n",
    "            eta_i = eta_vec[i, :]\n",
    "            logits = alphas_vec - eta_i\n",
    "        else:\n",
    "            # For POM: eta_vec[i] is scalar, same linear predictor for all thresholds\n",
    "            eta_i = eta_vec[i]\n",
    "            logits = alphas_vec - eta_i\n",
    "\n",
    "        # Clip to prevent overflow\n",
    "        logits = np.clip(logits, -500, 500)\n",
    "        cdfs = 1 / (1 + np.exp(-logits))\n",
    "\n",
    "        # Ensure monotonicity for valid probabilities\n",
    "        cdfs = np.maximum.accumulate(cdfs)\n",
    "\n",
    "        cdfs_full = np.concatenate([[0.0], cdfs, [1.0]])\n",
    "        pmf = cdfs_full[1:] - cdfs_full[:-1]\n",
    "\n",
    "        # Ensure valid probabilities\n",
    "        pmf = np.maximum(pmf, 1e-10)\n",
    "        probs[i] = pmf / pmf.sum()\n",
    "\n",
    "    return probs"
   ]
  },
  {
   "cell_type": "markdown",
   "metadata": {
    "id": "-tLZm7MyiQXe"
   },
   "source": [
    "## Training Set"
   ]
  },
  {
   "cell_type": "code",
   "execution_count": 34,
   "metadata": {
    "id": "45sXmOXfWpzA"
   },
   "outputs": [],
   "source": [
    "# Predictor matrix\n",
    "X_train = train_df[[\"Age_z\", \"Treatment\"]].to_numpy()\n",
    "n_train = X_train.shape[0]  # number of observations"
   ]
  },
  {
   "cell_type": "code",
   "execution_count": 35,
   "metadata": {
    "id": "EWYHUcP3Y0cv"
   },
   "outputs": [],
   "source": [
    "# POM training set evaluation\n",
    "# Compute raw linear predictor\n",
    "eta_train_pom = X_train.dot(beta_pom_mean)\n",
    "\n",
    "# Compute ordered logit probabilities (n_obs x 7)\n",
    "pom_probs_train = ordered_logistic_probs(\n",
    "    eta_train_pom,\n",
    "    alphas_pom_mean\n",
    ")\n",
    "\n",
    "# Select the most likely category for each observation\n",
    "pom_train_preds = np.argmax(pom_probs_train, axis=1)\n",
    "\n",
    "# Compute accuracy\n",
    "pom_train_acc = accuracy_score(\n",
    "    train_df[\"Severity\"],\n",
    "    pom_train_preds\n",
    ")"
   ]
  },
  {
   "cell_type": "code",
   "execution_count": 36,
   "metadata": {
    "id": "IThmCvGEfwYi"
   },
   "outputs": [],
   "source": [
    "# NPOM training set evaluation\n",
    "# Compute threshold-specific linear predictors\n",
    "eta_train_np = X_train.dot(betas_np_mean.T)\n",
    "\n",
    "# Compute ordered logit probabilities (n_obs x 7)\n",
    "npom_probs_train = ordered_logistic_probs(\n",
    "    eta_train_np,\n",
    "    alphas_np_mean,\n",
    "    is_npom=True\n",
    ")\n",
    "\n",
    "# Select the most likely category for each observation\n",
    "npom_train_preds = np.argmax(npom_probs_train, axis=1)\n",
    "\n",
    "# Compute accuracy\n",
    "npom_train_acc = accuracy_score(\n",
    "    train_df[\"Severity\"],\n",
    "    npom_train_preds\n",
    ")"
   ]
  },
  {
   "cell_type": "code",
   "execution_count": 37,
   "metadata": {
    "id": "6zpoq20zWf4P"
   },
   "outputs": [],
   "source": [
    "# PPOM training set evaluation\n",
    "# Build the slope matrix from the two posterior-mean vectors\n",
    "#   beta_age_ppom_mean; shape = (6,)\n",
    "#   beta_trt_ppom_mean; scalar\n",
    "betas_ppom_mean = np.column_stack([\n",
    "    beta_age_ppom_mean,\n",
    "    np.repeat(beta_trt_ppom_mean, 6)\n",
    "])\n",
    "\n",
    "# Compute threshold-specific linear predictors (n_obs x 6)\n",
    "eta_train_ppom = X_train.dot(betas_ppom_mean.T)\n",
    "\n",
    "# Get array of probabilities (n_obs x 7)\n",
    "# Pass is_npom=True so each threshold has its own linear predictor\n",
    "ppom_probs_train = ordered_logistic_probs(\n",
    "    eta_train_ppom,\n",
    "    alphas_ppom_mean,\n",
    "    is_npom=True\n",
    ")\n",
    "\n",
    "# Select the most likely category for each observation\n",
    "ppom_train_preds = np.argmax(ppom_probs_train, axis=1)\n",
    "\n",
    "# Compute accuracy\n",
    "ppom_train_acc = accuracy_score(\n",
    "    train_df[\"Severity\"],\n",
    "    ppom_train_preds\n",
    ")"
   ]
  },
  {
   "cell_type": "code",
   "execution_count": 38,
   "metadata": {
    "id": "WtO9C0A8Wf18"
   },
   "outputs": [],
   "source": [
    "# ITL training set evaluation\n",
    "# Compute raw logits for each threshold j=0..5:\n",
    "#   logit(P(Y <= j)) = alpha_itl_mean[j] + X_train.dot(beta_itl_mean[j])\n",
    "#   overall shape = (n_train, 6)\n",
    "logits_train_itl = alpha_itl_mean + X_train.dot(beta_itl_mean.T)\n",
    "\n",
    "# Clip to avoid overflow\n",
    "logits_train_itl = np.clip(logits_train_itl, -500, 500)\n",
    "\n",
    "# Convert to cumulative probabilities via sigmoid\n",
    "cdfs_itl = 1.0 / (1.0 + np.exp(-logits_train_itl))\n",
    "\n",
    "# Enforce monotonicity: P(Y <= j) >= P(Y <= j-1)\n",
    "cdfs_itl = np.maximum.accumulate(cdfs_itl, axis=1)\n",
    "\n",
    "# Add 0 at j=-1 and 1 at j=6 to form full CDF\n",
    "cdfs_full_itl = np.concatenate([\n",
    "    np.zeros((n_train, 1)),\n",
    "    cdfs_itl,\n",
    "    np.ones((n_train, 1))\n",
    "], axis=1)\n",
    "\n",
    "# Category probabilities by adjacent differences; shape = (n_train, 7)\n",
    "probs_itl_train = cdfs_full_itl[:, 1:] - cdfs_full_itl[:, :-1]\n",
    "\n",
    "# Renormalize\n",
    "probs_itl_train /= probs_itl_train.sum(axis=1, keepdims=True)\n",
    "\n",
    "# Select the most likely category for each observation\n",
    "itl_train_preds = np.argmax(probs_itl_train, axis=1)\n",
    "\n",
    "# Compute accuracy\n",
    "itl_train_acc = accuracy_score(\n",
    "    train_df[\"Severity\"],\n",
    "    itl_train_preds\n",
    ")"
   ]
  },
  {
   "cell_type": "code",
   "execution_count": 39,
   "metadata": {
    "id": "d2CcwFqUfwV7"
   },
   "outputs": [],
   "source": [
    "# MNL training set evaluation\n",
    "# Initialize logits matrix\n",
    "#   zeros for category 0, fill categories 1..6\n",
    "#   logits_train; shape = (n_train, 7)\n",
    "logits_train = np.zeros((n_train, 7))\n",
    "\n",
    "# Fill logits for categories 1..6:\n",
    "#   logits_train[:, j+1] = alpha_mnl_mean[j] + X_train dot beta_mnl_mean[j].T\n",
    "for j in range(6):\n",
    "    logits_train[:, j + 1] = (\n",
    "        alpha_mnl_mean[j] + X_train.dot(beta_mnl_mean[j].T)\n",
    "    )\n",
    "\n",
    "# Convert logits to probabilities via softmax\n",
    "exp_logits_train = np.exp(logits_train)\n",
    "mnl_probs_train = exp_logits_train / exp_logits_train.sum(\n",
    "    axis=1,\n",
    "    keepdims=True\n",
    ")\n",
    "\n",
    "# Select the most likely category for each observation\n",
    "mnl_train_preds = np.argmax(mnl_probs_train, axis=1)\n",
    "\n",
    "# Compute accuracy\n",
    "mnl_train_acc = accuracy_score(\n",
    "    train_df[\"Severity\"],\n",
    "    mnl_train_preds\n",
    ")"
   ]
  },
  {
   "cell_type": "code",
   "execution_count": 40,
   "metadata": {
    "colab": {
     "base_uri": "https://localhost:8080/"
    },
    "id": "OjZR3lRDhATE",
    "outputId": "96192bc4-8b5c-430c-8c8f-032127a56c64"
   },
   "outputs": [
    {
     "name": "stdout",
     "output_type": "stream",
     "text": [
      "=== Training Set Accuracy ===\n",
      "POM: 0.2681\n",
      "NPOM: 0.2863\n",
      "PPOM: 0.2744\n",
      "ITL: 0.2838\n",
      "MNL: 0.2825\n"
     ]
    }
   ],
   "source": [
    "# Training set accuracies\n",
    "print(\"=== Training Set Accuracy ===\")\n",
    "print(f\"POM: {pom_train_acc:.4f}\")\n",
    "print(f\"NPOM: {npom_train_acc:.4f}\")\n",
    "print(f\"PPOM: {ppom_train_acc:.4f}\")\n",
    "print(f\"ITL: {itl_train_acc:.4f}\")\n",
    "print(f\"MNL: {mnl_train_acc:.4f}\")"
   ]
  },
  {
   "cell_type": "markdown",
   "metadata": {
    "id": "ZebawrepiNA3"
   },
   "source": [
    "## Test Set"
   ]
  },
  {
   "cell_type": "code",
   "execution_count": 41,
   "metadata": {
    "id": "LDXJFIgVamjP"
   },
   "outputs": [],
   "source": [
    "# Predictor matrix\n",
    "X_test = test_df[[\"Age_z\", \"Treatment\"]].to_numpy()\n",
    "n_test = X_test.shape[0]  # number of observations"
   ]
  },
  {
   "cell_type": "code",
   "execution_count": 42,
   "metadata": {
    "id": "eTF3DBZ8fwTU"
   },
   "outputs": [],
   "source": [
    "# POM test set evaluation\n",
    "# Compute raw linear predictor\n",
    "eta_test_pom = X_test.dot(beta_pom_mean)\n",
    "\n",
    "# Compute ordered logit probabilities (n_obs x 7)\n",
    "pom_probs_test = ordered_logistic_probs(\n",
    "    eta_test_pom,\n",
    "    alphas_pom_mean\n",
    ")\n",
    "\n",
    "# Select the most likely category for each observation\n",
    "pom_test_preds = np.argmax(pom_probs_test, axis=1)\n",
    "\n",
    "# Compute accuracy\n",
    "pom_test_acc = accuracy_score(\n",
    "    test_df[\"Severity\"],\n",
    "    pom_test_preds\n",
    ")"
   ]
  },
  {
   "cell_type": "code",
   "execution_count": 43,
   "metadata": {
    "id": "B40hn_jxfwQP"
   },
   "outputs": [],
   "source": [
    "# NPOM test set evaluation\n",
    "# Compute threshold-specific linear predictors\n",
    "eta_test_np = X_test.dot(betas_np_mean.T)\n",
    "\n",
    "# Compute ordered logit probabilities (n_obs x 7)\n",
    "npom_probs_test = ordered_logistic_probs(\n",
    "    eta_test_np,\n",
    "    alphas_np_mean,\n",
    "    is_npom=True\n",
    ")\n",
    "\n",
    "# Select the most likely category for each observation\n",
    "npom_test_preds = np.argmax(npom_probs_test, axis=1)\n",
    "\n",
    "# Compute accuracy\n",
    "npom_test_acc = accuracy_score(\n",
    "    test_df[\"Severity\"],\n",
    "    npom_test_preds\n",
    ")"
   ]
  },
  {
   "cell_type": "code",
   "execution_count": 44,
   "metadata": {
    "id": "t5XsU2uKbiR1"
   },
   "outputs": [],
   "source": [
    "# PPOM test set evaluation\n",
    "# Build the slope matrix from the two posterior-mean vectors\n",
    "#   beta_age_ppom_mean; shape = (6,)\n",
    "#   beta_trt_ppom_mean; scalar\n",
    "betas_ppom_mean = np.column_stack([\n",
    "    beta_age_ppom_mean,\n",
    "    np.repeat(beta_trt_ppom_mean, 6)\n",
    "])\n",
    "\n",
    "# Compute threshold-specific linear predictors (n_obs x 6)\n",
    "eta_test_ppom = X_test.dot(betas_ppom_mean.T)\n",
    "\n",
    "# Get array of probabilities (n_obs x 7)\n",
    "# Pass is_npom=True so each threshold has its own linear predictor\n",
    "ppom_probs_test = ordered_logistic_probs(\n",
    "    eta_test_ppom,\n",
    "    alphas_ppom_mean,\n",
    "    is_npom=True\n",
    ")\n",
    "\n",
    "# Select the most likely category for each observation\n",
    "ppom_test_preds = np.argmax(ppom_probs_test, axis=1)\n",
    "\n",
    "# Compute accuracy\n",
    "ppom_test_acc = accuracy_score(\n",
    "    test_df[\"Severity\"],\n",
    "    ppom_test_preds\n",
    ")"
   ]
  },
  {
   "cell_type": "code",
   "execution_count": 45,
   "metadata": {
    "id": "XYB2a2YJbiPf"
   },
   "outputs": [],
   "source": [
    "# ITL test set evaluation\n",
    "# Compute raw logits for each threshold j=0..5:\n",
    "#   logit(P(Y <= j)) = alpha_itl_mean[j] + X_test.dot(beta_itl_mean[j])\n",
    "#   overall shape = (n_test, 6)\n",
    "logits_test_itl = alpha_itl_mean + X_test.dot(beta_itl_mean.T)\n",
    "\n",
    "# Clip to avoid overflow\n",
    "logits_test_itl = np.clip(logits_test_itl, -500, 500)\n",
    "\n",
    "# Convert to cumulative probabilities via sigmoid\n",
    "cdfs_itl = 1.0 / (1.0 + np.exp(-logits_test_itl))\n",
    "\n",
    "# Enforce monotonicity: P(Y <= j) >= P(Y <= j-1)\n",
    "cdfs_itl = np.maximum.accumulate(cdfs_itl, axis=1)\n",
    "\n",
    "# Add 0 at j=-1 and 1 at j=6 to form full CDF\n",
    "cdfs_full_itl = np.concatenate([\n",
    "    np.zeros((n_test, 1)),\n",
    "    cdfs_itl,\n",
    "    np.ones((n_test, 1))\n",
    "], axis=1)\n",
    "\n",
    "# Category probabilities by adjacent differences; shape = (n_test, 7)\n",
    "probs_itl_test = cdfs_full_itl[:, 1:] - cdfs_full_itl[:, :-1]\n",
    "\n",
    "# Renormalize\n",
    "probs_itl_test /= probs_itl_test.sum(axis=1, keepdims=True)\n",
    "\n",
    "# Select the most likely category for each observation\n",
    "itl_test_preds = np.argmax(probs_itl_test, axis=1)\n",
    "\n",
    "# Compute accuracy\n",
    "itl_test_acc = accuracy_score(\n",
    "    test_df[\"Severity\"],\n",
    "    itl_test_preds\n",
    ")"
   ]
  },
  {
   "cell_type": "code",
   "execution_count": 46,
   "metadata": {
    "id": "iql8i0fPgXtB"
   },
   "outputs": [],
   "source": [
    "# MNL test set evaluation\n",
    "# Initialize logits matrix\n",
    "#   zeros for category 0, fill categories 1..6\n",
    "#   logits_test; shape = (n_test, 7)\n",
    "logits_test = np.zeros((n_test, 7))\n",
    "\n",
    "# Fill logits for categories 1..6:\n",
    "#   logits_test[:, j+1] = alpha_mnl_mean[j] + X_test dot beta_mnl_mean[j].T\n",
    "for j in range(6):\n",
    "    logits_test[:, j + 1] = (\n",
    "        alpha_mnl_mean[j] + X_test.dot(beta_mnl_mean[j].T)\n",
    "    )\n",
    "\n",
    "# Convert logits to probabilities via softmax\n",
    "exp_logits_test = np.exp(logits_test)\n",
    "mnl_probs_test = exp_logits_test / exp_logits_test.sum(\n",
    "    axis=1,\n",
    "    keepdims=True\n",
    ")\n",
    "\n",
    "# Select the most likely category for each observation\n",
    "mnl_test_preds = np.argmax(mnl_probs_test, axis=1)\n",
    "\n",
    "# Compute accuracy\n",
    "mnl_test_acc = accuracy_score(\n",
    "    test_df[\"Severity\"],\n",
    "    mnl_test_preds\n",
    ")"
   ]
  },
  {
   "cell_type": "code",
   "execution_count": 47,
   "metadata": {
    "colab": {
     "base_uri": "https://localhost:8080/"
    },
    "id": "r5hKzfv7EayR",
    "outputId": "06ae3f9f-f39b-45b9-a9e3-0f4a7ad9ab60"
   },
   "outputs": [
    {
     "name": "stdout",
     "output_type": "stream",
     "text": [
      "=== Test Set Accuracy ===\n",
      "POM: 0.2975\n",
      "NPOM: 0.3100\n",
      "PPOM: 0.3000\n",
      "ITL: 0.3075\n",
      "MNL: 0.3100\n"
     ]
    }
   ],
   "source": [
    "# Test set accuracies\n",
    "print(\"=== Test Set Accuracy ===\")\n",
    "print(f\"POM: {pom_test_acc:.4f}\")\n",
    "print(f\"NPOM: {npom_test_acc:.4f}\")\n",
    "print(f\"PPOM: {ppom_test_acc:.4f}\")\n",
    "print(f\"ITL: {itl_test_acc:.4f}\")\n",
    "print(f\"MNL: {mnl_test_acc:.4f}\")"
   ]
  },
  {
   "cell_type": "markdown",
   "metadata": {
    "id": "frrPIqFpOdMG"
   },
   "source": [
    "## Modular Rewrite"
   ]
  },
  {
   "cell_type": "code",
   "execution_count": 48,
   "metadata": {
    "id": "Ns5u9UGlO6-R"
   },
   "outputs": [],
   "source": [
    "def ordinal_accuracy(\n",
    "    X: np.ndarray,\n",
    "    y: np.ndarray,\n",
    "    beta: np.ndarray,\n",
    "    alphas: np.ndarray,\n",
    "    is_npom: bool = False\n",
    ") -> float:\n",
    "    \"\"\"\n",
    "    Compute accuracy for POM or NPOM:\n",
    "    - beta: shape = (n_features,) for POM, or (n_thresholds, n_features) for NPOM\n",
    "    - alphas: shape = (n_thresholds,)\n",
    "    - is_npom: If True, interpret beta as (n_thresholds, n_features)\n",
    "    \"\"\"\n",
    "    # Compute linear predictors\n",
    "    if not is_npom:\n",
    "        # POM: single shared coefficient per feature\n",
    "        # eta has shape (n_samples,)\n",
    "        eta = X.dot(beta)\n",
    "    else:\n",
    "        # NPOM (or PPOM): distinct coefficients per threshold\n",
    "        # beta has shape (n_thresholds, n_features)\n",
    "        # eta has shape (n_samples, n_thresholds)\n",
    "        eta = X.dot(beta.T)\n",
    "\n",
    "    # Turn eta and cutpoints into an (n_samples, K) probability matrix\n",
    "    probs = ordered_logistic_probs(eta, alphas, is_npom=is_npom)\n",
    "\n",
    "    # Select category with the highest probability for each sample\n",
    "    preds = np.argmax(probs, axis=1)\n",
    "\n",
    "    return accuracy_score(y, preds)"
   ]
  },
  {
   "cell_type": "code",
   "execution_count": 49,
   "metadata": {
    "id": "FgVAigmaelvV"
   },
   "outputs": [],
   "source": [
    "def ppom_accuracy(\n",
    "    X: np.ndarray,\n",
    "    y: np.ndarray,\n",
    "    beta_age: np.ndarray,\n",
    "    beta_trt: float,\n",
    "    alphas: np.ndarray\n",
    ") -> float:\n",
    "    \"\"\"\n",
    "    Compute accuracy for PPOM.\n",
    "    - beta_age: shape = (n_thresholds,)\n",
    "    - beta_trt: scalar\n",
    "    - alphas: shape = (n_thresholds,)\n",
    "    \"\"\"\n",
    "    # Build threshold-specific slope matrix; shape = (n_thresholds, n_features)\n",
    "    betas = np.column_stack([\n",
    "        beta_age,\n",
    "        np.repeat(beta_trt, beta_age.shape[0])\n",
    "    ])\n",
    "\n",
    "    # Call ordinal_accuracy with is_npom=True\n",
    "    return ordinal_accuracy(X, y, betas, alphas, is_npom=True)"
   ]
  },
  {
   "cell_type": "code",
   "execution_count": 50,
   "metadata": {
    "id": "GkCJGlCEemkO"
   },
   "outputs": [],
   "source": [
    "def itl_accuracy(\n",
    "    X: np.ndarray,\n",
    "    y: np.ndarray,\n",
    "    alpha_itl: np.ndarray,\n",
    "    beta_itl: np.ndarray\n",
    ") -> float:\n",
    "    \"\"\"\n",
    "    Compute accuracy for ITL model.\n",
    "    - alpha_itl: shape = (n_thresholds,)\n",
    "    - beta_itl: shape = (n_thresholds, n_features)\n",
    "    \"\"\"\n",
    "    # Number of samples\n",
    "    n_samples = X.shape[0]\n",
    "\n",
    "    # Compute raw logits for each threshold\n",
    "    logits = alpha_itl + X.dot(beta_itl.T)\n",
    "\n",
    "    # Clip to avoid overflow\n",
    "    logits = np.clip(logits, -500, 500)\n",
    "\n",
    "    # Convert to cumulative probabilities\n",
    "    cdfs = 1.0 / (1.0 + np.exp(-logits))\n",
    "\n",
    "    # Enforce monotonicity: P(Y <= j) >= P(Y <= j-1)\n",
    "    cdfs = np.maximum.accumulate(cdfs, axis=1)\n",
    "\n",
    "    # Add boundaries\n",
    "    cdfs_full = np.concatenate([\n",
    "        np.zeros((n_samples, 1)),\n",
    "        cdfs,\n",
    "        np.ones((n_samples, 1))\n",
    "    ], axis=1)\n",
    "\n",
    "    # Category probabilities by adjacent differences\n",
    "    probs = cdfs_full[:, 1:] - cdfs_full[:, :-1]\n",
    "\n",
    "    # Renormalize\n",
    "    probs = probs / probs.sum(axis=1, keepdims=True)\n",
    "\n",
    "    # Select category with the highest probability for each sample\n",
    "    preds = np.argmax(probs, axis=1)\n",
    "\n",
    "    return accuracy_score(y, preds)"
   ]
  },
  {
   "cell_type": "code",
   "execution_count": 51,
   "metadata": {
    "id": "D26U1c1mPEEC"
   },
   "outputs": [],
   "source": [
    "def mnl_accuracy(\n",
    "    X: np.ndarray,\n",
    "    y: np.ndarray,\n",
    "    alpha_mnl: np.ndarray,\n",
    "    beta_mnl: np.ndarray\n",
    ") -> float:\n",
    "    \"\"\"\n",
    "    Compute accuracy for MNL model:\n",
    "    - alpha_mnl: shape = (n_classes - 1,)\n",
    "    - beta_mnl: shape = (n_classes - 1, n_features)\n",
    "    \"\"\"\n",
    "    # Number of examples and classes\n",
    "    n_samples = X.shape[0]\n",
    "    n_classes = alpha_mnl.shape[0] + 1\n",
    "\n",
    "    # Initialize logits matrix (n_samples x n_classes)\n",
    "    #   column 0 remains 0 for the reference class\n",
    "    logits = np.zeros((n_samples, n_classes))\n",
    "\n",
    "    # Fill logits for classes 1..(n_classes-1)\n",
    "    #   logit for class j+1: alpha_mnl[j] + X dot beta_mnl[j]\n",
    "    for j in range(n_classes - 1):\n",
    "        logits[:, j + 1] = alpha_mnl[j] + X.dot(beta_mnl[j].T)\n",
    "\n",
    "    # Exponentiate logits and normalize to get probabilities\n",
    "    exp_logits = np.exp(logits)\n",
    "    probs = exp_logits / exp_logits.sum(axis=1, keepdims=True)\n",
    "\n",
    "    # Select category with the highest probability for each sample\n",
    "    preds = np.argmax(probs, axis=1)\n",
    "\n",
    "    return accuracy_score(y, preds)"
   ]
  },
  {
   "cell_type": "code",
   "execution_count": 52,
   "metadata": {
    "id": "63syFqjfOgMO"
   },
   "outputs": [],
   "source": [
    "def evaluate_model(\n",
    "    model_name: str,\n",
    "    X_train: np.ndarray,\n",
    "    y_train: np.ndarray,\n",
    "    X_test: np.ndarray,\n",
    "    y_test: np.ndarray,\n",
    "    params: dict\n",
    ") -> tuple[float, float]:\n",
    "    \"\"\"\n",
    "    Compute training-set and test-set accuracy for one of:\n",
    "      - \"POM\": Proportional Odds Model\n",
    "      - \"NPOM\": Non‐Proportional Odds Model\n",
    "      - \"PPOM\": Partial Proportional Odds Model\n",
    "      - \"ITL\": Independent Threshold Logit Model\n",
    "      - \"MNL\": Multinomial Logit Model\n",
    "\n",
    "    Parameters\n",
    "    ----------\n",
    "    model_name : str\n",
    "        One of \"POM\", \"NPOM\", \"PPOM\", \"ITL\", or \"MNL\".\n",
    "    X_train : np.ndarray, shape (n_samples, n_features)\n",
    "    y_train : np.ndarray, shape (n_samples,)\n",
    "    X_test : np.ndarray, shape (n_samples_test, n_features)\n",
    "    y_test : np.ndarray, shape (n_samples_test,)\n",
    "    params : dict\n",
    "        - If \"POM\":\n",
    "            {\n",
    "                \"beta\": np.ndarray (n_features,),\n",
    "                \"alphas\": np.ndarray (n_thresholds,)\n",
    "            }\n",
    "        - If \"NPOM\":\n",
    "            {\n",
    "                \"betas\": np.ndarray (n_thresholds,n_features),\n",
    "                \"alphas\": np.ndarray (n_thresholds,)\n",
    "            }\n",
    "        - If \"PPOM\":\n",
    "            {\n",
    "                \"beta_age\": np.ndarray (n_thresholds,),\n",
    "                \"beta_trt\": float,\n",
    "                \"alphas\": np.ndarray (n_thresholds,)\n",
    "            }\n",
    "        - If \"ITL\":\n",
    "            {\n",
    "                \"alphas\": np.ndarray (n_thresholds,),\n",
    "                \"betas\": np.ndarray (n_thresholds,n_features)\n",
    "            }\n",
    "        - If \"MNL\":\n",
    "            {\n",
    "                \"alphas\": np.ndarray (n_classes-1,),\n",
    "                \"betas\": np.ndarray (n_classes-1,n_features)\n",
    "            }\n",
    "\n",
    "    Returns\n",
    "    -------\n",
    "    (train_acc, test_acc): tuple of floats\n",
    "    \"\"\"\n",
    "    if model_name == \"POM\":\n",
    "        train_acc = ordinal_accuracy(\n",
    "            X_train, y_train,\n",
    "            params[\"beta\"], params[\"alphas\"],\n",
    "            is_npom=False\n",
    "        )\n",
    "\n",
    "        test_acc = ordinal_accuracy(\n",
    "            X_test, y_test,\n",
    "            params[\"beta\"], params[\"alphas\"],\n",
    "            is_npom=False\n",
    "        )\n",
    "\n",
    "    elif model_name == \"NPOM\":\n",
    "        train_acc = ordinal_accuracy(\n",
    "            X_train, y_train,\n",
    "            params[\"betas\"], params[\"alphas\"],\n",
    "            is_npom=True\n",
    "        )\n",
    "\n",
    "        test_acc = ordinal_accuracy(\n",
    "            X_test, y_test,\n",
    "            params[\"betas\"], params[\"alphas\"],\n",
    "            is_npom=True\n",
    "        )\n",
    "\n",
    "    elif model_name == \"PPOM\":\n",
    "        train_acc = ppom_accuracy(\n",
    "            X_train, y_train,\n",
    "            params[\"beta_age\"], params[\"beta_trt\"],\n",
    "            params[\"alphas\"]\n",
    "        )\n",
    "\n",
    "        test_acc = ppom_accuracy(\n",
    "            X_test, y_test,\n",
    "            params[\"beta_age\"], params[\"beta_trt\"],\n",
    "            params[\"alphas\"]\n",
    "        )\n",
    "\n",
    "    elif model_name == \"ITL\":\n",
    "        train_acc = itl_accuracy(\n",
    "            X_train, y_train,\n",
    "            params[\"alphas\"], params[\"betas\"]\n",
    "        )\n",
    "\n",
    "        test_acc = itl_accuracy(\n",
    "            X_test, y_test,\n",
    "            params[\"alphas\"], params[\"betas\"]\n",
    "        )\n",
    "\n",
    "    elif model_name == \"MNL\":\n",
    "        train_acc = mnl_accuracy(\n",
    "            X_train, y_train,\n",
    "            params[\"alphas\"], params[\"betas\"]\n",
    "        )\n",
    "\n",
    "        test_acc = mnl_accuracy(\n",
    "            X_test, y_test,\n",
    "            params[\"alphas\"], params[\"betas\"]\n",
    "        )\n",
    "\n",
    "    else:\n",
    "        raise ValueError(f\"Unknown model_name: {model_name!r}\")\n",
    "\n",
    "    return train_acc, test_acc"
   ]
  },
  {
   "cell_type": "code",
   "execution_count": 53,
   "metadata": {
    "id": "4Gz0D0udPYA2"
   },
   "outputs": [],
   "source": [
    "# Extract features and labels once\n",
    "X_train = train_df[[\"Age_z\", \"Treatment\"]].to_numpy()\n",
    "y_train = train_df[\"Severity\"].to_numpy()\n",
    "X_test = test_df[[\"Age_z\", \"Treatment\"]].to_numpy()\n",
    "y_test = test_df[\"Severity\"].to_numpy()"
   ]
  },
  {
   "cell_type": "code",
   "execution_count": 54,
   "metadata": {
    "id": "J_QOxhM6PVfo"
   },
   "outputs": [],
   "source": [
    "# Prepare parameter dicts for each model\n",
    "pom_params = {\n",
    "    \"beta\": beta_pom_mean,\n",
    "    \"alphas\": alphas_pom_mean\n",
    "}\n",
    "\n",
    "npom_params = {\n",
    "    \"betas\": betas_np_mean,\n",
    "    \"alphas\": alphas_np_mean\n",
    "}\n",
    "\n",
    "ppom_params = {\n",
    "    \"beta_age\": beta_age_ppom_mean,\n",
    "    \"beta_trt\": beta_trt_ppom_mean,\n",
    "    \"alphas\": alphas_ppom_mean\n",
    "}\n",
    "\n",
    "itl_params = {\n",
    "    \"alphas\": alpha_itl_mean,\n",
    "    \"betas\": beta_itl_mean\n",
    "}\n",
    "\n",
    "mnl_params = {\n",
    "    \"alphas\": alpha_mnl_mean,\n",
    "    \"betas\": beta_mnl_mean\n",
    "}"
   ]
  },
  {
   "cell_type": "code",
   "execution_count": 55,
   "metadata": {
    "id": "qZc0T4YXPVdj"
   },
   "outputs": [],
   "source": [
    "# Call evaluate_model\n",
    "pom_train_acc, pom_test_acc = evaluate_model(\n",
    "    \"POM\",\n",
    "    X_train,\n",
    "    y_train,\n",
    "    X_test,\n",
    "    y_test,\n",
    "    pom_params\n",
    ")\n",
    "\n",
    "npom_train_acc, npom_test_acc = evaluate_model(\n",
    "    \"NPOM\",\n",
    "    X_train,\n",
    "    y_train,\n",
    "    X_test,\n",
    "    y_test,\n",
    "    npom_params\n",
    ")\n",
    "\n",
    "ppom_train_acc, ppom_test_acc = evaluate_model(\n",
    "    \"PPOM\",\n",
    "    X_train,\n",
    "    y_train,\n",
    "    X_test,\n",
    "    y_test,\n",
    "    ppom_params\n",
    ")\n",
    "\n",
    "itl_train_acc, itl_test_acc = evaluate_model(\n",
    "    \"ITL\",\n",
    "    X_train,\n",
    "    y_train,\n",
    "    X_test,\n",
    "    y_test,\n",
    "    itl_params\n",
    ")\n",
    "\n",
    "mnl_train_acc, mnl_test_acc = evaluate_model(\n",
    "    \"MNL\",\n",
    "    X_train,\n",
    "    y_train,\n",
    "    X_test,\n",
    "    y_test,\n",
    "    mnl_params\n",
    ")"
   ]
  },
  {
   "cell_type": "code",
   "execution_count": 56,
   "metadata": {
    "colab": {
     "base_uri": "https://localhost:8080/"
    },
    "id": "8e8UwoM4PVa9",
    "outputId": "20cb37ec-be1d-4315-da89-b5496d1e267b"
   },
   "outputs": [
    {
     "name": "stdout",
     "output_type": "stream",
     "text": [
      "=== Training Set Accuracy ===\n",
      "POM: 0.2681\n",
      "NPOM: 0.2863\n",
      "PPOM: 0.2744\n",
      "ITL: 0.2838\n",
      "MNL: 0.2825\n"
     ]
    }
   ],
   "source": [
    "# Training set accuracies\n",
    "print(\"=== Training Set Accuracy ===\")\n",
    "print(f\"POM: {pom_train_acc:.4f}\")\n",
    "print(f\"NPOM: {npom_train_acc:.4f}\")\n",
    "print(f\"PPOM: {ppom_train_acc:.4f}\")\n",
    "print(f\"ITL: {itl_train_acc:.4f}\")\n",
    "print(f\"MNL: {mnl_train_acc:.4f}\")"
   ]
  },
  {
   "cell_type": "code",
   "execution_count": 57,
   "metadata": {
    "colab": {
     "base_uri": "https://localhost:8080/"
    },
    "id": "HCV7KqZ0QKkw",
    "outputId": "d6e8d8e1-6b98-4141-b5a9-0218e5ac44c3"
   },
   "outputs": [
    {
     "name": "stdout",
     "output_type": "stream",
     "text": [
      "=== Test Set Accuracy ===\n",
      "POM: 0.2975\n",
      "NPOM: 0.3100\n",
      "PPOM: 0.3000\n",
      "ITL: 0.3075\n",
      "MNL: 0.3100\n"
     ]
    }
   ],
   "source": [
    "# Test set accuracies\n",
    "print(\"=== Test Set Accuracy ===\")\n",
    "print(f\"POM: {pom_test_acc:.4f}\")\n",
    "print(f\"NPOM: {npom_test_acc:.4f}\")\n",
    "print(f\"PPOM: {ppom_test_acc:.4f}\")\n",
    "print(f\"ITL: {itl_test_acc:.4f}\")\n",
    "print(f\"MNL: {mnl_test_acc:.4f}\")"
   ]
  },
  {
   "cell_type": "markdown",
   "metadata": {
    "id": "hIcnu3fvkjlV"
   },
   "source": [
    "## Summaries"
   ]
  },
  {
   "cell_type": "code",
   "execution_count": 58,
   "metadata": {
    "colab": {
     "base_uri": "https://localhost:8080/"
    },
    "id": "LHVQU1wakosb",
    "outputId": "5448ea82-ebc8-4c97-f545-85cc59bbe236"
   },
   "outputs": [
    {
     "name": "stdout",
     "output_type": "stream",
     "text": [
      "=== PyMC Proportional Odds Model (POM) Posterior-Mean Summary ===\n",
      "  Age_z coefficient: 0.4812\n",
      "  Treatment coefficient: 0.0759\n",
      "  Thresholds: [-1.5179, -0.7873, 0.0645, 0.9485, 1.8755, 2.504]\n",
      "  Training set accuracy: 0.2681\n",
      "  Test set accuracy: 0.2975\n"
     ]
    }
   ],
   "source": [
    "# POM Summary\n",
    "print(\"=== PyMC Proportional Odds Model (POM) Posterior-Mean Summary ===\")\n",
    "print(f\"  Age_z coefficient: {beta_pom_mean[0]:.4f}\")\n",
    "print(f\"  Treatment coefficient: {beta_pom_mean[1]:.4f}\")\n",
    "print(f\"  Thresholds: {alphas_pom_mean.round(4).tolist()}\")\n",
    "print(f\"  Training set accuracy: {pom_train_acc:.4f}\")\n",
    "print(f\"  Test set accuracy: {pom_test_acc:.4f}\")"
   ]
  },
  {
   "cell_type": "code",
   "execution_count": 59,
   "metadata": {
    "colab": {
     "base_uri": "https://localhost:8080/"
    },
    "id": "aWJLwAkMqrtG",
    "outputId": "55056cfb-d168-4b01-b48a-221ef7a027a1"
   },
   "outputs": [
    {
     "name": "stdout",
     "output_type": "stream",
     "text": [
      "=== PyMC Non-Proportional Odds Model (NPOM) Posterior-Mean Summary ===\n",
      "  Threshold 0->1 slopes:  Age_z = 1.0896,  Treatment = -0.3493\n",
      "  Threshold 1->2 slopes:  Age_z = 0.7962,  Treatment = -0.1307\n",
      "  Threshold 2->3 slopes:  Age_z = 0.5457,  Treatment = 0.0310\n",
      "  Threshold 3->4 slopes:  Age_z = 0.2611,  Treatment = 0.3260\n",
      "  Threshold 4->5 slopes:  Age_z = -0.2723,  Treatment = 0.5028\n",
      "  Threshold 5->6 slopes:  Age_z = -0.9497,  Treatment = 1.0735\n",
      "  Thresholds: [-2.0299, -1.0153, -0.0319, 0.9769, 1.9866, 3.1765]\n",
      "  Training set accuracy: 0.2863\n",
      "  Test set accuracy: 0.3100\n"
     ]
    }
   ],
   "source": [
    "# NPOM Summary\n",
    "print(\"=== PyMC Non-Proportional Odds Model (NPOM) Posterior-Mean Summary ===\")\n",
    "for j in range(6):\n",
    "    slope_age = betas_np_mean[j, 0]\n",
    "    slope_treatment = betas_np_mean[j, 1]\n",
    "    print(\n",
    "        f\"  Threshold {j}->{j+1} slopes:  \"\n",
    "        f\"Age_z = {slope_age:.4f},  Treatment = {slope_treatment:.4f}\"\n",
    "    )\n",
    "print(f\"  Thresholds: {alphas_np_mean.round(4).tolist()}\")\n",
    "print(f\"  Training set accuracy: {npom_train_acc:.4f}\")\n",
    "print(f\"  Test set accuracy: {npom_test_acc:.4f}\")"
   ]
  },
  {
   "cell_type": "code",
   "execution_count": 60,
   "metadata": {
    "colab": {
     "base_uri": "https://localhost:8080/"
    },
    "id": "4LDmvG-diHhH",
    "outputId": "125ebc3d-69d0-4c11-e2fb-acd0ab99ec52"
   },
   "outputs": [
    {
     "name": "stdout",
     "output_type": "stream",
     "text": [
      "=== PyMC Partial Proportional Odds Model (PPOM) Posterior-Mean Summary ===\n",
      "  Threshold 0->1 slope for Age_z: 1.0956\n",
      "  Threshold 1->2 slope for Age_z: 0.7724\n",
      "  Threshold 2->3 slope for Age_z: 0.5344\n",
      "  Threshold 3->4 slope for Age_z: 0.2568\n",
      "  Threshold 4->5 slope for Age_z: -0.2524\n",
      "  Threshold 5->6 slope for Age_z: -0.7732\n",
      "  Treatment slope (proportional across thresholds): 0.0970\n",
      "  Thresholds: [-1.8165, -0.9064, -0.0068, 0.8487, 1.7551, 2.5551]\n",
      "  Training set accuracy: 0.2744\n",
      "  Test set accuracy: 0.3000\n"
     ]
    }
   ],
   "source": [
    "# PPOM Summary\n",
    "print(\"=== PyMC Partial Proportional Odds Model (PPOM) Posterior-Mean Summary ===\")\n",
    "for j in range(6):\n",
    "    slope_age = beta_age_ppom_mean[j]\n",
    "    print(\n",
    "        f\"  Threshold {j}->{j+1} slope for Age_z: {slope_age:.4f}\"\n",
    "    )\n",
    "print(f\"  Treatment slope (proportional across thresholds): {beta_trt_ppom_mean:.4f}\")\n",
    "print(f\"  Thresholds: {alphas_ppom_mean.round(4).tolist()}\")\n",
    "print(f\"  Training set accuracy: {ppom_train_acc:.4f}\")\n",
    "print(f\"  Test set accuracy: {ppom_test_acc:.4f}\")"
   ]
  },
  {
   "cell_type": "code",
   "execution_count": 61,
   "metadata": {
    "colab": {
     "base_uri": "https://localhost:8080/"
    },
    "id": "qynX_JJRiHeh",
    "outputId": "8062e6f8-ecb3-4753-c099-ac3da4ecc387"
   },
   "outputs": [
    {
     "name": "stdout",
     "output_type": "stream",
     "text": [
      "=== PyMC Independent Threshold Logit Model (ITL) Posterior-Mean Summary ===\n",
      "  Threshold 0 intercept = -2.1514,  Age_z = -1.2177,  Treatment = 0.4566\n",
      "  Threshold 1 intercept = -1.0166,  Age_z = -0.7916,  Treatment = 0.1189\n",
      "  Threshold 2 intercept = -0.0453,  Age_z = -0.5607,  Treatment = -0.0194\n",
      "  Threshold 3 intercept = 0.9801,  Age_z = -0.2414,  Treatment = -0.3502\n",
      "  Threshold 4 intercept = 1.9491,  Age_z = 0.1959,  Treatment = -0.4461\n",
      "  Threshold 5 intercept = 3.1105,  Age_z = 0.6697,  Treatment = -1.0406\n",
      "  Training set accuracy: 0.2838\n",
      "  Test set accuracy: 0.3075\n"
     ]
    }
   ],
   "source": [
    "# ITL Summary\n",
    "print(\"=== PyMC Independent Threshold Logit Model (ITL) Posterior-Mean Summary ===\")\n",
    "for j in range(6):\n",
    "    intercept_j = alpha_itl_mean[j]\n",
    "    coef_age = beta_itl_mean[j, 0]\n",
    "    coef_treat = beta_itl_mean[j, 1]\n",
    "    print(\n",
    "        f\"  Threshold {j} intercept = {intercept_j:.4f},  \"\n",
    "        f\"Age_z = {coef_age:.4f},  Treatment = {coef_treat:.4f}\"\n",
    "    )\n",
    "print(f\"  Training set accuracy: {itl_train_acc:.4f}\")\n",
    "print(f\"  Test set accuracy: {itl_test_acc:.4f}\")"
   ]
  },
  {
   "cell_type": "code",
   "execution_count": 62,
   "metadata": {
    "colab": {
     "base_uri": "https://localhost:8080/"
    },
    "id": "IVOTLsSBLM3u",
    "outputId": "9d228509-ea3e-4733-fd22-37bcbed0f423"
   },
   "outputs": [
    {
     "name": "stdout",
     "output_type": "stream",
     "text": [
      "=== PyMC Multinomial Logit Model (MNL) Posterior-Mean Summary ===\n",
      "  Category 1 vs. 0:  intercept = 0.4308,  Age_z = 1.1155,  Treatment = -0.7446\n",
      "  Category 2 vs. 0:  intercept = 0.8072,  Age_z = 1.2476,  Treatment = -0.6263\n",
      "  Category 3 vs. 0:  intercept = 0.8955,  Age_z = 1.6395,  Treatment = -0.8777\n",
      "  Category 4 vs. 0:  intercept = 0.4015,  Age_z = 1.7316,  Treatment = -0.4287\n",
      "  Category 5 vs. 0:  intercept = -0.2286,  Age_z = 1.6223,  Treatment = -0.8396\n",
      "  Category 6 vs. 0:  intercept = -0.8581,  Age_z = 0.3169,  Treatment = 0.5806\n",
      "  Training set accuracy: 0.2825\n",
      "  Test set accuracy: 0.3100\n"
     ]
    }
   ],
   "source": [
    "# MNL Summary\n",
    "print(\"=== PyMC Multinomial Logit Model (MNL) Posterior-Mean Summary ===\")\n",
    "for j in range(1, 7):\n",
    "    intercept_j = alpha_mnl_mean[j-1]\n",
    "    coef_age = beta_mnl_mean[j-1, 0]\n",
    "    coef_treat = beta_mnl_mean[j-1, 1]\n",
    "    print(f\"  Category {j} vs. 0:  intercept = {intercept_j:.4f},  Age_z = {coef_age:.4f},  Treatment = {coef_treat:.4f}\")\n",
    "print(f\"  Training set accuracy: {mnl_train_acc:.4f}\")\n",
    "print(f\"  Test set accuracy: {mnl_test_acc:.4f}\")"
   ]
  },
  {
   "cell_type": "markdown",
   "metadata": {
    "id": "aIo1fT2tRSKj"
   },
   "source": [
    "# Confusion Matrices"
   ]
  },
  {
   "cell_type": "code",
   "execution_count": 63,
   "metadata": {
    "id": "2_74EJb90hrn"
   },
   "outputs": [],
   "source": [
    "# Plot Confusion Matrices\n",
    "def plot_confusion_matrices(\n",
    "    test_df: pd.DataFrame,\n",
    "    pom_preds: np.ndarray,\n",
    "    npom_preds: np.ndarray,\n",
    "    ppom_preds: np.ndarray,\n",
    "    itl_preds: np.ndarray,\n",
    "    mnl_preds: np.ndarray\n",
    ") -> None:\n",
    "    \"\"\"\n",
    "    Plot confusion matrices for POM, NPOM, PPOM, ITL, and MNL.\n",
    "    \"\"\"\n",
    "    models = [\n",
    "        (\"POM\", pom_preds),\n",
    "        (\"NPOM\", npom_preds),\n",
    "        (\"PPOM\", ppom_preds),\n",
    "        (\"ITL\", itl_preds),\n",
    "        (\"MNL\", mnl_preds),\n",
    "    ]\n",
    "    labels = [str(i) for i in range(7)]\n",
    "\n",
    "    # Create 3 rows x 2 cols; last subplot will be empty\n",
    "    fig, axes = plt.subplots(3, 2, figsize=(10, 12))\n",
    "    axes_flat = axes.flatten()\n",
    "\n",
    "    for ax, (name, preds) in zip(axes_flat, models):\n",
    "        cm = confusion_matrix(\n",
    "            test_df[\"Severity\"],\n",
    "            preds,\n",
    "            labels=list(range(7))\n",
    "        )\n",
    "        sns.heatmap(\n",
    "            cm,\n",
    "            annot=True,\n",
    "            fmt=\"d\",\n",
    "            cmap=\"Blues\",\n",
    "            xticklabels=labels,\n",
    "            yticklabels=labels,\n",
    "            ax=ax\n",
    "        )\n",
    "        ax.set_title(f\"{name} Confusion Matrix\")\n",
    "        ax.set_xlabel(\"Predicted\")\n",
    "        ax.set_ylabel(\"True\")\n",
    "\n",
    "    # Hide the unused subplot\n",
    "    axes_flat[len(models)].axis(\"off\")\n",
    "\n",
    "    plt.tight_layout()\n",
    "    plt.show()"
   ]
  },
  {
   "cell_type": "code",
   "execution_count": 64,
   "metadata": {
    "colab": {
     "base_uri": "https://localhost:8080/",
     "height": 1000
    },
    "id": "E99HQmfcYKZZ",
    "outputId": "3ab53e0f-fad0-4d9c-cdb2-060435ed5b90"
   },
   "outputs": [
    {
     "name": "stdout",
     "output_type": "stream",
     "text": [
      "=== Confusion Matrices ===\n"
     ]
    },
    {
     "data": {
      "image/png": "[encoded data removed]",
      "text/plain": [
       "<Figure size 1000x1200 with 11 Axes>"
      ]
     },
     "metadata": {},
     "output_type": "display_data"
    }
   ],
   "source": [
    "# Call plot_confusion_matrices\n",
    "print(\"=== Confusion Matrices ===\")\n",
    "plot_confusion_matrices(\n",
    "    test_df,\n",
    "    pom_test_preds,\n",
    "    npom_test_preds,\n",
    "    ppom_test_preds,\n",
    "    itl_test_preds,\n",
    "    mnl_test_preds\n",
    ")"
   ]
  },
  {
   "cell_type": "markdown",
   "metadata": {
    "id": "wm20xkBPHh8-"
   },
   "source": [
    "# Statsmodels Models"
   ]
  },
  {
   "cell_type": "code",
   "execution_count": 65,
   "metadata": {
    "id": "HVXAYvqDDNgP"
   },
   "outputs": [],
   "source": [
    "def fit_statsmodels_pom(train_df, test_df):\n",
    "    \"\"\"\n",
    "    Fit Proportional Odds Model using statsmodels OrderedModel.\n",
    "    \"\"\"\n",
    "    print(\"=== Statsmodels Proportional Odds Model ===\")\n",
    "\n",
    "    # Prepare data - No constant for OrderedModel\n",
    "    X_train = train_df[[\"Age_z\", \"Treatment\"]]\n",
    "    y_train = train_df[\"Severity\"]\n",
    "\n",
    "    X_test = test_df[[\"Age_z\", \"Treatment\"]]\n",
    "    y_test = test_df[\"Severity\"]\n",
    "\n",
    "    # Fit proportional odds model\n",
    "    model = OrderedModel(y_train, X_train, distr='logit')\n",
    "    result = model.fit(method='bfgs', disp=False)\n",
    "\n",
    "    print(\"\\nModel Summary:\")\n",
    "    print(result.summary())\n",
    "\n",
    "    # Extract parameters\n",
    "    # For OrderedModel: first are the predictor coefficients, then thresholds\n",
    "    n_predictors = X_train.shape[1]\n",
    "    beta_sm = result.params.iloc[:n_predictors]     # Age_z, Treatment\n",
    "    thresholds = result.params.iloc[n_predictors:]  # Threshold parameters\n",
    "\n",
    "    print(f\"\\nCoefficients:\")\n",
    "    print(f\"  Age_z: {beta_sm.iloc[0]:.4f}\")\n",
    "    print(f\"  Treatment: {beta_sm.iloc[1]:.4f}\")\n",
    "    print(f\"\\nThreshold parameters: {thresholds.values}\")\n",
    "\n",
    "    # Make predictions\n",
    "    probs_train = result.predict(X_train)\n",
    "    probs_test = result.predict(X_test)\n",
    "\n",
    "    # Get predicted classes (highest probability)\n",
    "    preds_train = np.argmax(probs_train, axis=1)\n",
    "    preds_test = np.argmax(probs_test, axis=1)\n",
    "\n",
    "    # Calculate accuracies\n",
    "    train_acc = accuracy_score(y_train, preds_train)\n",
    "    test_acc = accuracy_score(y_test, preds_test)\n",
    "\n",
    "    print(f\"\\nStatsmodels POM Accuracy:\")\n",
    "    print(f\"  Train: {train_acc:.4f}\")\n",
    "    print(f\"  Test: {test_acc:.4f}\")\n",
    "\n",
    "    return result, train_acc, test_acc"
   ]
  },
  {
   "cell_type": "code",
   "execution_count": 66,
   "metadata": {
    "colab": {
     "base_uri": "https://localhost:8080/"
    },
    "id": "gchQdIxUDO7p",
    "outputId": "cf04bab3-0525-42d5-b537-02de8a9dfeb7"
   },
   "outputs": [
    {
     "name": "stdout",
     "output_type": "stream",
     "text": [
      "=== Statsmodels Proportional Odds Model ===\n",
      "\n",
      "Model Summary:\n",
      "                             OrderedModel Results                             \n",
      "==============================================================================\n",
      "Dep. Variable:               Severity   Log-Likelihood:                -2960.0\n",
      "Model:                   OrderedModel   AIC:                             5936.\n",
      "Method:            Maximum Likelihood   BIC:                             5979.\n",
      "Date:                Sat, 07 Jun 2025                                         \n",
      "Time:                        14:04:04                                         \n",
      "No. Observations:                1600                                         \n",
      "Df Residuals:                    1592                                         \n",
      "Df Model:                           2                                         \n",
      "==============================================================================\n",
      "                 coef    std err          z      P>|z|      [0.025      0.975]\n",
      "------------------------------------------------------------------------------\n",
      "Age_z          0.4814      0.046     10.427      0.000       0.391       0.572\n",
      "Treatment      0.0747      0.088      0.846      0.398      -0.098       0.248\n",
      "0/1           -1.5183      0.078    -19.381      0.000      -1.672      -1.365\n",
      "1/2           -0.3147      0.068     -4.610      0.000      -0.448      -0.181\n",
      "2/3           -0.1612      0.054     -3.008      0.003      -0.266      -0.056\n",
      "3/4           -0.1230      0.052     -2.387      0.017      -0.224      -0.022\n",
      "4/5           -0.0761      0.060     -1.277      0.202      -0.193       0.041\n",
      "5/6           -0.4703      0.096     -4.910      0.000      -0.658      -0.283\n",
      "==============================================================================\n",
      "\n",
      "Coefficients:\n",
      "  Age_z: 0.4814\n",
      "  Treatment: 0.0747\n",
      "\n",
      "Threshold parameters: [-1.51834475 -0.31465689 -0.1612302  -0.123033   -0.07612398 -0.47028492]\n",
      "\n",
      "Statsmodels POM Accuracy:\n",
      "  Train: 0.2700\n",
      "  Test: 0.2975\n"
     ]
    }
   ],
   "source": [
    "# Statsmodels Proportional Odds Model\n",
    "sm_pom_result, sm_pom_train_acc, sm_pom_test_acc = fit_statsmodels_pom(train_df, test_df)"
   ]
  },
  {
   "cell_type": "code",
   "execution_count": 67,
   "metadata": {
    "id": "8KTTyznkoHtb"
   },
   "outputs": [],
   "source": [
    "def fit_statsmodels_itl(train_df, test_df):\n",
    "    \"\"\"\n",
    "    Fit Independent Threshold Logit Model using statsmodels Logit.\n",
    "    Each threshold j = 0..5 has its own binary logistic regression.\n",
    "    \"\"\"\n",
    "    print(\"=== Statsmodels Independent Threshold Logit Model ===\")\n",
    "\n",
    "    # Prepare data - Add constant\n",
    "    X_train = train_df[[\"Age_z\", \"Treatment\"]]\n",
    "    X_train = sm.add_constant(X_train)\n",
    "    y_train = train_df[\"Severity\"].astype(int)\n",
    "\n",
    "    X_test = test_df[[\"Age_z\", \"Treatment\"]]\n",
    "    X_test = sm.add_constant(X_test)\n",
    "    y_test = test_df[\"Severity\"].astype(int)\n",
    "\n",
    "    # Build and fit one Logit per threshold j = 0..5\n",
    "    n_thresholds = len(np.unique(y_train)) - 1\n",
    "    results = []\n",
    "    for j in range(n_thresholds):\n",
    "        # Binary indicator: Y <= j\n",
    "        yj = (y_train <= j).astype(int)\n",
    "        model_j = sm.Logit(yj, X_train)\n",
    "        res_j = model_j.fit(disp=False)\n",
    "        results.append(res_j)\n",
    "\n",
    "        print(f\"\\nThreshold {j} Logit Summary:\")\n",
    "        print(res_j.summary())\n",
    "\n",
    "    # Extract and print coefficients\n",
    "    print(\"\\nCoefficients per threshold:\")\n",
    "    for j, res_j in enumerate(results):\n",
    "        intercept = res_j.params[\"const\"]\n",
    "        coef_age = res_j.params[\"Age_z\"]\n",
    "        coef_trt = res_j.params[\"Treatment\"]\n",
    "        print(\n",
    "            f\"  Threshold {j}:  intercept = {intercept:.4f},  \"\n",
    "            f\"Age_z = {coef_age:.4f},  Treatment = {coef_trt:.4f}\"\n",
    "        )\n",
    "\n",
    "    # Predict P(Y <= j) for each threshold\n",
    "    prob_train = np.column_stack([res.predict(X_train) for res in results])\n",
    "    prob_test = np.column_stack([res.predict(X_test) for res in results])\n",
    "\n",
    "    # Enforce monotonicity: P(Y <= j) >= P(Y <= j-1)\n",
    "    prob_train = np.maximum.accumulate(prob_train, axis=1)\n",
    "    prob_test = np.maximum.accumulate(prob_test, axis=1)\n",
    "\n",
    "    # Add boundaries 0 at j=-1 and 1 at j=n_thresholds\n",
    "    zeros_tr = np.zeros((prob_train.shape[0], 1))\n",
    "    ones_tr = np.ones((prob_train.shape[0], 1))\n",
    "    cdf_train= np.hstack([zeros_tr, prob_train, ones_tr])\n",
    "\n",
    "    zeros_te = np.zeros((prob_test.shape[0], 1))\n",
    "    ones_te = np.ones((prob_test.shape[0], 1))\n",
    "    cdf_test = np.hstack([zeros_te, prob_test, ones_te])\n",
    "\n",
    "    # Compute 7-category probabilities by differencing adjacent CDF values\n",
    "    probs_train = cdf_train[:, 1:] - cdf_train[:, :-1]\n",
    "    probs_test = cdf_test[:, 1:] - cdf_test[:, :-1]\n",
    "\n",
    "    # Make predictions\n",
    "    preds_train = np.argmax(probs_train, axis=1)\n",
    "    preds_test = np.argmax(probs_test, axis=1)\n",
    "\n",
    "    # Calculate accuracies\n",
    "    train_acc = accuracy_score(y_train, preds_train)\n",
    "    test_acc = accuracy_score(y_test, preds_test)\n",
    "\n",
    "    print(f\"\\nStatsmodels ITL Accuracy:\")\n",
    "    print(f\"  Train: {train_acc:.4f}\")\n",
    "    print(f\"  Test: {test_acc:.4f}\")\n",
    "\n",
    "    return results, train_acc, test_acc"
   ]
  },
  {
   "cell_type": "code",
   "execution_count": 68,
   "metadata": {
    "colab": {
     "base_uri": "https://localhost:8080/"
    },
    "id": "TgJ6ERftoHq1",
    "outputId": "6a80fee6-6c59-4463-9954-ead5bb515771"
   },
   "outputs": [
    {
     "name": "stdout",
     "output_type": "stream",
     "text": [
      "=== Statsmodels Independent Threshold Logit Model ===\n",
      "\n",
      "Threshold 0 Logit Summary:\n",
      "                           Logit Regression Results                           \n",
      "==============================================================================\n",
      "Dep. Variable:               Severity   No. Observations:                 1600\n",
      "Model:                          Logit   Df Residuals:                     1597\n",
      "Method:                           MLE   Df Model:                            2\n",
      "Date:                Sat, 07 Jun 2025   Pseudo R-squ.:                  0.1706\n",
      "Time:                        14:04:04   Log-Likelihood:                -623.07\n",
      "converged:                       True   LL-Null:                       -751.19\n",
      "Covariance Type:            nonrobust   LLR p-value:                 2.277e-56\n",
      "==============================================================================\n",
      "                 coef    std err          z      P>|z|      [0.025      0.975]\n",
      "------------------------------------------------------------------------------\n",
      "const         -2.1484      0.120    -17.854      0.000      -2.384      -1.913\n",
      "Age_z         -1.2161      0.088    -13.758      0.000      -1.389      -1.043\n",
      "Treatment      0.4582      0.145      3.160      0.002       0.174       0.742\n",
      "==============================================================================\n",
      "\n",
      "Threshold 1 Logit Summary:\n",
      "                           Logit Regression Results                           \n",
      "==============================================================================\n",
      "Dep. Variable:               Severity   No. Observations:                 1600\n",
      "Model:                          Logit   Df Residuals:                     1597\n",
      "Method:                           MLE   Df Model:                            2\n",
      "Date:                Sat, 07 Jun 2025   Pseudo R-squ.:                 0.08890\n",
      "Time:                        14:04:04   Log-Likelihood:                -890.49\n",
      "converged:                       True   LL-Null:                       -977.38\n",
      "Covariance Type:            nonrobust   LLR p-value:                 1.834e-38\n",
      "==============================================================================\n",
      "                 coef    std err          z      P>|z|      [0.025      0.975]\n",
      "------------------------------------------------------------------------------\n",
      "const         -1.0138      0.084    -12.046      0.000      -1.179      -0.849\n",
      "Age_z         -0.7902      0.065    -12.134      0.000      -0.918      -0.663\n",
      "Treatment      0.1177      0.116      1.016      0.310      -0.109       0.345\n",
      "==============================================================================\n",
      "\n",
      "Threshold 2 Logit Summary:\n",
      "                           Logit Regression Results                           \n",
      "==============================================================================\n",
      "Dep. Variable:               Severity   No. Observations:                 1600\n",
      "Model:                          Logit   Df Residuals:                     1597\n",
      "Method:                           MLE   Df Model:                            2\n",
      "Date:                Sat, 07 Jun 2025   Pseudo R-squ.:                 0.05066\n",
      "Time:                        14:04:04   Log-Likelihood:                -1052.3\n",
      "converged:                       True   LL-Null:                       -1108.5\n",
      "Covariance Type:            nonrobust   LLR p-value:                 4.094e-25\n",
      "==============================================================================\n",
      "                 coef    std err          z      P>|z|      [0.025      0.975]\n",
      "------------------------------------------------------------------------------\n",
      "const         -0.0439      0.073     -0.600      0.549      -0.187       0.099\n",
      "Age_z         -0.5597      0.056    -10.044      0.000      -0.669      -0.450\n",
      "Treatment     -0.0205      0.104     -0.197      0.844      -0.224       0.183\n",
      "==============================================================================\n",
      "\n",
      "Threshold 3 Logit Summary:\n",
      "                           Logit Regression Results                           \n",
      "==============================================================================\n",
      "Dep. Variable:               Severity   No. Observations:                 1600\n",
      "Model:                          Logit   Df Residuals:                     1597\n",
      "Method:                           MLE   Df Model:                            2\n",
      "Date:                Sat, 07 Jun 2025   Pseudo R-squ.:                 0.01595\n",
      "Time:                        14:04:04   Log-Likelihood:                -978.67\n",
      "converged:                       True   LL-Null:                       -994.53\n",
      "Covariance Type:            nonrobust   LLR p-value:                 1.295e-07\n",
      "==============================================================================\n",
      "                 coef    std err          z      P>|z|      [0.025      0.975]\n",
      "------------------------------------------------------------------------------\n",
      "const          0.9789      0.080     12.285      0.000       0.823       1.135\n",
      "Age_z         -0.2407      0.055     -4.348      0.000      -0.349      -0.132\n",
      "Treatment     -0.3514      0.109     -3.215      0.001      -0.566      -0.137\n",
      "==============================================================================\n",
      "\n",
      "Threshold 4 Logit Summary:\n",
      "                           Logit Regression Results                           \n",
      "==============================================================================\n",
      "Dep. Variable:               Severity   No. Observations:                 1600\n",
      "Model:                          Logit   Df Residuals:                     1597\n",
      "Method:                           MLE   Df Model:                            2\n",
      "Date:                Sat, 07 Jun 2025   Pseudo R-squ.:                 0.01213\n",
      "Time:                        14:04:04   Log-Likelihood:                -681.68\n",
      "converged:                       True   LL-Null:                       -690.06\n",
      "Covariance Type:            nonrobust   LLR p-value:                 0.0002312\n",
      "==============================================================================\n",
      "                 coef    std err          z      P>|z|      [0.025      0.975]\n",
      "------------------------------------------------------------------------------\n",
      "const          1.9448      0.107     18.218      0.000       1.736       2.154\n",
      "Age_z          0.1955      0.070      2.778      0.005       0.058       0.333\n",
      "Treatment     -0.4463      0.141     -3.172      0.002      -0.722      -0.171\n",
      "==============================================================================\n",
      "\n",
      "Threshold 5 Logit Summary:\n",
      "                           Logit Regression Results                           \n",
      "==============================================================================\n",
      "Dep. Variable:               Severity   No. Observations:                 1600\n",
      "Model:                          Logit   Df Residuals:                     1597\n",
      "Method:                           MLE   Df Model:                            2\n",
      "Date:                Sat, 07 Jun 2025   Pseudo R-squ.:                 0.08137\n",
      "Time:                        14:04:04   Log-Likelihood:                -440.41\n",
      "converged:                       True   LL-Null:                       -479.42\n",
      "Covariance Type:            nonrobust   LLR p-value:                 1.142e-17\n",
      "==============================================================================\n",
      "                 coef    std err          z      P>|z|      [0.025      0.975]\n",
      "------------------------------------------------------------------------------\n",
      "const          3.1079      0.169     18.362      0.000       2.776       3.440\n",
      "Age_z          0.6701      0.096      6.985      0.000       0.482       0.858\n",
      "Treatment     -1.0485      0.194     -5.392      0.000      -1.430      -0.667\n",
      "==============================================================================\n",
      "\n",
      "Coefficients per threshold:\n",
      "  Threshold 0:  intercept = -2.1484,  Age_z = -1.2161,  Treatment = 0.4582\n",
      "  Threshold 1:  intercept = -1.0138,  Age_z = -0.7902,  Treatment = 0.1177\n",
      "  Threshold 2:  intercept = -0.0439,  Age_z = -0.5597,  Treatment = -0.0205\n",
      "  Threshold 3:  intercept = 0.9789,  Age_z = -0.2407,  Treatment = -0.3514\n",
      "  Threshold 4:  intercept = 1.9448,  Age_z = 0.1955,  Treatment = -0.4463\n",
      "  Threshold 5:  intercept = 3.1079,  Age_z = 0.6701,  Treatment = -1.0485\n",
      "\n",
      "Statsmodels ITL Accuracy:\n",
      "  Train: 0.2838\n",
      "  Test: 0.3075\n"
     ]
    }
   ],
   "source": [
    "# Statsmodels Independent Threshold Logit Model\n",
    "sm_itl_result, sm_itl_train_acc, sm_itl_test_acc = fit_statsmodels_itl(train_df, test_df)"
   ]
  },
  {
   "cell_type": "code",
   "execution_count": 69,
   "metadata": {
    "id": "iTHTCELFHNzF"
   },
   "outputs": [],
   "source": [
    "def fit_statsmodels_mnl(train_df, test_df):\n",
    "    \"\"\"\n",
    "    Fit Multinomial Logit Model using statsmodels MNLogit.\n",
    "    \"\"\"\n",
    "    print(\"=== Statsmodels Multinomial Logit Model ===\")\n",
    "\n",
    "    # Prepare data - Add constant\n",
    "    X_train = train_df[[\"Age_z\", \"Treatment\"]]\n",
    "    X_train = sm.add_constant(X_train)\n",
    "    y_train = train_df[\"Severity\"]\n",
    "\n",
    "    X_test = test_df[[\"Age_z\", \"Treatment\"]]\n",
    "    X_test = sm.add_constant(X_test)\n",
    "    y_test = test_df[\"Severity\"]\n",
    "\n",
    "    # Fit multinomial logit model\n",
    "    model = MNLogit(y_train, X_train)\n",
    "    result = model.fit(\n",
    "        method='newton',\n",
    "        maxiter=300,\n",
    "        full_output=True,\n",
    "        disp=False\n",
    "    )\n",
    "\n",
    "    print(\"\\nModel Summary:\")\n",
    "    print(result.summary())\n",
    "\n",
    "    # Extract parameters (K-1 sets of coefficients)\n",
    "    params = result.params\n",
    "    print(f\"\\nShape of parameters: {params.shape}\")\n",
    "\n",
    "    # Make predictions\n",
    "    probs_train = result.predict(X_train)\n",
    "    probs_test = result.predict(X_test)\n",
    "\n",
    "    preds_train = np.argmax(probs_train, axis=1)\n",
    "    preds_test = np.argmax(probs_test, axis=1)\n",
    "\n",
    "    # Calculate accuracies\n",
    "    train_acc = accuracy_score(y_train, preds_train)\n",
    "    test_acc = accuracy_score(y_test, preds_test)\n",
    "\n",
    "    print(f\"\\nStatsmodels MNL Accuracy:\")\n",
    "    print(f\"  Train: {train_acc:.4f}\")\n",
    "    print(f\"  Test: {test_acc:.4f}\")\n",
    "\n",
    "    return result, train_acc, test_acc"
   ]
  },
  {
   "cell_type": "code",
   "execution_count": 70,
   "metadata": {
    "colab": {
     "base_uri": "https://localhost:8080/"
    },
    "id": "uXuXHaBsDrBV",
    "outputId": "971514ea-2d3b-44ce-9206-5af7cd7fc743"
   },
   "outputs": [
    {
     "name": "stdout",
     "output_type": "stream",
     "text": [
      "=== Statsmodels Multinomial Logit Model ===\n",
      "\n",
      "Model Summary:\n",
      "                          MNLogit Regression Results                          \n",
      "==============================================================================\n",
      "Dep. Variable:               Severity   No. Observations:                 1600\n",
      "Model:                        MNLogit   Df Residuals:                     1582\n",
      "Method:                           MLE   Df Model:                           12\n",
      "Date:                Sat, 07 Jun 2025   Pseudo R-squ.:                 0.07610\n",
      "Time:                        14:04:05   Log-Likelihood:                -2787.0\n",
      "converged:                       True   LL-Null:                       -3016.5\n",
      "Covariance Type:            nonrobust   LLR p-value:                 1.107e-90\n",
      "==============================================================================\n",
      "Severity=1       coef    std err          z      P>|z|      [0.025      0.975]\n",
      "------------------------------------------------------------------------------\n",
      "const          0.4372      0.151      2.890      0.004       0.141       0.734\n",
      "Age_z          1.1166      0.119      9.392      0.000       0.884       1.350\n",
      "Treatment     -0.7505      0.198     -3.790      0.000      -1.139      -0.362\n",
      "------------------------------------------------------------------------------\n",
      "Severity=2       coef    std err          z      P>|z|      [0.025      0.975]\n",
      "------------------------------------------------------------------------------\n",
      "const          0.8121      0.142      5.716      0.000       0.534       1.091\n",
      "Age_z          1.2480      0.110     11.367      0.000       1.033       1.463\n",
      "Treatment     -0.6319      0.179     -3.531      0.000      -0.983      -0.281\n",
      "------------------------------------------------------------------------------\n",
      "Severity=3       coef    std err          z      P>|z|      [0.025      0.975]\n",
      "------------------------------------------------------------------------------\n",
      "const          0.8992      0.142      6.343      0.000       0.621       1.177\n",
      "Age_z          1.6379      0.113     14.445      0.000       1.416       1.860\n",
      "Treatment     -0.8837      0.183     -4.833      0.000      -1.242      -0.525\n",
      "------------------------------------------------------------------------------\n",
      "Severity=4       coef    std err          z      P>|z|      [0.025      0.975]\n",
      "------------------------------------------------------------------------------\n",
      "const          0.4077      0.154      2.639      0.008       0.105       0.711\n",
      "Age_z          1.7297      0.119     14.540      0.000       1.497       1.963\n",
      "Treatment     -0.4358      0.192     -2.267      0.023      -0.813      -0.059\n",
      "------------------------------------------------------------------------------\n",
      "Severity=5       coef    std err          z      P>|z|      [0.025      0.975]\n",
      "------------------------------------------------------------------------------\n",
      "const         -0.2171      0.179     -1.215      0.224      -0.567       0.133\n",
      "Age_z          1.6228      0.144     11.269      0.000       1.341       1.905\n",
      "Treatment     -0.8438      0.244     -3.463      0.001      -1.321      -0.366\n",
      "------------------------------------------------------------------------------\n",
      "Severity=6       coef    std err          z      P>|z|      [0.025      0.975]\n",
      "------------------------------------------------------------------------------\n",
      "const         -0.8455      0.201     -4.208      0.000      -1.239      -0.452\n",
      "Age_z          0.3194      0.124      2.585      0.010       0.077       0.562\n",
      "Treatment      0.5733      0.221      2.599      0.009       0.141       1.006\n",
      "==============================================================================\n",
      "\n",
      "Shape of parameters: (3, 6)\n",
      "\n",
      "Statsmodels MNL Accuracy:\n",
      "  Train: 0.2812\n",
      "  Test: 0.3100\n"
     ]
    }
   ],
   "source": [
    "# Statsmodels Multinomial Logit Model\n",
    "sm_mnl_result, sm_mnl_train_acc, sm_mnl_test_acc = fit_statsmodels_mnl(train_df, test_df)"
   ]
  },
  {
   "cell_type": "markdown",
   "metadata": {
    "id": "4rdbEMDyaCkb"
   },
   "source": [
    "# Unified Summary"
   ]
  },
  {
   "cell_type": "code",
   "execution_count": 71,
   "metadata": {
    "id": "u1s_XCobaCiJ"
   },
   "outputs": [],
   "source": [
    "def summarize_all_models():\n",
    "    \"\"\"\n",
    "    Print a unified summary of parameters and train/test accuracies\n",
    "    for all five PyMC models (POM, NPOM, PPOM, ITL, MNL)\n",
    "    and both Statsmodels models (POM, MNL).\n",
    "    \"\"\"\n",
    "    # === PyMC POM ===\n",
    "    print(\"=== PyMC Proportional Odds Model (POM) Posterior-Mean Summary ===\")\n",
    "    print(f\"  Age_z coefficient: {beta_pom_mean[0]:.4f}\")\n",
    "    print(f\"  Treatment coefficient: {beta_pom_mean[1]:.4f}\")\n",
    "    print(f\"  Thresholds: {alphas_pom_mean.round(4).tolist()}\")\n",
    "    print(f\"  Training set accuracy: {pom_train_acc:.4f}\")\n",
    "    print(f\"  Test set accuracy: {pom_test_acc:.4f}\")\n",
    "    print()\n",
    "\n",
    "    # === PyMC NPOM ===\n",
    "    print(\"=== PyMC Non-Proportional Odds Model (NPOM) Posterior-Mean Summary ===\")\n",
    "    for j in range(6):\n",
    "        slope_age = betas_np_mean[j, 0]\n",
    "        slope_treat = betas_np_mean[j, 1]\n",
    "        print(\n",
    "            f\"  Threshold {j}->{j+1} slopes:  \"\n",
    "            f\"Age_z = {slope_age:.4f},  Treatment = {slope_treat:.4f}\"\n",
    "        )\n",
    "    print(f\"  Thresholds: {alphas_np_mean.round(4).tolist()}\")\n",
    "    print(f\"  Training set accuracy: {npom_train_acc:.4f}\")\n",
    "    print(f\"  Test set accuracy: {npom_test_acc:.4f}\")\n",
    "    print()\n",
    "\n",
    "    # === PyMC PPOM ===\n",
    "    print(\"=== PyMC Partial Proportional Odds Model (PPOM) Posterior-Mean Summary ===\")\n",
    "    for j in range(6):\n",
    "        slope_age = beta_age_ppom_mean[j]\n",
    "        print(f\"  Threshold {j}->{j+1} slope for Age_z: {slope_age:.4f}\")\n",
    "    print(f\"  Treatment slope (shared): {beta_trt_ppom_mean:.4f}\")\n",
    "    print(f\"  Thresholds: {alphas_ppom_mean.round(4).tolist()}\")\n",
    "    print(f\"  Training set accuracy: {ppom_train_acc:.4f}\")\n",
    "    print(f\"  Test set accuracy: {ppom_test_acc:.4f}\")\n",
    "    print()\n",
    "\n",
    "    # === PyMC ITL ===\n",
    "    print(\"=== PyMC Independent Threshold Logit Model (ITL) Posterior-Mean Summary ===\")\n",
    "    for j in range(6):\n",
    "        intercept_j = alpha_itl_mean[j]\n",
    "        coef_age = beta_itl_mean[j, 0]\n",
    "        coef_treatment = beta_itl_mean[j, 1]\n",
    "        print(\n",
    "            f\"  Threshold {j} intercept = {intercept_j:.4f},  \"\n",
    "            f\"Age_z = {coef_age:.4f},  Treatment = {coef_treatment:.4f}\"\n",
    "        )\n",
    "    print(f\"  Training set accuracy: {itl_train_acc:.4f}\")\n",
    "    print(f\"  Test set accuracy: {itl_test_acc:.4f}\")\n",
    "    print()\n",
    "\n",
    "    # === PyMC MNL ===\n",
    "    print(\"=== PyMC Multinomial Logit Model (MNL) Posterior-Mean Summary ===\")\n",
    "    for j in range(1, 7):\n",
    "        intercept_j = alpha_mnl_mean[j - 1]\n",
    "        coef_age = beta_mnl_mean[j - 1, 0]\n",
    "        coef_treat = beta_mnl_mean[j - 1, 1]\n",
    "        print(\n",
    "            f\"  Category {j} vs. 0:  intercept = {intercept_j:.4f},  \"\n",
    "            f\"Age_z = {coef_age:.4f},  Treatment = {coef_treat:.4f}\"\n",
    "        )\n",
    "    print(f\"  Training set accuracy: {mnl_train_acc:.4f}\")\n",
    "    print(f\"  Test set accuracy: {mnl_test_acc:.4f}\")\n",
    "    print()\n",
    "\n",
    "    # === Statsmodels POM ===\n",
    "    print(\"=== Statsmodels Proportional Odds Model (SM POM) Summary ===\")\n",
    "    sm_params_pom = sm_pom_result.params\n",
    "    beta_sm_age = sm_params_pom.iloc[0]\n",
    "    beta_sm_treat = sm_params_pom.iloc[1]\n",
    "    thresholds_sm = sm_params_pom.iloc[2:].values.round(4).tolist()\n",
    "    print(f\"  Age_z coefficient: {beta_sm_age:.4f}\")\n",
    "    print(f\"  Treatment coefficient: {beta_sm_treat:.4f}\")\n",
    "    print(f\"  Threshold parameters: {thresholds_sm}\")\n",
    "    print(f\"  Training set accuracy: {sm_pom_train_acc:.4f}\")\n",
    "    print(f\"  Test set accuracy: {sm_pom_test_acc:.4f}\")\n",
    "    print()\n",
    "\n",
    "    # === Statsmodels ITL ===\n",
    "    print(\"=== Statsmodels Independent Threshold Logit Model (SM ITL) Summary ===\")\n",
    "    for j, res_j in enumerate(sm_itl_result):\n",
    "        intercept_j = res_j.params[\"const\"]\n",
    "        coef_age = res_j.params[\"Age_z\"]\n",
    "        coef_treat = res_j.params[\"Treatment\"]\n",
    "        print(\n",
    "            f\"  Threshold {j}:  intercept = {intercept_j:.4f},  \"\n",
    "            f\"Age_z = {coef_age:.4f},  Treatment = {coef_treat:.4f}\"\n",
    "        )\n",
    "    print(f\"  Training set accuracy: {sm_itl_train_acc:.4f}\")\n",
    "    print(f\"  Test set accuracy: {sm_itl_test_acc:.4f}\")\n",
    "    print()\n",
    "\n",
    "    # === Statsmodels MNL ===\n",
    "    print(\"=== Statsmodels Multinomial Logit Model (SM MNL) Summary ===\")\n",
    "    sm_params_mnl = sm_mnl_result.params\n",
    "    for category in sm_params_mnl.columns:\n",
    "        intercept = sm_params_mnl.loc[\"const\", category]\n",
    "        coef_age = sm_params_mnl.loc[\"Age_z\", category]\n",
    "        coef_treat = sm_params_mnl.loc[\"Treatment\", category]\n",
    "        print(\n",
    "            f\"  Category {int(category)+1} vs. 0:  intercept = {intercept:.4f},  \"\n",
    "            f\"Age_z = {coef_age:.4f},  Treatment = {coef_treat:.4f}\"\n",
    "        )\n",
    "    print(f\"  Training set accuracy: {sm_mnl_train_acc:.4f}\")\n",
    "    print(f\"  Test set accuracy: {sm_mnl_test_acc:.4f}\")"
   ]
  },
  {
   "cell_type": "code",
   "execution_count": 72,
   "metadata": {
    "colab": {
     "base_uri": "https://localhost:8080/"
    },
    "id": "dpd3iZQTU8ks",
    "outputId": "3c75006a-d8b0-42e4-dd26-3c38e7a91f57"
   },
   "outputs": [
    {
     "name": "stdout",
     "output_type": "stream",
     "text": [
      "=== PyMC Proportional Odds Model (POM) Posterior-Mean Summary ===\n",
      "  Age_z coefficient: 0.4812\n",
      "  Treatment coefficient: 0.0759\n",
      "  Thresholds: [-1.5179, -0.7873, 0.0645, 0.9485, 1.8755, 2.504]\n",
      "  Training set accuracy: 0.2681\n",
      "  Test set accuracy: 0.2975\n",
      "\n",
      "=== PyMC Non-Proportional Odds Model (NPOM) Posterior-Mean Summary ===\n",
      "  Threshold 0->1 slopes:  Age_z = 1.0896,  Treatment = -0.3493\n",
      "  Threshold 1->2 slopes:  Age_z = 0.7962,  Treatment = -0.1307\n",
      "  Threshold 2->3 slopes:  Age_z = 0.5457,  Treatment = 0.0310\n",
      "  Threshold 3->4 slopes:  Age_z = 0.2611,  Treatment = 0.3260\n",
      "  Threshold 4->5 slopes:  Age_z = -0.2723,  Treatment = 0.5028\n",
      "  Threshold 5->6 slopes:  Age_z = -0.9497,  Treatment = 1.0735\n",
      "  Thresholds: [-2.0299, -1.0153, -0.0319, 0.9769, 1.9866, 3.1765]\n",
      "  Training set accuracy: 0.2863\n",
      "  Test set accuracy: 0.3100\n",
      "\n",
      "=== PyMC Partial Proportional Odds Model (PPOM) Posterior-Mean Summary ===\n",
      "  Threshold 0->1 slope for Age_z: 1.0956\n",
      "  Threshold 1->2 slope for Age_z: 0.7724\n",
      "  Threshold 2->3 slope for Age_z: 0.5344\n",
      "  Threshold 3->4 slope for Age_z: 0.2568\n",
      "  Threshold 4->5 slope for Age_z: -0.2524\n",
      "  Threshold 5->6 slope for Age_z: -0.7732\n",
      "  Treatment slope (shared): 0.0970\n",
      "  Thresholds: [-1.8165, -0.9064, -0.0068, 0.8487, 1.7551, 2.5551]\n",
      "  Training set accuracy: 0.2744\n",
      "  Test set accuracy: 0.3000\n",
      "\n",
      "=== PyMC Independent Threshold Logit Model (ITL) Posterior-Mean Summary ===\n",
      "  Threshold 0 intercept = -2.1514,  Age_z = -1.2177,  Treatment = 0.4566\n",
      "  Threshold 1 intercept = -1.0166,  Age_z = -0.7916,  Treatment = 0.1189\n",
      "  Threshold 2 intercept = -0.0453,  Age_z = -0.5607,  Treatment = -0.0194\n",
      "  Threshold 3 intercept = 0.9801,  Age_z = -0.2414,  Treatment = -0.3502\n",
      "  Threshold 4 intercept = 1.9491,  Age_z = 0.1959,  Treatment = -0.4461\n",
      "  Threshold 5 intercept = 3.1105,  Age_z = 0.6697,  Treatment = -1.0406\n",
      "  Training set accuracy: 0.2838\n",
      "  Test set accuracy: 0.3075\n",
      "\n",
      "=== PyMC Multinomial Logit Model (MNL) Posterior-Mean Summary ===\n",
      "  Category 1 vs. 0:  intercept = 0.4308,  Age_z = 1.1155,  Treatment = -0.7446\n",
      "  Category 2 vs. 0:  intercept = 0.8072,  Age_z = 1.2476,  Treatment = -0.6263\n",
      "  Category 3 vs. 0:  intercept = 0.8955,  Age_z = 1.6395,  Treatment = -0.8777\n",
      "  Category 4 vs. 0:  intercept = 0.4015,  Age_z = 1.7316,  Treatment = -0.4287\n",
      "  Category 5 vs. 0:  intercept = -0.2286,  Age_z = 1.6223,  Treatment = -0.8396\n",
      "  Category 6 vs. 0:  intercept = -0.8581,  Age_z = 0.3169,  Treatment = 0.5806\n",
      "  Training set accuracy: 0.2825\n",
      "  Test set accuracy: 0.3100\n",
      "\n",
      "=== Statsmodels Proportional Odds Model (SM POM) Summary ===\n",
      "  Age_z coefficient: 0.4814\n",
      "  Treatment coefficient: 0.0747\n",
      "  Threshold parameters: [-1.5183, -0.3147, -0.1612, -0.123, -0.0761, -0.4703]\n",
      "  Training set accuracy: 0.2700\n",
      "  Test set accuracy: 0.2975\n",
      "\n",
      "=== Statsmodels Independent Threshold Logit Model (SM ITL) Summary ===\n",
      "  Threshold 0:  intercept = -2.1484,  Age_z = -1.2161,  Treatment = 0.4582\n",
      "  Threshold 1:  intercept = -1.0138,  Age_z = -0.7902,  Treatment = 0.1177\n",
      "  Threshold 2:  intercept = -0.0439,  Age_z = -0.5597,  Treatment = -0.0205\n",
      "  Threshold 3:  intercept = 0.9789,  Age_z = -0.2407,  Treatment = -0.3514\n",
      "  Threshold 4:  intercept = 1.9448,  Age_z = 0.1955,  Treatment = -0.4463\n",
      "  Threshold 5:  intercept = 3.1079,  Age_z = 0.6701,  Treatment = -1.0485\n",
      "  Training set accuracy: 0.2838\n",
      "  Test set accuracy: 0.3075\n",
      "\n",
      "=== Statsmodels Multinomial Logit Model (SM MNL) Summary ===\n",
      "  Category 1 vs. 0:  intercept = 0.4372,  Age_z = 1.1166,  Treatment = -0.7505\n",
      "  Category 2 vs. 0:  intercept = 0.8121,  Age_z = 1.2480,  Treatment = -0.6319\n",
      "  Category 3 vs. 0:  intercept = 0.8992,  Age_z = 1.6379,  Treatment = -0.8837\n",
      "  Category 4 vs. 0:  intercept = 0.4077,  Age_z = 1.7297,  Treatment = -0.4358\n",
      "  Category 5 vs. 0:  intercept = -0.2171,  Age_z = 1.6228,  Treatment = -0.8438\n",
      "  Category 6 vs. 0:  intercept = -0.8455,  Age_z = 0.3194,  Treatment = 0.5733\n",
      "  Training set accuracy: 0.2812\n",
      "  Test set accuracy: 0.3100\n"
     ]
    }
   ],
   "source": [
    "# Summarize all models\n",
    "summarize_all_models()"
   ]
  },
  {
   "cell_type": "markdown",
   "metadata": {
    "id": "MJ8G2KEshXRc"
   },
   "source": [
    "# VGAM Models"
   ]
  },
  {
   "cell_type": "code",
   "execution_count": 73,
   "metadata": {
    "id": "rs5tUxA-hbb4"
   },
   "outputs": [],
   "source": [
    "# Save the data\n",
    "train_df.to_csv(\"/content/train_df.csv\", index=False)\n",
    "test_df.to_csv(\"/content/test_df.csv\", index=False)"
   ]
  },
  {
   "cell_type": "code",
   "execution_count": 74,
   "metadata": {
    "id": "_hzcCi2mo0hD"
   },
   "outputs": [],
   "source": [
    "# Load the R magic\n",
    "%load_ext rpy2.ipython"
   ]
  },
  {
   "cell_type": "code",
   "execution_count": 75,
   "metadata": {
    "colab": {
     "base_uri": "https://localhost:8080/",
     "height": 191
    },
    "id": "2muvA_wTqf7i",
    "outputId": "1febad80-df02-4108-9a0c-b58b60847bd4"
   },
   "outputs": [
    {
     "data": {
      "text/plain": [
       "Installing package into ‘/usr/local/lib/R/site-library’\n",
       "(as ‘lib’ is unspecified)\n",
       "trying URL 'https://cloud.r-project.org/src/contrib/VGAM_1.1-13.tar.gz'\n",
       "Content type 'application/x-gzip' length 1710222 bytes (1.6 MB)\n",
       "==================================================\n",
       "downloaded 1.6 MB\n",
       "\n",
       "\n",
       "The downloaded source packages are in\n",
       "\t‘/tmp/RtmpPMhijg/downloaded_packages’\n"
      ]
     },
     "metadata": {},
     "output_type": "display_data"
    }
   ],
   "source": [
    "# Install VGAM\n",
    "%%R\n",
    "install.packages(\"VGAM\", repos=\"https://cloud.r-project.org\")"
   ]
  },
  {
   "cell_type": "code",
   "execution_count": 76,
   "metadata": {
    "colab": {
     "base_uri": "https://localhost:8080/",
     "height": 52
    },
    "id": "AT23kcoLxRK6",
    "outputId": "1ed3d13a-24fc-4ff5-c180-f41bf6e37064"
   },
   "outputs": [
    {
     "data": {
      "text/plain": [
       "Loading required package: stats4\n",
       "Loading required package: splines\n"
      ]
     },
     "metadata": {},
     "output_type": "display_data"
    }
   ],
   "source": [
    "%%R\n",
    "library(VGAM)\n",
    "\n",
    "# Read in the data\n",
    "train_df <- read.csv(\"/content/train_df.csv\", stringsAsFactors=FALSE)\n",
    "test_df <- read.csv(\"/content/test_df.csv\", stringsAsFactors=FALSE)\n",
    "\n",
    "train_df$Severity <- factor(train_df$Severity, levels=0:6)\n",
    "train_df$Treatment <- factor(train_df$Treatment, levels=c(0, 1))\n",
    "test_df$Severity <- factor(test_df$Severity, levels=0:6)\n",
    "test_df$Treatment <- factor(test_df$Treatment, levels=c(0, 1))"
   ]
  },
  {
   "cell_type": "code",
   "execution_count": 77,
   "metadata": {
    "colab": {
     "base_uri": "https://localhost:8080/",
     "height": 69
    },
    "id": "DHcMaXtyxUGP",
    "outputId": "933eb3cf-4efc-4ab6-a100-7d21fe026749"
   },
   "outputs": [
    {
     "data": {
      "text/plain": [
       "In addition: Warning message:\n",
       "In eval(slot(family, \"initialize\")) :\n",
       "  response should be ordinal---see ordered()\n"
      ]
     },
     "metadata": {},
     "output_type": "display_data"
    }
   ],
   "source": [
    "%%R\n",
    "# Fit Proportional Odds Model (POM)\n",
    "vglm_pom <- vglm(\n",
    "  Severity ~ Age_z + Treatment,\n",
    "  family=cumulative(parallel=TRUE, link=\"logitlink\"),\n",
    "  data=train_df,\n",
    "  trace=FALSE\n",
    ")\n",
    "\n",
    "coeffs_pom <- Coef(vglm_pom, matrix=FALSE)\n",
    "alpha_names <- paste0(\"alpha\", 1:6)\n",
    "beta_names <- c(\"Age_z\", \"Treatment1\")\n",
    "pom_thresholds <- coeffs_pom[alpha_names]\n",
    "pom_betas <- coeffs_pom[beta_names]"
   ]
  },
  {
   "cell_type": "code",
   "execution_count": 78,
   "metadata": {
    "colab": {
     "base_uri": "https://localhost:8080/",
     "height": 34
    },
    "id": "N2x_1iDYxUDp",
    "outputId": "e16da982-37df-4f1d-bd71-612d8718554f"
   },
   "outputs": [
    {
     "data": {
      "text/plain": [
       "In addition: There were 45 warnings (use warnings() to see them)\n"
      ]
     },
     "metadata": {},
     "output_type": "display_data"
    }
   ],
   "source": [
    "%%R\n",
    "# Fit Non-Proportional Odds Model (NPOM)\n",
    "vglm_npom <- vglm(\n",
    "  Severity ~ Age_z + Treatment,\n",
    "  family=cumulative(parallel=FALSE, link=\"logitlink\"),\n",
    "  data=train_df,\n",
    "  trace=FALSE\n",
    ")\n",
    "\n",
    "coeffs_npom <- Coef(vglm_npom, matrix=FALSE)\n",
    "npom_thresholds <- coeffs_npom[alpha_names]\n",
    "\n",
    "npom_betas <- matrix(\n",
    "    NA,\n",
    "    nrow=6L,\n",
    "    ncol=2L,\n",
    "    dimnames=list(paste0(\"th\", 1:6), beta_names)\n",
    ")\n",
    "\n",
    "for (j in seq_len(6L)) {\n",
    "  npom_betas[j, \"Age_z\"] <- coeffs_npom[paste0(\"Age_z:\", j)]\n",
    "  npom_betas[j, \"Treatment1\"] <- coeffs_npom[paste0(\"Treatment1:\", j)]\n",
    "}"
   ]
  },
  {
   "cell_type": "code",
   "execution_count": 79,
   "metadata": {
    "id": "ZoBOTAeoxccO"
   },
   "outputs": [],
   "source": [
    "%%R\n",
    "# Fit Multinomial Logit Model (MNL)\n",
    "vglm_mnl <- vglm(\n",
    "  Severity ~ Age_z + Treatment,\n",
    "  family=multinomial(refLevel=1),\n",
    "  data=train_df,\n",
    "  trace=FALSE\n",
    ")\n",
    "\n",
    "coeffs_mnl <- Coef(vglm_mnl, matrix=FALSE)"
   ]
  },
  {
   "cell_type": "code",
   "execution_count": 80,
   "metadata": {
    "id": "GZm4894Vxe-E"
   },
   "outputs": [],
   "source": [
    "%%R\n",
    "# Function to compute train/test accuracy\n",
    "predict_class <- function(fit_obj, newdata) {\n",
    "  prob_matrix <- predict(fit_obj, newdata=newdata, type=\"response\")\n",
    "  preds <- apply(prob_matrix, 1, which.max) - 1L\n",
    "  return(preds)\n",
    "}\n",
    "\n",
    "# POM predictions and accuracies\n",
    "train_preds_pom <- predict_class(vglm_pom, train_df)\n",
    "test_preds_pom <- predict_class(vglm_pom, test_df)\n",
    "\n",
    "pom_train_acc <- mean(train_preds_pom == as.integer(as.character(train_df$Severity)))\n",
    "pom_test_acc <- mean(test_preds_pom == as.integer(as.character(test_df$Severity)))\n",
    "\n",
    "# NPOM predictions and accuracies\n",
    "train_preds_npom <- predict_class(vglm_npom, train_df)\n",
    "test_preds_npom <- predict_class(vglm_npom, test_df)\n",
    "\n",
    "npom_train_acc <- mean(train_preds_npom == as.integer(as.character(train_df$Severity)))\n",
    "npom_test_acc <- mean(test_preds_npom == as.integer(as.character(test_df$Severity)))\n",
    "\n",
    "# MNL predictions and accuracies\n",
    "train_preds_mnl <- predict_class(vglm_mnl, train_df)\n",
    "test_preds_mnl <- predict_class(vglm_mnl, test_df)\n",
    "\n",
    "mnl_train_acc <- mean(train_preds_mnl == as.integer(as.character(train_df$Severity)))\n",
    "mnl_test_acc <- mean(test_preds_mnl == as.integer(as.character(test_df$Severity)))"
   ]
  },
  {
   "cell_type": "code",
   "execution_count": 81,
   "metadata": {
    "id": "q9iagVsFxe7j"
   },
   "outputs": [],
   "source": [
    "%%R\n",
    "# Save coefficients\n",
    "# POM\n",
    "pom_df <- data.frame(\n",
    "    param=names(coeffs_pom),\n",
    "    estimate=as.numeric(coeffs_pom),\n",
    "    row.names=NULL,\n",
    "    stringsAsFactors=FALSE\n",
    ")\n",
    "\n",
    "write.csv(\n",
    "    pom_df,\n",
    "    file=\"/content/pom_coeffs.csv\",\n",
    "    row.names=FALSE\n",
    ")\n",
    "\n",
    "# NPOM\n",
    "npom_df <- data.frame(\n",
    "    param=names(coeffs_npom),\n",
    "    estimate=as.numeric(coeffs_npom),\n",
    "    row.names=NULL,\n",
    "    stringsAsFactors=FALSE\n",
    ")\n",
    "\n",
    "write.csv(\n",
    "    npom_df,\n",
    "    file=\"/content/npom_coeffs.csv\",\n",
    "    row.names=FALSE\n",
    ")\n",
    "\n",
    "# MNL\n",
    "mnl_df <- data.frame(\n",
    "  param=names(coeffs_mnl),\n",
    "  estimate=as.numeric(coeffs_mnl),\n",
    "  row.names=NULL,\n",
    "  stringsAsFactors=FALSE\n",
    ")\n",
    "\n",
    "write.csv(\n",
    "    mnl_df,\n",
    "    file=\"/content/mnl_coeffs.csv\",\n",
    "    row.names=FALSE\n",
    ")"
   ]
  },
  {
   "cell_type": "code",
   "execution_count": 82,
   "metadata": {
    "colab": {
     "base_uri": "https://localhost:8080/",
     "height": 52
    },
    "id": "uH20tK7VhXO2",
    "outputId": "d24adaf3-bdce-44b2-ac3e-18e624a21be2"
   },
   "outputs": [
    {
     "data": {
      "text/plain": [
       "In addition: Warning message:\n",
       "In eval(expr) : some probabilities are very close to 0\n"
      ]
     },
     "metadata": {},
     "output_type": "display_data"
    }
   ],
   "source": [
    "%%R\n",
    "# Save accuracies\n",
    "acc_df <- data.frame(\n",
    "    model=c(\"POM\", \"NPOM\", \"MNL\"),\n",
    "    train_acc=c(pom_train_acc, npom_train_acc, mnl_train_acc),\n",
    "    test_acc=c(pom_test_acc, npom_test_acc, mnl_test_acc),\n",
    "    stringsAsFactors=FALSE\n",
    ")\n",
    "\n",
    "write.csv(\n",
    "    acc_df,\n",
    "    file=\"/content/ordinal_accuracies.csv\",\n",
    "    row.names=FALSE\n",
    ")\n",
    "\n",
    "# Save model summaries to text files\n",
    "capture.output(\n",
    "    summary(vglm_pom),\n",
    "    file=\"/content/pom_summary.txt\"\n",
    ")\n",
    "\n",
    "capture.output(\n",
    "    summary(vglm_npom),\n",
    "    file=\"/content/npom_summary.txt\"\n",
    ")\n",
    "\n",
    "capture.output(\n",
    "    summary(vglm_mnl),\n",
    "    file=\"/content/mnl_summary.txt\"\n",
    ")"
   ]
  },
  {
   "cell_type": "code",
   "execution_count": 83,
   "metadata": {
    "colab": {
     "base_uri": "https://localhost:8080/"
    },
    "id": "MokQy2SShjd6",
    "outputId": "ad728e87-2936-40f2-e193-3fe380d55820"
   },
   "outputs": [
    {
     "name": "stdout",
     "output_type": "stream",
     "text": [
      "POM Coefficients:\n",
      "           param  estimate\n",
      "0  (Intercept):1 -1.518384\n",
      "1  (Intercept):2 -0.788332\n",
      "2  (Intercept):3  0.062765\n",
      "3  (Intercept):4  0.947007\n",
      "4  (Intercept):5  1.873708\n",
      "5  (Intercept):6  2.498548\n",
      "6          Age_z -0.481411\n",
      "7     Treatment1 -0.074646\n"
     ]
    }
   ],
   "source": [
    "# Read POM coefficients\n",
    "pom_coeffs = pd.read_csv(\"/content/pom_coeffs.csv\")\n",
    "print(\"POM Coefficients:\")\n",
    "print(pom_coeffs)"
   ]
  },
  {
   "cell_type": "code",
   "execution_count": 84,
   "metadata": {
    "colab": {
     "base_uri": "https://localhost:8080/"
    },
    "id": "S5c3-OArkeDE",
    "outputId": "9dc82965-54e6-47e3-c165-7a3c5bf5a681"
   },
   "outputs": [
    {
     "name": "stdout",
     "output_type": "stream",
     "text": [
      "NPOM Coefficients:\n",
      "            param  estimate\n",
      "0   (Intercept):1 -1.708583\n",
      "1   (Intercept):2 -0.896235\n",
      "2   (Intercept):3 -0.040402\n",
      "3   (Intercept):4  0.958906\n",
      "4   (Intercept):5  1.914340\n",
      "5   (Intercept):6  2.807817\n",
      "6         Age_z:1 -0.995880\n",
      "7         Age_z:2 -0.703631\n",
      "8         Age_z:3 -0.522440\n",
      "9         Age_z:4 -0.236561\n",
      "10        Age_z:5  0.193349\n",
      "11        Age_z:6  0.629999\n",
      "12   Treatment1:1  0.378986\n",
      "13   Treatment1:2  0.105088\n",
      "14   Treatment1:3 -0.019227\n",
      "15   Treatment1:4 -0.346138\n",
      "16   Treatment1:5 -0.440946\n",
      "17   Treatment1:6 -0.968631\n"
     ]
    }
   ],
   "source": [
    "# Read NPOM coefficients\n",
    "npom_coeffs = pd.read_csv(\"/content/npom_coeffs.csv\")\n",
    "print(\"NPOM Coefficients:\")\n",
    "print(npom_coeffs)"
   ]
  },
  {
   "cell_type": "code",
   "execution_count": 85,
   "metadata": {
    "colab": {
     "base_uri": "https://localhost:8080/"
    },
    "id": "Nh1pP5YnoOhz",
    "outputId": "3477be49-f0f3-4224-8cf0-716c66f39f27"
   },
   "outputs": [
    {
     "name": "stdout",
     "output_type": "stream",
     "text": [
      "MNL Coefficients:\n",
      "            param  estimate\n",
      "0   (Intercept):1  0.437210\n",
      "1   (Intercept):2  0.812086\n",
      "2   (Intercept):3  0.899190\n",
      "3   (Intercept):4  0.407736\n",
      "4   (Intercept):5 -0.217122\n",
      "5   (Intercept):6 -0.845508\n",
      "6         Age_z:1  1.116641\n",
      "7         Age_z:2  1.248002\n",
      "8         Age_z:3  1.637860\n",
      "9         Age_z:4  1.729727\n",
      "10        Age_z:5  1.622828\n",
      "11        Age_z:6  0.319394\n",
      "12   Treatment1:1 -0.750469\n",
      "13   Treatment1:2 -0.631893\n",
      "14   Treatment1:3 -0.883747\n",
      "15   Treatment1:4 -0.435827\n",
      "16   Treatment1:5 -0.843758\n",
      "17   Treatment1:6  0.573268\n"
     ]
    }
   ],
   "source": [
    "# Read MNL coefficients\n",
    "mnl_coeffs = pd.read_csv(\"/content/mnl_coeffs.csv\")\n",
    "print(\"MNL Coefficients:\")\n",
    "print(mnl_coeffs)"
   ]
  },
  {
   "cell_type": "code",
   "execution_count": 86,
   "metadata": {
    "colab": {
     "base_uri": "https://localhost:8080/"
    },
    "id": "srt9GDlOkb8d",
    "outputId": "e0da3567-792b-4d89-e1a8-ddc225108846"
   },
   "outputs": [
    {
     "name": "stdout",
     "output_type": "stream",
     "text": [
      "Train/Test Accuracies:\n",
      "  model  train_acc  test_acc\n",
      "0   POM    0.27000    0.2975\n",
      "1  NPOM    0.28500    0.2950\n",
      "2   MNL    0.28125    0.3100\n"
     ]
    }
   ],
   "source": [
    "# Read train/test accuracies for VGAM models\n",
    "acc = pd.read_csv(\"/content/ordinal_accuracies.csv\")\n",
    "print(\"Train/Test Accuracies:\")\n",
    "print(acc)"
   ]
  },
  {
   "cell_type": "code",
   "execution_count": 87,
   "metadata": {
    "colab": {
     "base_uri": "https://localhost:8080/"
    },
    "id": "n1mIHvxBkYgX",
    "outputId": "d3d34a04-b55a-4cb3-fcbf-3efa5f95d761"
   },
   "outputs": [
    {
     "name": "stdout",
     "output_type": "stream",
     "text": [
      "POM Summary:\n",
      "\n",
      "Call:\n",
      "vglm(formula = Severity ~ Age_z + Treatment, family = cumulative(parallel = TRUE, \n",
      "    link = \"logitlink\"), data = train_df, trace = FALSE)\n",
      "\n",
      "Coefficients: \n",
      "              Estimate Std. Error z value Pr(>|z|)    \n",
      "(Intercept):1 -1.51838    0.07878 -19.274   <2e-16 ***\n",
      "(Intercept):2 -0.78833    0.07018 -11.234   <2e-16 ***\n",
      "(Intercept):3  0.06277    0.06730   0.933    0.351    \n",
      "(Intercept):4  0.94701    0.07142  13.259   <2e-16 ***\n",
      "(Intercept):5  1.87371    0.08479  22.099   <2e-16 ***\n",
      "(Intercept):6  2.49855    0.10118  24.694   <2e-16 ***\n",
      "Age_z         -0.48141    0.04572 -10.530   <2e-16 ***\n",
      "Treatment1    -0.07465    0.08829  -0.845    0.398    \n",
      "---\n",
      "Signif. codes:  0 ‘***’ 0.001 ‘**’ 0.01 ‘*’ 0.05 ‘.’ 0.1 ‘ ’ 1\n",
      "\n",
      "Number of linear predictors:  6 \n",
      "\n",
      "Names of linear predictors: logitlink(P[Y<=1]), logitlink(P[Y<=2]), \n",
      "logitlink(P[Y<=3]), logitlink(P[Y<=4]), logitlink(P[Y<=5]), logitlink(P[Y<=6])\n",
      "\n",
      "Residual deviance: 5920.055 on 9592 degrees of freedom\n",
      "\n",
      "Log-likelihood: -2960.028 on 9592 degrees of freedom\n",
      "\n",
      "Number of Fisher scoring iterations: 6 \n",
      "\n",
      "No Hauck-Donner effect found in any of the estimates\n",
      "\n",
      "\n",
      "Exponentiated coefficients:\n",
      "     Age_z Treatment1 \n",
      " 0.6179107  0.9280715 \n",
      "\n"
     ]
    }
   ],
   "source": [
    "# Display the POM summary\n",
    "print(\"POM Summary:\")\n",
    "with open(\"/content/pom_summary.txt\") as f:\n",
    "    print(f.read())"
   ]
  },
  {
   "cell_type": "code",
   "execution_count": 88,
   "metadata": {
    "colab": {
     "base_uri": "https://localhost:8080/"
    },
    "id": "OjJbzm65kYeC",
    "outputId": "bc8b2dec-d20b-4922-9f31-1a13b7ccde9f"
   },
   "outputs": [
    {
     "name": "stdout",
     "output_type": "stream",
     "text": [
      "NPOM Summary:\n",
      "\n",
      "Call:\n",
      "vglm(formula = Severity ~ Age_z + Treatment, family = cumulative(parallel = FALSE, \n",
      "    link = \"logitlink\"), data = train_df, trace = FALSE)\n",
      "\n",
      "Coefficients: \n",
      "                Estimate Std. Error    z value Pr(>|z|)    \n",
      "(Intercept):1 -1.709e+00  6.936e-02 -2.464e+01  < 2e-16 ***\n",
      "(Intercept):2 -8.962e-01  6.934e-02 -1.293e+01  < 2e-16 ***\n",
      "(Intercept):3 -4.040e-02  5.543e-02         NA       NA    \n",
      "(Intercept):4  9.589e-01  1.042e-06  9.200e+05  < 2e-16 ***\n",
      "(Intercept):5  1.914e+00  6.455e-07  2.966e+06  < 2e-16 ***\n",
      "(Intercept):6  2.808e+00  5.261e-07  5.337e+06  < 2e-16 ***\n",
      "Age_z:1       -9.959e-01  3.376e-06 -2.950e+05  < 2e-16 ***\n",
      "Age_z:2       -7.036e-01  4.406e-06 -1.597e+05  < 2e-16 ***\n",
      "Age_z:3       -5.224e-01  7.723e-07 -6.765e+05  < 2e-16 ***\n",
      "Age_z:4       -2.366e-01  5.549e-07 -4.264e+05  < 2e-16 ***\n",
      "Age_z:5        1.933e-01  3.571e-07  5.415e+05  < 2e-16 ***\n",
      "Age_z:6        6.300e-01  2.795e-07  2.254e+06  < 2e-16 ***\n",
      "Treatment1:1   3.790e-01  6.936e-02  5.464e+00 4.65e-08 ***\n",
      "Treatment1:2   1.051e-01  6.934e-02         NA       NA    \n",
      "Treatment1:3  -1.923e-02  5.543e-02         NA       NA    \n",
      "Treatment1:4  -3.461e-01  5.246e-07 -6.598e+05  < 2e-16 ***\n",
      "Treatment1:5  -4.409e-01  4.661e-07 -9.460e+05  < 2e-16 ***\n",
      "Treatment1:6  -9.686e-01  3.879e-07 -2.497e+06  < 2e-16 ***\n",
      "---\n",
      "Signif. codes:  0 ‘***’ 0.001 ‘**’ 0.01 ‘*’ 0.05 ‘.’ 0.1 ‘ ’ 1\n",
      "\n",
      "Number of linear predictors:  6 \n",
      "\n",
      "Names of linear predictors: logitlink(P[Y<=1]), logitlink(P[Y<=2]), \n",
      "logitlink(P[Y<=3]), logitlink(P[Y<=4]), logitlink(P[Y<=5]), logitlink(P[Y<=6])\n",
      "\n",
      "Residual deviance: 7703.139 on 9582 degrees of freedom\n",
      "\n",
      "Log-likelihood: NA on 9582 degrees of freedom\n",
      "\n",
      "Number of Fisher scoring iterations: 2 \n",
      "\n",
      "Warning: Hauck-Donner effect detected in the following estimate(s):\n",
      "'(Intercept):1', '(Intercept):2', '(Intercept):3', '(Intercept):6', 'Age_z:2', 'Age_z:5', 'Treatment1:2', 'Treatment1:3', 'Treatment1:4', 'Treatment1:5'\n",
      "\n",
      "\n",
      "Exponentiated coefficients:\n",
      "     Age_z:1      Age_z:2      Age_z:3      Age_z:4      Age_z:5      Age_z:6 \n",
      "   0.3693983    0.4947856    0.5930717    0.7893379    1.2133061    1.8776081 \n",
      "Treatment1:1 Treatment1:2 Treatment1:3 Treatment1:4 Treatment1:5 Treatment1:6 \n",
      "   1.4608022    1.1108081    0.9809571    0.7074152    0.6434277    0.3796025 \n",
      "\n"
     ]
    }
   ],
   "source": [
    "# Display the NPOM summary\n",
    "print(\"NPOM Summary:\")\n",
    "with open(\"/content/npom_summary.txt\") as f:\n",
    "    print(f.read())"
   ]
  },
  {
   "cell_type": "code",
   "execution_count": 89,
   "metadata": {
    "colab": {
     "base_uri": "https://localhost:8080/"
    },
    "id": "nkAh0kQ-oXqO",
    "outputId": "9db72f0a-67f9-4bbd-baa1-11b3942c4613"
   },
   "outputs": [
    {
     "name": "stdout",
     "output_type": "stream",
     "text": [
      "MNL Summary:\n",
      "\n",
      "Call:\n",
      "vglm(formula = Severity ~ Age_z + Treatment, family = multinomial(refLevel = 1), \n",
      "    data = train_df, trace = FALSE)\n",
      "\n",
      "Coefficients: \n",
      "              Estimate Std. Error z value Pr(>|z|)    \n",
      "(Intercept):1   0.4372     0.1513   2.890 0.003854 ** \n",
      "(Intercept):2   0.8121     0.1421   5.716 1.09e-08 ***\n",
      "(Intercept):3   0.8992     0.1418   6.343 2.25e-10 ***\n",
      "(Intercept):4   0.4077     0.1545   2.639 0.008305 ** \n",
      "(Intercept):5  -0.2171     0.1786  -1.215 0.224180    \n",
      "(Intercept):6  -0.8455     0.2009  -4.208 2.58e-05 ***\n",
      "Age_z:1         1.1166     0.1189   9.392  < 2e-16 ***\n",
      "Age_z:2         1.2480     0.1098  11.367  < 2e-16 ***\n",
      "Age_z:3         1.6379     0.1134  14.445  < 2e-16 ***\n",
      "Age_z:4         1.7297     0.1190  14.540  < 2e-16 ***\n",
      "Age_z:5         1.6228     0.1440  11.269  < 2e-16 ***\n",
      "Age_z:6         0.3194     0.1236   2.585 0.009735 ** \n",
      "Treatment1:1   -0.7505     0.1980  -3.790 0.000151 ***\n",
      "Treatment1:2   -0.6319     0.1789  -3.531 0.000413 ***\n",
      "Treatment1:3   -0.8837     0.1828  -4.833 1.34e-06 ***\n",
      "Treatment1:4   -0.4358     0.1923  -2.267 0.023399 *  \n",
      "Treatment1:5   -0.8438     0.2436  -3.463 0.000534 ***\n",
      "Treatment1:6    0.5733     0.2205   2.599 0.009341 ** \n",
      "---\n",
      "Signif. codes:  0 ‘***’ 0.001 ‘**’ 0.01 ‘*’ 0.05 ‘.’ 0.1 ‘ ’ 1\n",
      "\n",
      "Number of linear predictors:  6 \n",
      "\n",
      "Names of linear predictors: log(mu[,2]/mu[,1]), log(mu[,3]/mu[,1]), \n",
      "log(mu[,4]/mu[,1]), log(mu[,5]/mu[,1]), log(mu[,6]/mu[,1]), log(mu[,7]/mu[,1])\n",
      "\n",
      "Residual deviance: 5573.99 on 9582 degrees of freedom\n",
      "\n",
      "Log-likelihood: -2786.995 on 9582 degrees of freedom\n",
      "\n",
      "Number of Fisher scoring iterations: 5 \n",
      "\n",
      "No Hauck-Donner effect found in any of the estimates\n",
      "\n",
      "\n",
      "Reference group is level  1  of the response\n",
      "\n"
     ]
    }
   ],
   "source": [
    "# Display the MNL summary\n",
    "print(\"MNL Summary:\")\n",
    "with open(\"/content/mnl_summary.txt\") as f:\n",
    "    print(f.read())"
   ]
  }
 ],
 "metadata": {
  "colab": {
   "provenance": [],
   "toc_visible": true
  },
  "kernelspec": {
   "display_name": "Python 3",
   "name": "python3"
  },
  "language_info": {
   "name": "python"
  },
  "widgets": {
   "application/vnd.jupyter.widget-state+json": {
    "20864435ffd8445da241dc9574520c30": {
     "model_module": "@jupyter-widgets/base",
     "model_module_version": "1.2.0",
     "model_name": "LayoutModel",
     "state": {
      "_model_module": "@jupyter-widgets/base",
      "_model_module_version": "1.2.0",
      "_model_name": "LayoutModel",
      "_view_count": null,
      "_view_module": "@jupyter-widgets/base",
      "_view_module_version": "1.2.0",
      "_view_name": "LayoutView",
      "align_content": null,
      "align_items": null,
      "align_self": null,
      "border": null,
      "bottom": null,
      "display": null,
      "flex": null,
      "flex_flow": null,
      "grid_area": null,
      "grid_auto_columns": null,
      "grid_auto_flow": null,
      "grid_auto_rows": null,
      "grid_column": null,
      "grid_gap": null,
      "grid_row": null,
      "grid_template_areas": null,
      "grid_template_columns": null,
      "grid_template_rows": null,
      "height": null,
      "justify_content": null,
      "justify_items": null,
      "left": null,
      "margin": null,
      "max_height": null,
      "max_width": null,
      "min_height": null,
      "min_width": null,
      "object_fit": null,
      "object_position": null,
      "order": null,
      "overflow": null,
      "overflow_x": null,
      "overflow_y": null,
      "padding": null,
      "right": null,
      "top": null,
      "visibility": null,
      "width": null
     }
    },
    "209913818f8a4f18aeb1b595ec1cda6b": {
     "model_module": "@jupyter-widgets/base",
     "model_module_version": "1.2.0",
     "model_name": "LayoutModel",
     "state": {
      "_model_module": "@jupyter-widgets/base",
      "_model_module_version": "1.2.0",
      "_model_name": "LayoutModel",
      "_view_count": null,
      "_view_module": "@jupyter-widgets/base",
      "_view_module_version": "1.2.0",
      "_view_name": "LayoutView",
      "align_content": null,
      "align_items": null,
      "align_self": null,
      "border": null,
      "bottom": null,
      "display": null,
      "flex": null,
      "flex_flow": null,
      "grid_area": null,
      "grid_auto_columns": null,
      "grid_auto_flow": null,
      "grid_auto_rows": null,
      "grid_column": null,
      "grid_gap": null,
      "grid_row": null,
      "grid_template_areas": null,
      "grid_template_columns": null,
      "grid_template_rows": null,
      "height": null,
      "justify_content": null,
      "justify_items": null,
      "left": null,
      "margin": null,
      "max_height": null,
      "max_width": null,
      "min_height": null,
      "min_width": null,
      "object_fit": null,
      "object_position": null,
      "order": null,
      "overflow": null,
      "overflow_x": null,
      "overflow_y": null,
      "padding": null,
      "right": null,
      "top": null,
      "visibility": null,
      "width": null
     }
    },
    "5a9e02c454b446fbb80aee2a84728e95": {
     "model_module": "@jupyter-widgets/base",
     "model_module_version": "1.2.0",
     "model_name": "LayoutModel",
     "state": {
      "_model_module": "@jupyter-widgets/base",
      "_model_module_version": "1.2.0",
      "_model_name": "LayoutModel",
      "_view_count": null,
      "_view_module": "@jupyter-widgets/base",
      "_view_module_version": "1.2.0",
      "_view_name": "LayoutView",
      "align_content": null,
      "align_items": null,
      "align_self": null,
      "border": null,
      "bottom": null,
      "display": null,
      "flex": null,
      "flex_flow": null,
      "grid_area": null,
      "grid_auto_columns": null,
      "grid_auto_flow": null,
      "grid_auto_rows": null,
      "grid_column": null,
      "grid_gap": null,
      "grid_row": null,
      "grid_template_areas": null,
      "grid_template_columns": null,
      "grid_template_rows": null,
      "height": null,
      "justify_content": null,
      "justify_items": null,
      "left": null,
      "margin": null,
      "max_height": null,
      "max_width": null,
      "min_height": null,
      "min_width": null,
      "object_fit": null,
      "object_position": null,
      "order": null,
      "overflow": null,
      "overflow_x": null,
      "overflow_y": null,
      "padding": null,
      "right": null,
      "top": null,
      "visibility": null,
      "width": null
     }
    },
    "5abd008b6aac458d9871c33a394ccb2e": {
     "model_module": "@jupyter-widgets/output",
     "model_module_version": "1.0.0",
     "model_name": "OutputModel",
     "state": {
      "_dom_classes": [],
      "_model_module": "@jupyter-widgets/output",
      "_model_module_version": "1.0.0",
      "_model_name": "OutputModel",
      "_view_count": null,
      "_view_module": "@jupyter-widgets/output",
      "_view_module_version": "1.0.0",
      "_view_name": "OutputView",
      "layout": "IPY_MODEL_6d59022c9c8f4b8f9b40c35e67d49283",
      "msg_id": "",
      "outputs": [
       {
        "data": {
         "text/html": "<pre style=\"white-space:pre;overflow-x:auto;line-height:normal;font-family:Menlo,'DejaVu Sans Mono',consolas,'Courier New',monospace\">                                                                                                                   \n <span style=\"font-weight: bold\"> Progress                  </span> <span style=\"font-weight: bold\"> Draws </span> <span style=\"font-weight: bold\"> Divergences </span> <span style=\"font-weight: bold\"> Step size </span> <span style=\"font-weight: bold\"> Grad evals </span> <span style=\"font-weight: bold\"> Sampling Speed </span> <span style=\"font-weight: bold\"> Elapsed </span> <span style=\"font-weight: bold\"> Remaining </span> \n ───────────────────────────────────────────────────────────────────────────────────────────────────────────────── \n  <span style=\"color: #1f77b4; text-decoration-color: #1f77b4\">━━━━━━━━━━━━━━━━━━━━━━━━━</span>   10000   0             0.12        15           22.62 draws/s    0:07:22   0:00:00    \n  <span style=\"color: #1f77b4; text-decoration-color: #1f77b4\">━━━━━━━━━━━━━━━━━━━━━━━━━</span>   10000   0             0.12        31           11.56 draws/s    0:14:24   0:00:00    \n                                                                                                                   \n</pre>\n",
         "text/plain": "                                                                                                                   \n \u001b[1m \u001b[0m\u001b[1mProgress                 \u001b[0m\u001b[1m \u001b[0m \u001b[1m \u001b[0m\u001b[1mDraws\u001b[0m\u001b[1m \u001b[0m \u001b[1m \u001b[0m\u001b[1mDivergences\u001b[0m\u001b[1m \u001b[0m \u001b[1m \u001b[0m\u001b[1mStep size\u001b[0m\u001b[1m \u001b[0m \u001b[1m \u001b[0m\u001b[1mGrad evals\u001b[0m\u001b[1m \u001b[0m \u001b[1m \u001b[0m\u001b[1mSampling Speed\u001b[0m\u001b[1m \u001b[0m \u001b[1m \u001b[0m\u001b[1mElapsed\u001b[0m\u001b[1m \u001b[0m \u001b[1m \u001b[0m\u001b[1mRemaining\u001b[0m\u001b[1m \u001b[0m \n ───────────────────────────────────────────────────────────────────────────────────────────────────────────────── \n  \u001b[38;2;31;119;180m━━━━━━━━━━━━━━━━━━━━━━━━━\u001b[0m   10000   0             0.12        15           22.62 draws/s    0:07:22   0:00:00    \n  \u001b[38;2;31;119;180m━━━━━━━━━━━━━━━━━━━━━━━━━\u001b[0m   10000   0             0.12        31           11.56 draws/s    0:14:24   0:00:00    \n                                                                                                                   \n"
        },
        "metadata": {},
        "output_type": "display_data"
       }
      ]
     }
    },
    "5ffff8dbd9c846b2b03b1df7c98c2d76": {
     "model_module": "@jupyter-widgets/output",
     "model_module_version": "1.0.0",
     "model_name": "OutputModel",
     "state": {
      "_dom_classes": [],
      "_model_module": "@jupyter-widgets/output",
      "_model_module_version": "1.0.0",
      "_model_name": "OutputModel",
      "_view_count": null,
      "_view_module": "@jupyter-widgets/output",
      "_view_module_version": "1.0.0",
      "_view_name": "OutputView",
      "layout": "IPY_MODEL_209913818f8a4f18aeb1b595ec1cda6b",
      "msg_id": "",
      "outputs": [
       {
        "data": {
         "text/html": "<pre style=\"white-space:pre;overflow-x:auto;line-height:normal;font-family:Menlo,'DejaVu Sans Mono',consolas,'Courier New',monospace\">                                                                                                                   \n <span style=\"font-weight: bold\"> Progress                  </span> <span style=\"font-weight: bold\"> Draws </span> <span style=\"font-weight: bold\"> Divergences </span> <span style=\"font-weight: bold\"> Step size </span> <span style=\"font-weight: bold\"> Grad evals </span> <span style=\"font-weight: bold\"> Sampling Speed </span> <span style=\"font-weight: bold\"> Elapsed </span> <span style=\"font-weight: bold\"> Remaining </span> \n ───────────────────────────────────────────────────────────────────────────────────────────────────────────────── \n  <span style=\"color: #1f77b4; text-decoration-color: #1f77b4\">━━━━━━━━━━━━━━━━━━━━━━━━━</span>   10000   0             0.16        7            42.37 draws/s    0:03:56   0:00:00    \n  <span style=\"color: #1f77b4; text-decoration-color: #1f77b4\">━━━━━━━━━━━━━━━━━━━━━━━━━</span>   10000   0             0.18        31           20.93 draws/s    0:07:57   0:00:00    \n                                                                                                                   \n</pre>\n",
         "text/plain": "                                                                                                                   \n \u001b[1m \u001b[0m\u001b[1mProgress                 \u001b[0m\u001b[1m \u001b[0m \u001b[1m \u001b[0m\u001b[1mDraws\u001b[0m\u001b[1m \u001b[0m \u001b[1m \u001b[0m\u001b[1mDivergences\u001b[0m\u001b[1m \u001b[0m \u001b[1m \u001b[0m\u001b[1mStep size\u001b[0m\u001b[1m \u001b[0m \u001b[1m \u001b[0m\u001b[1mGrad evals\u001b[0m\u001b[1m \u001b[0m \u001b[1m \u001b[0m\u001b[1mSampling Speed\u001b[0m\u001b[1m \u001b[0m \u001b[1m \u001b[0m\u001b[1mElapsed\u001b[0m\u001b[1m \u001b[0m \u001b[1m \u001b[0m\u001b[1mRemaining\u001b[0m\u001b[1m \u001b[0m \n ───────────────────────────────────────────────────────────────────────────────────────────────────────────────── \n  \u001b[38;2;31;119;180m━━━━━━━━━━━━━━━━━━━━━━━━━\u001b[0m   10000   0             0.16        7            42.37 draws/s    0:03:56   0:00:00    \n  \u001b[38;2;31;119;180m━━━━━━━━━━━━━━━━━━━━━━━━━\u001b[0m   10000   0             0.18        31           20.93 draws/s    0:07:57   0:00:00    \n                                                                                                                   \n"
        },
        "metadata": {},
        "output_type": "display_data"
       }
      ]
     }
    },
    "6d59022c9c8f4b8f9b40c35e67d49283": {
     "model_module": "@jupyter-widgets/base",
     "model_module_version": "1.2.0",
     "model_name": "LayoutModel",
     "state": {
      "_model_module": "@jupyter-widgets/base",
      "_model_module_version": "1.2.0",
      "_model_name": "LayoutModel",
      "_view_count": null,
      "_view_module": "@jupyter-widgets/base",
      "_view_module_version": "1.2.0",
      "_view_name": "LayoutView",
      "align_content": null,
      "align_items": null,
      "align_self": null,
      "border": null,
      "bottom": null,
      "display": null,
      "flex": null,
      "flex_flow": null,
      "grid_area": null,
      "grid_auto_columns": null,
      "grid_auto_flow": null,
      "grid_auto_rows": null,
      "grid_column": null,
      "grid_gap": null,
      "grid_row": null,
      "grid_template_areas": null,
      "grid_template_columns": null,
      "grid_template_rows": null,
      "height": null,
      "justify_content": null,
      "justify_items": null,
      "left": null,
      "margin": null,
      "max_height": null,
      "max_width": null,
      "min_height": null,
      "min_width": null,
      "object_fit": null,
      "object_position": null,
      "order": null,
      "overflow": null,
      "overflow_x": null,
      "overflow_y": null,
      "padding": null,
      "right": null,
      "top": null,
      "visibility": null,
      "width": null
     }
    },
    "75d62bf22139471dac43b28a35d67d03": {
     "model_module": "@jupyter-widgets/output",
     "model_module_version": "1.0.0",
     "model_name": "OutputModel",
     "state": {
      "_dom_classes": [],
      "_model_module": "@jupyter-widgets/output",
      "_model_module_version": "1.0.0",
      "_model_name": "OutputModel",
      "_view_count": null,
      "_view_module": "@jupyter-widgets/output",
      "_view_module_version": "1.0.0",
      "_view_name": "OutputView",
      "layout": "IPY_MODEL_5a9e02c454b446fbb80aee2a84728e95",
      "msg_id": "",
      "outputs": [
       {
        "data": {
         "text/html": "<pre style=\"white-space:pre;overflow-x:auto;line-height:normal;font-family:Menlo,'DejaVu Sans Mono',consolas,'Courier New',monospace\">                                                                                                                   \n <span style=\"font-weight: bold\"> Progress                  </span> <span style=\"font-weight: bold\"> Draws </span> <span style=\"font-weight: bold\"> Divergences </span> <span style=\"font-weight: bold\"> Step size </span> <span style=\"font-weight: bold\"> Grad evals </span> <span style=\"font-weight: bold\"> Sampling Speed </span> <span style=\"font-weight: bold\"> Elapsed </span> <span style=\"font-weight: bold\"> Remaining </span> \n ───────────────────────────────────────────────────────────────────────────────────────────────────────────────── \n  <span style=\"color: #1f77b4; text-decoration-color: #1f77b4\">━━━━━━━━━━━━━━━━━━━━━━━━━</span>   10000   0             0.09        15           21.24 draws/s    0:07:50   0:00:00    \n  <span style=\"color: #1f77b4; text-decoration-color: #1f77b4\">━━━━━━━━━━━━━━━━━━━━━━━━━</span>   10000   0             0.09        31           10.29 draws/s    0:16:11   0:00:00    \n                                                                                                                   \n</pre>\n",
         "text/plain": "                                                                                                                   \n \u001b[1m \u001b[0m\u001b[1mProgress                 \u001b[0m\u001b[1m \u001b[0m \u001b[1m \u001b[0m\u001b[1mDraws\u001b[0m\u001b[1m \u001b[0m \u001b[1m \u001b[0m\u001b[1mDivergences\u001b[0m\u001b[1m \u001b[0m \u001b[1m \u001b[0m\u001b[1mStep size\u001b[0m\u001b[1m \u001b[0m \u001b[1m \u001b[0m\u001b[1mGrad evals\u001b[0m\u001b[1m \u001b[0m \u001b[1m \u001b[0m\u001b[1mSampling Speed\u001b[0m\u001b[1m \u001b[0m \u001b[1m \u001b[0m\u001b[1mElapsed\u001b[0m\u001b[1m \u001b[0m \u001b[1m \u001b[0m\u001b[1mRemaining\u001b[0m\u001b[1m \u001b[0m \n ───────────────────────────────────────────────────────────────────────────────────────────────────────────────── \n  \u001b[38;2;31;119;180m━━━━━━━━━━━━━━━━━━━━━━━━━\u001b[0m   10000   0             0.09        15           21.24 draws/s    0:07:50   0:00:00    \n  \u001b[38;2;31;119;180m━━━━━━━━━━━━━━━━━━━━━━━━━\u001b[0m   10000   0             0.09        31           10.29 draws/s    0:16:11   0:00:00    \n                                                                                                                   \n"
        },
        "metadata": {},
        "output_type": "display_data"
       }
      ]
     }
    },
    "98cf5c3efa5e4888a6ea31a6ca25d748": {
     "model_module": "@jupyter-widgets/output",
     "model_module_version": "1.0.0",
     "model_name": "OutputModel",
     "state": {
      "_dom_classes": [],
      "_model_module": "@jupyter-widgets/output",
      "_model_module_version": "1.0.0",
      "_model_name": "OutputModel",
      "_view_count": null,
      "_view_module": "@jupyter-widgets/output",
      "_view_module_version": "1.0.0",
      "_view_name": "OutputView",
      "layout": "IPY_MODEL_a2a841cd09834b7ba42c1a6b283517ea",
      "msg_id": "",
      "outputs": [
       {
        "data": {
         "text/html": "<pre style=\"white-space:pre;overflow-x:auto;line-height:normal;font-family:Menlo,'DejaVu Sans Mono',consolas,'Courier New',monospace\">                                                                                                                   \n <span style=\"font-weight: bold\"> Progress                  </span> <span style=\"font-weight: bold\"> Draws </span> <span style=\"font-weight: bold\"> Divergences </span> <span style=\"font-weight: bold\"> Step size </span> <span style=\"font-weight: bold\"> Grad evals </span> <span style=\"font-weight: bold\"> Sampling Speed </span> <span style=\"font-weight: bold\"> Elapsed </span> <span style=\"font-weight: bold\"> Remaining </span> \n ───────────────────────────────────────────────────────────────────────────────────────────────────────────────── \n  <span style=\"color: #d62728; text-decoration-color: #d62728\">━━━━━━━━━━━━━━━━━━━━━━━━━</span>   10000   9             0.00        511          1.53 draws/s     1:49:13   0:00:00    \n  <span style=\"color: #d62728; text-decoration-color: #d62728\">━━━━━━━━━━━━━━━━━━━━━━━━━</span>   10000   9             0.01        511          1.30 s/draws     3:36:03   0:00:00    \n                                                                                                                   \n</pre>\n",
         "text/plain": "                                                                                                                   \n \u001b[1m \u001b[0m\u001b[1mProgress                 \u001b[0m\u001b[1m \u001b[0m \u001b[1m \u001b[0m\u001b[1mDraws\u001b[0m\u001b[1m \u001b[0m \u001b[1m \u001b[0m\u001b[1mDivergences\u001b[0m\u001b[1m \u001b[0m \u001b[1m \u001b[0m\u001b[1mStep size\u001b[0m\u001b[1m \u001b[0m \u001b[1m \u001b[0m\u001b[1mGrad evals\u001b[0m\u001b[1m \u001b[0m \u001b[1m \u001b[0m\u001b[1mSampling Speed\u001b[0m\u001b[1m \u001b[0m \u001b[1m \u001b[0m\u001b[1mElapsed\u001b[0m\u001b[1m \u001b[0m \u001b[1m \u001b[0m\u001b[1mRemaining\u001b[0m\u001b[1m \u001b[0m \n ───────────────────────────────────────────────────────────────────────────────────────────────────────────────── \n  \u001b[38;2;214;39;40m━━━━━━━━━━━━━━━━━━━━━━━━━\u001b[0m   10000   9             0.00        511          1.53 draws/s     1:49:13   0:00:00    \n  \u001b[38;2;214;39;40m━━━━━━━━━━━━━━━━━━━━━━━━━\u001b[0m   10000   9             0.01        511          1.30 s/draws     3:36:03   0:00:00    \n                                                                                                                   \n"
        },
        "metadata": {},
        "output_type": "display_data"
       }
      ]
     }
    },
    "a2a841cd09834b7ba42c1a6b283517ea": {
     "model_module": "@jupyter-widgets/base",
     "model_module_version": "1.2.0",
     "model_name": "LayoutModel",
     "state": {
      "_model_module": "@jupyter-widgets/base",
      "_model_module_version": "1.2.0",
      "_model_name": "LayoutModel",
      "_view_count": null,
      "_view_module": "@jupyter-widgets/base",
      "_view_module_version": "1.2.0",
      "_view_name": "LayoutView",
      "align_content": null,
      "align_items": null,
      "align_self": null,
      "border": null,
      "bottom": null,
      "display": null,
      "flex": null,
      "flex_flow": null,
      "grid_area": null,
      "grid_auto_columns": null,
      "grid_auto_flow": null,
      "grid_auto_rows": null,
      "grid_column": null,
      "grid_gap": null,
      "grid_row": null,
      "grid_template_areas": null,
      "grid_template_columns": null,
      "grid_template_rows": null,
      "height": null,
      "justify_content": null,
      "justify_items": null,
      "left": null,
      "margin": null,
      "max_height": null,
      "max_width": null,
      "min_height": null,
      "min_width": null,
      "object_fit": null,
      "object_position": null,
      "order": null,
      "overflow": null,
      "overflow_x": null,
      "overflow_y": null,
      "padding": null,
      "right": null,
      "top": null,
      "visibility": null,
      "width": null
     }
    },
    "b8c6155e38f643518329e2ee4b98dfd2": {
     "model_module": "@jupyter-widgets/output",
     "model_module_version": "1.0.0",
     "model_name": "OutputModel",
     "state": {
      "_dom_classes": [],
      "_model_module": "@jupyter-widgets/output",
      "_model_module_version": "1.0.0",
      "_model_name": "OutputModel",
      "_view_count": null,
      "_view_module": "@jupyter-widgets/output",
      "_view_module_version": "1.0.0",
      "_view_name": "OutputView",
      "layout": "IPY_MODEL_20864435ffd8445da241dc9574520c30",
      "msg_id": "",
      "outputs": [
       {
        "data": {
         "text/html": "<pre style=\"white-space:pre;overflow-x:auto;line-height:normal;font-family:Menlo,'DejaVu Sans Mono',consolas,'Courier New',monospace\">                                                                                                                   \n <span style=\"font-weight: bold\"> Progress                  </span> <span style=\"font-weight: bold\"> Draws </span> <span style=\"font-weight: bold\"> Divergences </span> <span style=\"font-weight: bold\"> Step size </span> <span style=\"font-weight: bold\"> Grad evals </span> <span style=\"font-weight: bold\"> Sampling Speed </span> <span style=\"font-weight: bold\"> Elapsed </span> <span style=\"font-weight: bold\"> Remaining </span> \n ───────────────────────────────────────────────────────────────────────────────────────────────────────────────── \n  <span style=\"color: #d62728; text-decoration-color: #d62728\">━━━━━━━━━━━━━━━━━━━━━━━━━</span>   10000   16            0.01        255          2.07 draws/s     1:20:42   0:00:00    \n  <span style=\"color: #d62728; text-decoration-color: #d62728\">━━━━━━━━━━━━━━━━━━━━━━━━━</span>   10000   3             0.01        511          1.06 s/draws     2:56:59   0:00:00    \n                                                                                                                   \n</pre>\n",
         "text/plain": "                                                                                                                   \n \u001b[1m \u001b[0m\u001b[1mProgress                 \u001b[0m\u001b[1m \u001b[0m \u001b[1m \u001b[0m\u001b[1mDraws\u001b[0m\u001b[1m \u001b[0m \u001b[1m \u001b[0m\u001b[1mDivergences\u001b[0m\u001b[1m \u001b[0m \u001b[1m \u001b[0m\u001b[1mStep size\u001b[0m\u001b[1m \u001b[0m \u001b[1m \u001b[0m\u001b[1mGrad evals\u001b[0m\u001b[1m \u001b[0m \u001b[1m \u001b[0m\u001b[1mSampling Speed\u001b[0m\u001b[1m \u001b[0m \u001b[1m \u001b[0m\u001b[1mElapsed\u001b[0m\u001b[1m \u001b[0m \u001b[1m \u001b[0m\u001b[1mRemaining\u001b[0m\u001b[1m \u001b[0m \n ───────────────────────────────────────────────────────────────────────────────────────────────────────────────── \n  \u001b[38;2;214;39;40m━━━━━━━━━━━━━━━━━━━━━━━━━\u001b[0m   10000   16            0.01        255          2.07 draws/s     1:20:42   0:00:00    \n  \u001b[38;2;214;39;40m━━━━━━━━━━━━━━━━━━━━━━━━━\u001b[0m   10000   3             0.01        511          1.06 s/draws     2:56:59   0:00:00    \n                                                                                                                   \n"
        },
        "metadata": {},
        "output_type": "display_data"
       }
      ]
     }
    }
   }
  }
 },
 "nbformat": 4,
 "nbformat_minor": 0
}
